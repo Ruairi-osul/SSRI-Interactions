{
 "cells": [
  {
   "cell_type": "code",
   "execution_count": 1,
   "metadata": {},
   "outputs": [
    {
     "name": "stderr",
     "output_type": "stream",
     "text": [
      "/opt/miniconda3/envs/ssri/lib/python3.8/site-packages/outdated/utils.py:14: OutdatedPackageWarning: The package pingouin is out of date. Your version is 0.5.1, the latest is 0.5.2.\n",
      "Set the environment variable OUTDATED_IGNORE=1 to disable these warnings.\n",
      "  return warn(\n"
     ]
    }
   ],
   "source": [
    "from ssri_interactions.interactions.loaders import SpontaneousActivityLoader\n",
    "from ssri_interactions.io import load_derived_generic\n",
    "from ssri_interactions.interactions.preprocessors import InteractionsPreprocessor\n",
    "from ssri_interactions.interactions.seqnmf import SeqNMF\n",
    "import pandas as pd\n",
    "from ssri_interactions.config import Config"
   ]
  },
  {
   "cell_type": "code",
   "execution_count": 2,
   "metadata": {},
   "outputs": [],
   "source": [
    "neuron_types = load_derived_generic('neuron_types.csv')\n",
    "sessions = neuron_types[\"session_name\"].dropna().unique()\n",
    "\n",
    "res = []\n",
    "Ks = [6]\n",
    "Ls = [10,]\n",
    "bin_widths = [0.05, 0.1, 0.5, 1]\n",
    "\n",
    "loader_fac = lambda session_name, bin_width: SpontaneousActivityLoader(session_name=session_name, bin_width=bin_width, shuffle=False)\n",
    "preprocessor_fac = lambda: InteractionsPreprocessor(z=False, minmax=True, gaussian_sigma=None)\n",
    "model_fac = lambda K, L, Lambda: SeqNMF(K, L, Lambda)\n",
    "\n",
    "\n",
    "for session in sessions:\n",
    "    for k in Ks:\n",
    "        for l in Ls:\n",
    "            for bin_width in bin_widths:\n",
    "                loader = loader_fac(session, bin_width,)\n",
    "                preprocessor = preprocessor_fac()\n",
    "                model = model_fac(k, l, 0.1)\n",
    "                spikes = preprocessor(loader())\n",
    "                score = model.sequenciness_score(spikes.T)\n",
    "                res.append({\n",
    "                    \"session_name\": session,\n",
    "                    \"k\": k,\n",
    "                    \"L\": l,\n",
    "                    \"bin_width\": bin_width,\n",
    "                    \"score\": score,\n",
    "                })\n"
   ]
  },
  {
   "cell_type": "code",
   "execution_count": 6,
   "metadata": {},
   "outputs": [],
   "source": [
    "df_out = pd.DataFrame.from_records(res)\n",
    "dd = Config.derived_data_dir\n",
    "\n",
    "df_out.to_csv(dd / \"seqnmf_sequenciness_scores.csv\")"
   ]
  },
  {
   "cell_type": "code",
   "execution_count": null,
   "metadata": {},
   "outputs": [],
   "source": []
  }
 ],
 "metadata": {
  "kernelspec": {
   "display_name": "Python 3.9.12 ('ssri')",
   "language": "python",
   "name": "python3"
  },
  "language_info": {
   "codemirror_mode": {
    "name": "ipython",
    "version": 3
   },
   "file_extension": ".py",
   "mimetype": "text/x-python",
   "name": "python",
   "nbconvert_exporter": "python",
   "pygments_lexer": "ipython3",
   "version": "3.9.12"
  },
  "orig_nbformat": 4,
  "vscode": {
   "interpreter": {
    "hash": "43cbdb6d61dab472ca36965b8e063b8466d44641e4bc0dd430fcfe888de07997"
   }
  }
 },
 "nbformat": 4,
 "nbformat_minor": 2
}

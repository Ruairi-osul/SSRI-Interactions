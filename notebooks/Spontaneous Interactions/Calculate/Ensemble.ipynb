{
 "cells": [
  {
   "cell_type": "code",
   "execution_count": 1,
   "metadata": {},
   "outputs": [
    {
     "name": "stderr",
     "output_type": "stream",
     "text": [
      "c:\\ProgramData\\Miniconda3\\envs\\ssri\\lib\\site-packages\\outdated\\utils.py:14: OutdatedPackageWarning: The package outdated is out of date. Your version is 0.2.1, the latest is 0.2.2.\n",
      "Set the environment variable OUTDATED_IGNORE=1 to disable these warnings.\n",
      "  return warn(\n"
     ]
    }
   ],
   "source": [
    "from ssri_interactions.interactions.preprocessors import InteractionsPreprocessor\n",
    "from ssri_interactions.interactions.loaders import SpontaneousActivityLoader\n",
    "from ssri_interactions.interactions.pairwise import PairwiseCorr\n",
    "from ssri_interactions.io import load_neurons, load_derived_generic\n",
    "import seaborn as sns\n",
    "import pandas as pd\n",
    "import numpy as np\n",
    "from ssri_interactions.interactions.graph_clustering import SpectralCluster, ClusterRunner, ClusterEvaluation, ClusterResults\n",
    "import warnings\n",
    "from ssri_interactions.config import Config\n",
    "\n",
    "dd = Config.derived_data_dir / \"ensembles\"\n",
    "dd.mkdir(exist_ok=True)"
   ]
  },
  {
   "cell_type": "code",
   "execution_count": 2,
   "metadata": {},
   "outputs": [],
   "source": [
    "def reorder_df_affinity(df, ensemble_labels):\n",
    "    idx = np.argsort(ensemble_labels)\n",
    "    return df.iloc[idx, idx]\n",
    "\n",
    "def get_true(df, bin_width=1, shuffle=False):\n",
    "    return df.query(\"bin_width == @bin_width and shuffle == @shuffle\")\n",
    "\n",
    "def get_labels_from_df_ensembles(df_ensembles, session):\n",
    "    return (\n",
    "        df_ensembles\n",
    "        .query(\"session_name == @session\")\n",
    "        .sort_values(\"neuron_id\")\n",
    "        [\"ensemble\"]\n",
    "        .values\n",
    "    )\n",
    "\n",
    "def get_affinity(session):\n",
    "    loader = SpontaneousActivityLoader(bin_width=1, shuffle=False, session_name=session)\n",
    "    preprocessor = InteractionsPreprocessor()\n",
    "    pairwise = PairwiseCorr(rectify=True)\n",
    "\n",
    "    spikes = preprocessor(loader())\n",
    "    return pairwise.fit(spikes).get_adjacency_df()\n"
   ]
  },
  {
   "cell_type": "code",
   "execution_count": 3,
   "metadata": {},
   "outputs": [],
   "source": [
    "sessions = load_neurons()[\"session_name\"].unique()\n",
    "\n",
    "preprocessor = InteractionsPreprocessor(z=True, minmax=False)\n",
    "evaluator = ClusterEvaluation()\n",
    "\n",
    "loader_fac = lambda bin_width, session, shuffle: SpontaneousActivityLoader(\n",
    "    bin_width=bin_width, session_name=session, shuffle=shuffle\n",
    ")\n",
    "corr_fac = lambda: PairwiseCorr(\n",
    "    remove_self_interactions=True,\n",
    "    rectify=True,\n",
    "    shuffle=False,\n",
    "    remove_duplicate_combs=True,\n",
    ")\n",
    "cluster_fac = lambda: SpectralCluster(\n",
    "    n_clusters=np.arange(2, 10), spectral_kws={\"affinity\": \"precomputed\"}, n_init=15\n",
    ")\n",
    "\n",
    "runner_fac = lambda bin_width, session, shuffle_load: ClusterRunner(\n",
    "    loader=loader_fac(bin_width, session, shuffle_load),\n",
    "    preprocessor=preprocessor,\n",
    "    affinity_calculator=corr_fac(),\n",
    "    clusterer=cluster_fac(),\n",
    "    evalulator=evaluator,\n",
    ")"
   ]
  },
  {
   "cell_type": "markdown",
   "metadata": {},
   "source": [
    "### Dectect Ensembles at Multiple Timescales & Compare to Shuffle"
   ]
  },
  {
   "cell_type": "code",
   "execution_count": 4,
   "metadata": {},
   "outputs": [],
   "source": [
    "ensemble_frames = []\n",
    "ensemble_stats_frames = []\n",
    "current_max = 1\n",
    "bin_widths = (0.05, 0.1, 0.5, 1, 2)\n",
    "nboot = 50\n",
    "\n",
    "for shuffle in (False,):\n",
    "    for bin_width in bin_widths:\n",
    "        for session in sessions:\n",
    "\n",
    "            # calculate ensembles\n",
    "            runner = runner_fac(bin_width, session, shuffle)\n",
    "            with warnings.catch_warnings():\n",
    "                warnings.simplefilter(\"ignore\")\n",
    "                _, ensembles, _, ensemble_stats = runner.run(20)\n",
    "\n",
    "            # update ensembles to global max\n",
    "            ensembles[\"ensemble\"] = np.where(\n",
    "                ensembles[\"ensemble\"] != -1, ensembles[\"ensemble\"] + current_max, -1\n",
    "            )\n",
    "            ensemble_stats[\"ensemble\"] = np.where(\n",
    "                ensemble_stats[\"ensemble\"] != -1,\n",
    "                ensemble_stats[\"ensemble\"] + current_max,\n",
    "                -1,\n",
    "            )\n",
    "            current_max = ensembles[\"ensemble\"].abs().max() + 1\n",
    "\n",
    "            # add metadata and append to list of results\n",
    "            ensembles = ensembles.assign(\n",
    "                session_name=session, shuffle=shuffle, bin_width=bin_width\n",
    "            )\n",
    "            ensemble_stats = ensemble_stats.assign(\n",
    "                session_name=session, shuffle=shuffle, bin_width=bin_width\n",
    "            )\n",
    "            ensemble_stats_frames.append(ensemble_stats)\n",
    "            ensemble_frames.append(ensembles)\n",
    "\n",
    "\n",
    "df_ensembles = pd.concat(ensemble_frames).reset_index(drop=True)\n",
    "df_ensembles_stats = pd.concat(ensemble_stats_frames).reset_index(drop=True)\n",
    "\n",
    "dd = Config.derived_data_dir / \"ensembles\"\n",
    "dd.mkdir(exist_ok=True)\n",
    "df_ensembles.to_csv(dd / \"spont - ensembles.csv\", index=False)\n",
    "df_ensembles_stats.to_csv(dd / \"spont - stats.csv\", index=False)"
   ]
  },
  {
   "cell_type": "code",
   "execution_count": null,
   "metadata": {},
   "outputs": [],
   "source": []
  },
  {
   "cell_type": "markdown",
   "metadata": {},
   "source": [
    "### Subset Out 1 Sec, Non-Shuffled Ensembles & Calculate Descriptive Status"
   ]
  },
  {
   "cell_type": "code",
   "execution_count": 7,
   "metadata": {},
   "outputs": [
    {
     "name": "stderr",
     "output_type": "stream",
     "text": [
      "c:\\ProgramData\\Miniconda3\\envs\\ssri\\lib\\site-packages\\numpy\\core\\fromnumeric.py:3474: RuntimeWarning: Mean of empty slice.\n",
      "  return _methods._mean(a, axis=axis, dtype=dtype,\n",
      "c:\\ProgramData\\Miniconda3\\envs\\ssri\\lib\\site-packages\\numpy\\core\\_methods.py:189: RuntimeWarning: invalid value encountered in double_scalars\n",
      "  ret = ret.dtype.type(ret / rcount)\n",
      "c:\\ProgramData\\Miniconda3\\envs\\ssri\\lib\\site-packages\\numpy\\core\\fromnumeric.py:3474: RuntimeWarning: Mean of empty slice.\n",
      "  return _methods._mean(a, axis=axis, dtype=dtype,\n",
      "c:\\ProgramData\\Miniconda3\\envs\\ssri\\lib\\site-packages\\numpy\\core\\_methods.py:189: RuntimeWarning: invalid value encountered in double_scalars\n",
      "  ret = ret.dtype.type(ret / rcount)\n",
      "c:\\ProgramData\\Miniconda3\\envs\\ssri\\lib\\site-packages\\numpy\\core\\fromnumeric.py:3474: RuntimeWarning: Mean of empty slice.\n",
      "  return _methods._mean(a, axis=axis, dtype=dtype,\n",
      "c:\\ProgramData\\Miniconda3\\envs\\ssri\\lib\\site-packages\\numpy\\core\\_methods.py:189: RuntimeWarning: invalid value encountered in double_scalars\n",
      "  ret = ret.dtype.type(ret / rcount)\n",
      "c:\\ProgramData\\Miniconda3\\envs\\ssri\\lib\\site-packages\\numpy\\core\\fromnumeric.py:3474: RuntimeWarning: Mean of empty slice.\n",
      "  return _methods._mean(a, axis=axis, dtype=dtype,\n",
      "c:\\ProgramData\\Miniconda3\\envs\\ssri\\lib\\site-packages\\numpy\\core\\_methods.py:189: RuntimeWarning: invalid value encountered in double_scalars\n",
      "  ret = ret.dtype.type(ret / rcount)\n",
      "c:\\ProgramData\\Miniconda3\\envs\\ssri\\lib\\site-packages\\numpy\\core\\fromnumeric.py:3474: RuntimeWarning: Mean of empty slice.\n",
      "  return _methods._mean(a, axis=axis, dtype=dtype,\n",
      "c:\\ProgramData\\Miniconda3\\envs\\ssri\\lib\\site-packages\\numpy\\core\\_methods.py:189: RuntimeWarning: invalid value encountered in double_scalars\n",
      "  ret = ret.dtype.type(ret / rcount)\n",
      "c:\\ProgramData\\Miniconda3\\envs\\ssri\\lib\\site-packages\\numpy\\core\\fromnumeric.py:3474: RuntimeWarning: Mean of empty slice.\n",
      "  return _methods._mean(a, axis=axis, dtype=dtype,\n",
      "c:\\ProgramData\\Miniconda3\\envs\\ssri\\lib\\site-packages\\numpy\\core\\_methods.py:189: RuntimeWarning: invalid value encountered in double_scalars\n",
      "  ret = ret.dtype.type(ret / rcount)\n",
      "c:\\ProgramData\\Miniconda3\\envs\\ssri\\lib\\site-packages\\numpy\\core\\fromnumeric.py:3474: RuntimeWarning: Mean of empty slice.\n",
      "  return _methods._mean(a, axis=axis, dtype=dtype,\n",
      "c:\\ProgramData\\Miniconda3\\envs\\ssri\\lib\\site-packages\\numpy\\core\\_methods.py:189: RuntimeWarning: invalid value encountered in double_scalars\n",
      "  ret = ret.dtype.type(ret / rcount)\n",
      "c:\\ProgramData\\Miniconda3\\envs\\ssri\\lib\\site-packages\\numpy\\core\\fromnumeric.py:3474: RuntimeWarning: Mean of empty slice.\n",
      "  return _methods._mean(a, axis=axis, dtype=dtype,\n",
      "c:\\ProgramData\\Miniconda3\\envs\\ssri\\lib\\site-packages\\numpy\\core\\_methods.py:189: RuntimeWarning: invalid value encountered in double_scalars\n",
      "  ret = ret.dtype.type(ret / rcount)\n"
     ]
    }
   ],
   "source": [
    "dd = Config.derived_data_dir / \"ensembles\"\n",
    "df_ensembles = pd.read_csv(dd / \"spont - ensembles.csv\", )\n",
    "df_ensembles_stats= pd.read_csv(dd / \"spont - stats.csv\")\n",
    "evalulater = ClusterEvaluation()\n",
    "true_ensembles = df_ensembles.pipe(get_true)\n",
    "sessions = true_ensembles.session_name.unique()\n",
    "partition_frames = []\n",
    "stats_frames = []\n",
    "\n",
    "for session in sessions:\n",
    "    labs = get_labels_from_df_ensembles(true_ensembles, session)\n",
    "    df_affinity = get_affinity(session)\n",
    "    partition_frames.append(\n",
    "        evalulater.evaluate_partition(df_affinity, labs)\n",
    "        .assign(session_name=session)\n",
    "    )\n",
    "    stats_frames.append(\n",
    "        evalulater.evaluate_communities(df_affinity, labs)\n",
    "        .assign(session_name=session)\n",
    "    )\n",
    "\n",
    "stats = pd.concat(stats_frames).reset_index(drop=True)\n",
    "\n",
    "stats[\"ensemble_id\"] = pd.factorize(stats[\"community\"].astype(str) + stats[\"session_name\"])[0]\n",
    "stats[\"ensemble_id\"] = np.where(\n",
    "    stats[\"community\"] == -1,\n",
    "    -1,\n",
    "    stats[\"ensemble_id\"],\n",
    ")\n",
    "true_ensembles = (\n",
    "    stats\n",
    "    .rename(columns=dict(community=\"ensemble\"))\n",
    "    [[\"session_name\", \"ensemble\", \"ensemble_id\"]]\n",
    "    .merge(true_ensembles, on=[\"session_name\", \"ensemble\"])\n",
    ")\n",
    "\n",
    "\n",
    "neuron_types = load_derived_generic(\"neuron_types.csv\")\n",
    "descriptor = ClusterResults(\n",
    "    neuron_types=neuron_types\n",
    ")\n",
    "stats = descriptor.ensemble_results(true_ensembles, stats)"
   ]
  },
  {
   "cell_type": "code",
   "execution_count": 8,
   "metadata": {},
   "outputs": [],
   "source": [
    "# response entropy\n",
    "\n",
    "slow_responders_shock = load_derived_generic(\"slow_ts_foot_shock_unit_responders_pre_to_shock.csv\")\n",
    "fast_responders = load_derived_generic(\"fast_fs_foot_shock_unit_responders.csv\").assign(response=lambda x: x.fs_fast_response)\n",
    "second_window = load_derived_generic(\"fast_fs_foot_shock_unit_responders_second_window.csv\").assign(response=lambda x: x.response_second_window)\n",
    "\n",
    "\n",
    "res_slow = descriptor.ensemble_response_entropy(\n",
    "    true_ensembles,\n",
    "    slow_responders_shock,\n",
    "    created_col=\"fs_slow_entropy\",\n",
    ")\n",
    "fast_responders = descriptor.ensemble_response_entropy(\n",
    "    true_ensembles,\n",
    "    slow_responders_shock,\n",
    "    created_col=\"fs_fast_entropy\",\n",
    ")\n",
    "res_bs = descriptor.ensemble_response_entropy(\n",
    "    true_ensembles,\n",
    "    second_window,\n",
    "    created_col=\"second_widnow_entropy\",\n",
    ")\n",
    "response_entropy = res_slow.merge(fast_responders, how=\"outer\").merge(res_bs, how=\"outer\")\n",
    "\n",
    "stats = stats.merge(response_entropy, how=\"outer\")"
   ]
  },
  {
   "cell_type": "code",
   "execution_count": 9,
   "metadata": {},
   "outputs": [],
   "source": [
    "dd = Config.derived_data_dir / \"ensembles\"\n",
    "dd.mkdir(exist_ok=True)\n",
    "true_ensembles.to_csv(dd / \"spont - ensembles - true.csv\", index=False)\n",
    "stats.to_csv(dd / \"spont - stats - true.csv\", index=False)"
   ]
  }
 ],
 "metadata": {
  "kernelspec": {
   "display_name": "Python 3.9.12 ('ssri')",
   "language": "python",
   "name": "python3"
  },
  "language_info": {
   "codemirror_mode": {
    "name": "ipython",
    "version": 3
   },
   "file_extension": ".py",
   "mimetype": "text/x-python",
   "name": "python",
   "nbconvert_exporter": "python",
   "pygments_lexer": "ipython3",
   "version": "3.9.12"
  },
  "orig_nbformat": 4,
  "vscode": {
   "interpreter": {
    "hash": "43cbdb6d61dab472ca36965b8e063b8466d44641e4bc0dd430fcfe888de07997"
   }
  }
 },
 "nbformat": 4,
 "nbformat_minor": 2
}

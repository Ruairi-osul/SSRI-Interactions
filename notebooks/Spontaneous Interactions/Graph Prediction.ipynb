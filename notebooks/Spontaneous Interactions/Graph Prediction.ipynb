{
 "cells": [
  {
   "cell_type": "code",
   "execution_count": 8,
   "metadata": {},
   "outputs": [],
   "source": [
    "from ssri_interactions.config import Config\n",
    "import numpy as np\n",
    "import pandas as pd\n",
    "import seaborn as sns\n",
    "from ssri_interactions.io import load_derived_generic\n",
    "import matplotlib.pyplot as plt\n",
    "from ssri_interactions.plots import PAL_GREY_BLACK\n"
   ]
  },
  {
   "cell_type": "code",
   "execution_count": 9,
   "metadata": {},
   "outputs": [],
   "source": [
    "fig_dir = Config.fig_dir\n",
    "data_dir = Config.derived_data_dir / \"graph\"\n",
    "sns.set_theme(style=\"ticks\", context=\"paper\")"
   ]
  },
  {
   "cell_type": "code",
   "execution_count": 10,
   "metadata": {},
   "outputs": [],
   "source": [
    "df_graph = pd.read_parquet(data_dir / \"spont - graph.parquet\").query(\"bin_width == 1 and group != 'DIS'\")\n",
    "df_node = pd.read_parquet(data_dir / \"spont - node.parquet\").query(\"bin_width == 1 and group != 'DIS'\")\n",
    "df_edge = pd.read_parquet(data_dir / \"spont - edge.parquet\").query(\"bin_width == 1 and group != 'DIS'\")"
   ]
  },
  {
   "cell_type": "code",
   "execution_count": 28,
   "metadata": {},
   "outputs": [
    {
     "data": {
      "text/plain": [
       "<seaborn.axisgrid.FacetGrid at 0x2b67769c130>"
      ]
     },
     "execution_count": 28,
     "metadata": {},
     "output_type": "execute_result"
    },
    {
     "data": {
      "image/png": "[encoded data removed]",
      "text/plain": [
       "<Figure size 900x300 with 3 Axes>"
      ]
     },
     "metadata": {},
     "output_type": "display_data"
    }
   ],
   "source": [
    "g = sns.FacetGrid(\n",
    "    data=df_node,\n",
    "    col=\"neuron_type\",\n",
    "    col_order=[\"SR\", \"SIR\", \"FF\"]\n",
    ")\n",
    "\n",
    "g.map_dataframe(\n",
    "    sns.barplot,\n",
    "    x=\"group\",\n",
    "    hue=\"group\",\n",
    "    y=\"degree\",\n",
    "    dodge=True,\n",
    "    hue_order=[\"SAL\", \"CIT\"],   \n",
    "    palette=PAL_GREY_BLACK[::-1],\n",
    "    estimator=np.mean,\n",
    ")"
   ]
  },
  {
   "cell_type": "code",
   "execution_count": null,
   "metadata": {},
   "outputs": [],
   "source": []
  },
  {
   "cell_type": "markdown",
   "metadata": {},
   "source": [
    "### Edge models"
   ]
  },
  {
   "cell_type": "code",
   "execution_count": 49,
   "metadata": {},
   "outputs": [],
   "source": [
    "from sklearn.compose import ColumnTransformer\n",
    "from sklearn.tree import DecisionTreeClassifier, DecisionTreeRegressor\n",
    "from sklearn.preprocessing import LabelEncoder, OneHotEncoder, StandardScaler\n",
    "from sklearn.model_selection import cross_val_score, KFold\n",
    "from sklearn.base import clone\n",
    "from sklearn.pipeline import make_pipeline\n",
    "\n",
    "\n",
    "def get_Xy(df, y_col, x_cols=[\"distance\", \"nt_comb\"], shuffle=False):\n",
    "    X = df[x_cols]\n",
    "    y = df[y_col].values\n",
    "    if shuffle:\n",
    "        y = np.random.permutation(y)\n",
    "    return X, y\n",
    "\n",
    "def run_edge_mod(df, clf, y_col, scoring, x_cols=[\"distance\", \"nt_comb\"], n_boot=1000):\n",
    "    X_str, y = get_Xy(df.copy(), y_col=y_col, x_cols=x_cols, shuffle=False)\n",
    "    y = LabelEncoder().fit_transform(y)\n",
    "    ct = ColumnTransformer(\n",
    "        [(\"ohe\", OneHotEncoder(sparse=False), [\"nt_comb\"])],\n",
    "        remainder=\"passthrough\",\n",
    "    )\n",
    "    X = ct.fit_transform(X_str)\n",
    "    clf_obs = clone(clf)\n",
    "\n",
    "    scores_obs = cross_val_score(\n",
    "        clf_obs, \n",
    "        X, \n",
    "        y, \n",
    "        cv=KFold(shuffle=True), \n",
    "        scoring=scoring,\n",
    "        ).mean()\n",
    "\n",
    "    scores_boot = []\n",
    "    for i in range(n_boot):\n",
    "        X_str, y = get_Xy(df.copy(), y_col=\"same_ensemble\", shuffle=True)\n",
    "        ct = ColumnTransformer(\n",
    "            [(\"ohe\", OneHotEncoder(sparse=False), [\"nt_comb\"])],\n",
    "            remainder=\"passthrough\",\n",
    "        )\n",
    "        y = LabelEncoder().fit_transform(y)\n",
    "        X = ct.fit_transform(X_str)\n",
    "        clf_boot = clone(clf)\n",
    "        score = cross_val_score(\n",
    "            clf_boot, \n",
    "            X, \n",
    "            y, \n",
    "            cv=KFold(shuffle=True), \n",
    "            scoring=scoring,).mean()\n",
    "        scores_boot.append(score)\n",
    "    scores_boot = np.array(scores_boot)\n",
    "    return scores_obs, scores_boot\n",
    "\n",
    "\n",
    "# ensemble_sal_obs, ensemble_sal_boot = run_edge_mod(\n",
    "#     df=df_edge.query(\"group == 'SAL'\"), \n",
    "#     clf = make_pipeline(StandardScaler(), DecisionTreeClassifier(max_depth=10)),\n",
    "#     y_col=\"same_ensemble\", \n",
    "#     x_cols=[\"distance\", \"nt_comb\"],\n",
    "#     n_boot=100,\n",
    "#     )\n",
    "\n",
    "# ensemble_cit_obs, ensemble_cit_boot = run_edge_mod(\n",
    "#     df=df_edge.query(\"group == 'CIT'\"), \n",
    "#     clf = make_pipeline(StandardScaler(), DecisionTreeClassifier(max_depth=10)),\n",
    "#     y_col=\"same_ensemble\", \n",
    "#     x_cols=[\"distance\", \"nt_comb\"],\n",
    "#     n_boot=100,\n",
    "#     )\n",
    "\n",
    "\n",
    "weight_sal_obs, weight_sal_boot = run_edge_mod(\n",
    "    df=df_edge.query(\"group == 'SAL'\"), \n",
    "    clf = make_pipeline(StandardScaler(), DecisionTreeRegressor(max_depth=10)),\n",
    "    y_col=\"weight\", \n",
    "    scoring=\"r2\",\n",
    "    x_cols=[\"distance\", \"nt_comb\"],\n",
    "    n_boot=100,\n",
    "    )\n",
    "\n",
    "weight_cit_obs, weight_cit_boot = run_edge_mod(\n",
    "    df=df_edge.query(\"group == 'CIT'\"), \n",
    "    clf = make_pipeline(StandardScaler(), DecisionTreeRegressor(max_depth=10)),\n",
    "    y_col=\"weight\", \n",
    "    scoring=\"r2\",\n",
    "    x_cols=[\"distance\", \"nt_comb\"],\n",
    "    n_boot=100,\n",
    "    )"
   ]
  },
  {
   "cell_type": "code",
   "execution_count": 50,
   "metadata": {},
   "outputs": [
    {
     "data": {
      "text/plain": [
       "-0.03861551719666525"
      ]
     },
     "execution_count": 50,
     "metadata": {},
     "output_type": "execute_result"
    }
   ],
   "source": [
    "weight_sal_obs"
   ]
  },
  {
   "cell_type": "code",
   "execution_count": 51,
   "metadata": {},
   "outputs": [
    {
     "data": {
      "text/plain": [
       "-0.006034194153805838"
      ]
     },
     "execution_count": 51,
     "metadata": {},
     "output_type": "execute_result"
    }
   ],
   "source": [
    "weight_cit_obs"
   ]
  },
  {
   "cell_type": "code",
   "execution_count": null,
   "metadata": {},
   "outputs": [],
   "source": []
  }
 ],
 "metadata": {
  "kernelspec": {
   "display_name": "Python 3.9.12 ('ssri')",
   "language": "python",
   "name": "python3"
  },
  "language_info": {
   "codemirror_mode": {
    "name": "ipython",
    "version": 3
   },
   "file_extension": ".py",
   "mimetype": "text/x-python",
   "name": "python",
   "nbconvert_exporter": "python",
   "pygments_lexer": "ipython3",
   "version": "3.9.12"
  },
  "orig_nbformat": 4,
  "vscode": {
   "interpreter": {
    "hash": "43cbdb6d61dab472ca36965b8e063b8466d44641e4bc0dd430fcfe888de07997"
   }
  }
 },
 "nbformat": 4,
 "nbformat_minor": 2
}

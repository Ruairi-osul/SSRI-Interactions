{
 "cells": [
  {
   "cell_type": "code",
   "execution_count": 1,
   "metadata": {},
   "outputs": [],
   "source": [
    "from ssri_interactions.config import Config\n",
    "from ssri_interactions.io import load_derived_generic\n",
    "import numpy as np\n",
    "import pandas as pd\n",
    "import seaborn as sns\n",
    "\n",
    "import matplotlib.pyplot as plt\n",
    "from ssri_interactions.plots import PAL_GREY_BLACK\n",
    "\n",
    "sns.set_theme(style='ticks', context=\"paper\")"
   ]
  },
  {
   "cell_type": "code",
   "execution_count": 10,
   "metadata": {},
   "outputs": [],
   "source": [
    "neuron_types = load_derived_generic(\"neuron_types.csv\")\n",
    "\n",
    "pairwise_dir = Config.derived_data_dir / \"corrs\"\n",
    "rsc = (\n",
    "    pd.read_parquet(pairwise_dir / \"spont - corr.parquet\")\n",
    "    .rename(columns=dict(corr=\"value\"))\n",
    "    .query(\"bin_width <= 1\")\n",
    "    .assign(metric=\"rsc\")\n",
    "    .assign(\n",
    "        mag=lambda x: np.abs(x[\"value\"]),\n",
    "        rec=lambda x: np.where(x[\"value\"] > 0, x[\"value\"], 0)\n",
    "        )\n",
    "    .merge(neuron_types[[\"session_name\", \"group\"]].drop_duplicates())\n",
    "    .query('group in (\"SAL\", \"CIT\")')\n",
    "    .drop_duplicates()\n",
    ")\n",
    "pcorr = (\n",
    "    pd.read_parquet(pairwise_dir / \"spont - pcorr.parquet\")\n",
    "    .rename(columns=dict(pcorr=\"value\"))\n",
    "    .assign(metric=\"pcorr\")\n",
    "    .assign(\n",
    "        mag=lambda x: np.abs(x[\"value\"]),\n",
    "        rec=lambda x: np.where(x[\"value\"] > 0, x[\"value\"], 0)\n",
    "        )\n",
    "    .merge(neuron_types[[\"session_name\", \"group\"]].drop_duplicates())\n",
    "    .query('group in (\"SAL\", \"CIT\")')\n",
    "    .drop_duplicates()\n",
    ")\n",
    "pcup = (\n",
    "    pd.read_parquet(pairwise_dir / \"spont - pcup.parquet\")\n",
    "    .rename(columns=dict(cc=\"value\"))\n",
    "    .assign(metric=\"pcup\")\n",
    "    .assign(\n",
    "        mag=lambda x: np.abs(x[\"value\"]),\n",
    "        rec=lambda x: np.where(x[\"value\"] > 0, x[\"value\"], 0)\n",
    "        )\n",
    "    .merge(neuron_types[[\"session_name\", \"group\"]].drop_duplicates())\n",
    "    .query('group in (\"SAL\", \"CIT\")')\n",
    "    .drop_duplicates()\n",
    ")\n",
    "graph = (\n",
    "    pd.read_parquet(Config.derived_data_dir / \"graph\" / \"spont - graph.parquet\")\n",
    "    .merge(neuron_types[[\"session_name\", \"group\"]].drop_duplicates())\n",
    "    .query('group in (\"SAL\", \"CIT\")')\n",
    "    .drop_duplicates()\n",
    ")\n",
    "ensembles = (\n",
    "    load_derived_generic(\"ensembles/spont - ensembles.csv\")\n",
    "    .query(\"sig == True\")\n",
    "    .groupby([\"bin_width\", \"session_name\"])[\"ensemble\"]\n",
    "    .nunique()\n",
    "    .to_frame(\"Number of Ensembles\")\n",
    "    .reset_index()\n",
    "    .merge(neuron_types[[\"session_name\", \"group\"]].drop_duplicates())\n",
    "    .query(\"bin_width <= 1 and group in ('SAL', 'CIT')\")\n",
    "    .drop_duplicates()\n",
    ")\n",
    "seqnmf = (\n",
    "    load_derived_generic(\"seqnmf_sequenciness_scores.csv\")\n",
    "    .merge(neuron_types[[\"session_name\", \"group\"]].drop_duplicates())\n",
    "    .query(\"bin_width <= 1 and group in ('SAL', 'CIT')\")\n",
    "    .drop_duplicates()\n",
    ")"
   ]
  },
  {
   "cell_type": "code",
   "execution_count": 11,
   "metadata": {},
   "outputs": [
    {
     "name": "stderr",
     "output_type": "stream",
     "text": [
      "C:\\Users\\roryl\\AppData\\Local\\Temp\\ipykernel_4436\\3110415026.py:55: UserWarning: This figure was using constrained_layout, but that is incompatible with subplots_adjust and/or tight_layout; disabling constrained_layout.\n",
      "  f.subplots_adjust(hspace=0.7)\n"
     ]
    },
    {
     "data": {
      "image/png": "[encoded data removed]",
      "text/plain": [
       "<Figure size 300x400 with 3 Axes>"
      ]
     },
     "metadata": {},
     "output_type": "display_data"
    }
   ],
   "source": [
    "f = plt.figure(figsize=(3, 4), constrained_layout=True)\n",
    "\n",
    "ax = f.subplots(3, 1, sharex=True)\n",
    "\n",
    "rsc[\"rec\"] = np.where(rsc[\"value\"] > 0, rsc[\"value\"], 0)\n",
    "sns.pointplot(\n",
    "    x=\"bin_width\", \n",
    "    y=\"mag\", \n",
    "    hue=\"group\", \n",
    "    data=rsc, \n",
    "    estimator=np.median, \n",
    "    ax=ax[0],\n",
    "    hue_order=[\"SAL\", \"CIT\"],\n",
    "    dodge=True, \n",
    "        palette=PAL_GREY_BLACK[::-1]\n",
    "\n",
    "    )\n",
    "ax[0].set_ylabel(\"\")\n",
    "ax[0].set_xlabel(\"\")\n",
    "ax[0].set_title(\"Spike Count Correlation\",  fontsize=12)\n",
    "\n",
    "sns.pointplot(\n",
    "    x=\"bin_width\", \n",
    "    y=\"Number of Ensembles\", \n",
    "    hue=\"group\", \n",
    "    data=ensembles,\n",
    "    ax=ax[1],\n",
    "    hue_order=[\"SAL\", \"CIT\"],\n",
    "    dodge=True,\n",
    "        palette=PAL_GREY_BLACK[::-1]\n",
    "\n",
    "    )\n",
    "ax[1].set_ylabel(\"\")\n",
    "ax[1].set_xlabel(\"\")\n",
    "ax[1].set_title(\"Number of Ensembles\",  fontsize=12)\n",
    "\n",
    "g_seq = sns.pointplot(\n",
    "    x=\"bin_width\", \n",
    "    y=\"score\", \n",
    "    hue=\"group\", \n",
    "    data=seqnmf, \n",
    "    estimator=np.median, \n",
    "    ax=ax[2], \n",
    "    hue_order=[\"SAL\", \"CIT\"],\n",
    "    dodge=True,\n",
    "    palette=PAL_GREY_BLACK[::-1]\n",
    "    )\n",
    "ax[2].set_ylim(-0.1, 1)\n",
    "plt.setp(g_seq.collections, alpha=.9)\n",
    "plt.setp(g_seq.lines, alpha=.9) \n",
    "ax[2].set_ylabel(\"\")\n",
    "ax[2].set_xlabel(\"\")\n",
    "ax[2].set_title(\"SeqNMF Sequenciness\", fontsize=12)\n",
    "\n",
    "f.subplots_adjust(hspace=0.7)\n",
    "for ax_ in ax:\n",
    "    ax_.legend().remove()\n",
    "\n",
    "sns.despine(fig=f)\n",
    "# f.savefig(fig_dir / \"interactions by bin width.png\", dpi=300)\n"
   ]
  },
  {
   "cell_type": "code",
   "execution_count": 16,
   "metadata": {},
   "outputs": [
    {
     "data": {
      "image/png": "[encoded data removed]",
      "text/plain": [
       "<Figure size 200x100 with 1 Axes>"
      ]
     },
     "metadata": {},
     "output_type": "display_data"
    }
   ],
   "source": [
    "f = plt.figure(figsize=(2, 1), constrained_layout=True)\n",
    "\n",
    "ax = f.subplots(1, 1, sharex=True)\n",
    "\n",
    "rsc[\"rec\"] = np.where(rsc[\"value\"] > 0, rsc[\"value\"], 0)\n",
    "sns.pointplot(\n",
    "    x=\"bin_width\", \n",
    "    y=\"mag\", \n",
    "    hue=\"group\", \n",
    "    data=rsc, \n",
    "    estimator=np.median, \n",
    "    ax=ax,\n",
    "    hue_order=[\"SAL\", \"CIT\"],\n",
    "    dodge=True, \n",
    "    palette=PAL_GREY_BLACK[::-1],\n",
    "    scale=0.8,\n",
    "\n",
    "    )\n",
    "ax.set_ylabel(\"\")\n",
    "ax.set_xlabel(\"\")\n",
    "ax.set_title(\"Spike Count Correlation\",)\n",
    "\n",
    "ax.legend().remove()\n",
    "sns.despine(fig=f)"
   ]
  },
  {
   "cell_type": "code",
   "execution_count": null,
   "metadata": {},
   "outputs": [],
   "source": []
  }
 ],
 "metadata": {
  "kernelspec": {
   "display_name": "Python 3.9.12 ('ssri')",
   "language": "python",
   "name": "python3"
  },
  "language_info": {
   "codemirror_mode": {
    "name": "ipython",
    "version": 3
   },
   "file_extension": ".py",
   "mimetype": "text/x-python",
   "name": "python",
   "nbconvert_exporter": "python",
   "pygments_lexer": "ipython3",
   "version": "3.9.12"
  },
  "orig_nbformat": 4,
  "vscode": {
   "interpreter": {
    "hash": "43cbdb6d61dab472ca36965b8e063b8466d44641e4bc0dd430fcfe888de07997"
   }
  }
 },
 "nbformat": 4,
 "nbformat_minor": 2
}

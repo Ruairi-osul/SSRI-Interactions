{
 "cells": [
  {
   "cell_type": "code",
   "execution_count": 1,
   "metadata": {},
   "outputs": [
    {
     "name": "stderr",
     "output_type": "stream",
     "text": [
      "/opt/miniconda3/envs/ssri/lib/python3.8/site-packages/outdated/utils.py:14: OutdatedPackageWarning: The package pingouin is out of date. Your version is 0.5.1, the latest is 0.5.2.\n",
      "Set the environment variable OUTDATED_IGNORE=1 to disable these warnings.\n",
      "  return warn(\n"
     ]
    }
   ],
   "source": [
    "from ssri_interactions.interactions.loaders import SpontaneousActivityLoader\n",
    "from ssri_interactions.interactions.preprocessors import InteractionsPreprocessor\n",
    "from ssri_interactions.interactions.pairwise import PairwiseCorr, PairwisePartialCorr\n",
    "from ssri_interactions.interactions.popcup import PopulationCoupling\n",
    "from ssri_interactions.interactions.runners import InteractionsRunner\n",
    "from ssri_interactions.interactions.graph_clustering import df_to_graph\n",
    "from ssri_interactions.config import Config, ExperimentInfo\n",
    "import numpy as np\n",
    "from ssri_interactions.interactions.graph import GraphAttributes, NodeAttributes\n",
    "import pandas as pd\n",
    "import seaborn as sns\n",
    "from ssri_interactions.io import load_derived_generic, load_distances\n",
    "from ssri_interactions.transforms.graph import GraphTransformer\n",
    "\n",
    "fig_dir = Config.fig_dir\n",
    "sns.set_theme(style='ticks', context=\"paper\")"
   ]
  },
  {
   "cell_type": "code",
   "execution_count": 2,
   "metadata": {},
   "outputs": [
    {
     "name": "stderr",
     "output_type": "stream",
     "text": [
      "/Users/ruairiosullivan/repos/SSRI Interactions/ssri_interactions/interactions/cross_correlations.py:25: RuntimeWarning: invalid value encountered in divide\n",
      "  return lags, cvf / (np.std(x) * np.std(y))\n"
     ]
    }
   ],
   "source": [
    "neuron_types = load_derived_generic(\"neuron_types.csv\")[\n",
    "    [\"neuron_id\", \"neuron_type\", \"session_name\"]\n",
    "]\n",
    "sessions = neuron_types[\"session_name\"].dropna().unique()\n",
    "res_corr = []\n",
    "res_pcorr = []\n",
    "res_pcup = []\n",
    "bin_widths = [0.05, 0.1, 0.5, 1, ]\n",
    "\n",
    "loader_fac = lambda bin_width: SpontaneousActivityLoader(\n",
    "    session_name=sessions[0], bin_width=bin_width, shuffle=False\n",
    ")\n",
    "preprocessor_fac = lambda: InteractionsPreprocessor(\n",
    "    z=True, minmax=False, gaussian_sigma=None\n",
    ")\n",
    "corr_fac = lambda: PairwiseCorr()\n",
    "pcorr_fac = lambda: PairwisePartialCorr()\n",
    "pcup_fac = lambda: PopulationCoupling()\n",
    "\n",
    "runner_fac = lambda bin_width, : InteractionsRunner(\n",
    "    loader=loader_fac(bin_width),\n",
    "    preprocessor=preprocessor_fac(),\n",
    "    pcup=pcup_fac(),\n",
    "    corr=corr_fac(),\n",
    "    pcorr=pcorr_fac(),\n",
    ")\n",
    "\n",
    "for bin_width in bin_widths:\n",
    "    runner = runner_fac(bin_width)\n",
    "    res_pcorr.append(runner.run_pcorr_multi(sessions).assign(bin_width=bin_width, ))\n",
    "    res_corr.append(runner.run_corr_multi(sessions).assign(bin_width=bin_width, ))\n",
    "    res_pcup.append(runner.run_pcup_multi(sessions).assign(bin_width=bin_width, ))\n",
    "\n",
    "rsc = (\n",
    "    pd.concat(res_corr)\n",
    "    .reset_index(drop=True)\n",
    "    .rename(columns=dict(corr=\"value\"))\n",
    "    .assign(metric=\"rsc\")\n",
    "    .assign(mag=lambda x: np.abs(x[\"value\"]))\n",
    ")\n",
    "pcorr = (\n",
    "    pd.concat(res_pcorr)\n",
    "    .reset_index(drop=True)\n",
    "    .rename(columns=dict(pcorr=\"value\"))\n",
    "    .assign(metric=\"pcorr\")\n",
    "    .assign(mag=lambda x: np.abs(x[\"value\"]))\n",
    ")\n",
    "pcup = (\n",
    "    pd.concat(res_pcup)\n",
    "    .reset_index(drop=True)\n",
    "    .rename(columns=dict(cc=\"value\"))\n",
    "    .assign(metric=\"pcup\")\n",
    "    .assign(mag=lambda x: np.abs(x[\"value\"]))\n",
    ")"
   ]
  },
  {
   "cell_type": "code",
   "execution_count": 4,
   "metadata": {},
   "outputs": [],
   "source": [
    "graph_attrs = GraphAttributes(distance_from_edge=\"bounded\")\n",
    "\n",
    "df_distance = load_distances()\n",
    "sessions = neuron_types[\"session_name\"].dropna().unique()\n",
    "graph_dfs = []\n",
    "\n",
    "for bin_width in (0.05, 0.1, 0.5, 1):\n",
    "    # for shuffle_higher in (False, True):\n",
    "        for session in sessions:\n",
    "            loader = SpontaneousActivityLoader(\n",
    "                session_name=session, bin_width=bin_width, block=\"pre\", t_start=0, t_stop=1800\n",
    "            )\n",
    "            preprocessor = InteractionsPreprocessor()\n",
    "            pairwise = PairwiseCorr(rectify=True)\n",
    "\n",
    "            spikes = preprocessor(loader())\n",
    "            df_affinity = (\n",
    "                pairwise.fit(spikes)\n",
    "                .get_adjacency_df()\n",
    "                .dropna(axis=1, thresh=5)\n",
    "                .dropna(axis=0, thresh=5)\n",
    "            )\n",
    "            \n",
    "            G = df_to_graph(df_affinity, rename_nodes=True)\n",
    "            graph_stats = graph_attrs.get_graph_attributes(G).assign(\n",
    "                session=session, bin_width=bin_width\n",
    "                )\n",
    "            graph_dfs.append(graph_stats)\n",
    "\n",
    "df_graph = pd.concat(graph_dfs).reset_index(drop=True)"
   ]
  },
  {
   "cell_type": "code",
   "execution_count": 5,
   "metadata": {},
   "outputs": [
    {
     "ename": "FileNotFoundError",
     "evalue": "[Errno 2] No such file or directory: '/Users/ruairiosullivan/repos/SSRI Interactions/data/derived/seqnmf_sequenciness_scores.csv'",
     "output_type": "error",
     "traceback": [
      "\u001b[0;31m---------------------------------------------------------------------------\u001b[0m",
      "\u001b[0;31mFileNotFoundError\u001b[0m                         Traceback (most recent call last)",
      "Cell \u001b[0;32mIn [5], line 10\u001b[0m\n\u001b[1;32m      1\u001b[0m ensembles \u001b[39m=\u001b[39m (\n\u001b[1;32m      2\u001b[0m     load_derived_generic(\u001b[39m\"\u001b[39m\u001b[39mensembles/spont - ensembles.csv\u001b[39m\u001b[39m\"\u001b[39m)\n\u001b[1;32m      3\u001b[0m     \u001b[39m.\u001b[39mgroupby([\u001b[39m\"\u001b[39m\u001b[39mbin_width\u001b[39m\u001b[39m\"\u001b[39m, \u001b[39m\"\u001b[39m\u001b[39mshuffle\u001b[39m\u001b[39m\"\u001b[39m, \u001b[39m\"\u001b[39m\u001b[39msession_name\u001b[39m\u001b[39m\"\u001b[39m])[\u001b[39m\"\u001b[39m\u001b[39mensemble\u001b[39m\u001b[39m\"\u001b[39m]\n\u001b[0;32m   (...)\u001b[0m\n\u001b[1;32m      7\u001b[0m     \u001b[39m.\u001b[39mreset_index()\n\u001b[1;32m      8\u001b[0m )\n\u001b[0;32m---> 10\u001b[0m seqnmf \u001b[39m=\u001b[39m load_derived_generic(\u001b[39m\"\u001b[39;49m\u001b[39mseqnmf_sequenciness_scores.csv\u001b[39;49m\u001b[39m\"\u001b[39;49m)\u001b[39m.\u001b[39mquery(\u001b[39m\"\u001b[39m\u001b[39mbin_width <= 1\u001b[39m\u001b[39m\"\u001b[39m)\n",
      "File \u001b[0;32m~/repos/SSRI Interactions/ssri_interactions/io/load_derived.py:9\u001b[0m, in \u001b[0;36mload_derived_generic\u001b[0;34m(name)\u001b[0m\n\u001b[1;32m      8\u001b[0m \u001b[39mdef\u001b[39;00m \u001b[39mload_derived_generic\u001b[39m(name):\n\u001b[0;32m----> 9\u001b[0m     \u001b[39mreturn\u001b[39;00m pd\u001b[39m.\u001b[39;49mread_csv(Config\u001b[39m.\u001b[39;49mderived_data_dir\u001b[39m.\u001b[39;49mabsolute() \u001b[39m/\u001b[39;49m name)\n",
      "File \u001b[0;32m/opt/miniconda3/envs/ssri/lib/python3.8/site-packages/pandas/util/_decorators.py:211\u001b[0m, in \u001b[0;36mdeprecate_kwarg.<locals>._deprecate_kwarg.<locals>.wrapper\u001b[0;34m(*args, **kwargs)\u001b[0m\n\u001b[1;32m    209\u001b[0m     \u001b[39melse\u001b[39;00m:\n\u001b[1;32m    210\u001b[0m         kwargs[new_arg_name] \u001b[39m=\u001b[39m new_arg_value\n\u001b[0;32m--> 211\u001b[0m \u001b[39mreturn\u001b[39;00m func(\u001b[39m*\u001b[39;49margs, \u001b[39m*\u001b[39;49m\u001b[39m*\u001b[39;49mkwargs)\n",
      "File \u001b[0;32m/opt/miniconda3/envs/ssri/lib/python3.8/site-packages/pandas/util/_decorators.py:331\u001b[0m, in \u001b[0;36mdeprecate_nonkeyword_arguments.<locals>.decorate.<locals>.wrapper\u001b[0;34m(*args, **kwargs)\u001b[0m\n\u001b[1;32m    325\u001b[0m \u001b[39mif\u001b[39;00m \u001b[39mlen\u001b[39m(args) \u001b[39m>\u001b[39m num_allow_args:\n\u001b[1;32m    326\u001b[0m     warnings\u001b[39m.\u001b[39mwarn(\n\u001b[1;32m    327\u001b[0m         msg\u001b[39m.\u001b[39mformat(arguments\u001b[39m=\u001b[39m_format_argument_list(allow_args)),\n\u001b[1;32m    328\u001b[0m         \u001b[39mFutureWarning\u001b[39;00m,\n\u001b[1;32m    329\u001b[0m         stacklevel\u001b[39m=\u001b[39mfind_stack_level(),\n\u001b[1;32m    330\u001b[0m     )\n\u001b[0;32m--> 331\u001b[0m \u001b[39mreturn\u001b[39;00m func(\u001b[39m*\u001b[39;49margs, \u001b[39m*\u001b[39;49m\u001b[39m*\u001b[39;49mkwargs)\n",
      "File \u001b[0;32m/opt/miniconda3/envs/ssri/lib/python3.8/site-packages/pandas/io/parsers/readers.py:950\u001b[0m, in \u001b[0;36mread_csv\u001b[0;34m(filepath_or_buffer, sep, delimiter, header, names, index_col, usecols, squeeze, prefix, mangle_dupe_cols, dtype, engine, converters, true_values, false_values, skipinitialspace, skiprows, skipfooter, nrows, na_values, keep_default_na, na_filter, verbose, skip_blank_lines, parse_dates, infer_datetime_format, keep_date_col, date_parser, dayfirst, cache_dates, iterator, chunksize, compression, thousands, decimal, lineterminator, quotechar, quoting, doublequote, escapechar, comment, encoding, encoding_errors, dialect, error_bad_lines, warn_bad_lines, on_bad_lines, delim_whitespace, low_memory, memory_map, float_precision, storage_options)\u001b[0m\n\u001b[1;32m    935\u001b[0m kwds_defaults \u001b[39m=\u001b[39m _refine_defaults_read(\n\u001b[1;32m    936\u001b[0m     dialect,\n\u001b[1;32m    937\u001b[0m     delimiter,\n\u001b[0;32m   (...)\u001b[0m\n\u001b[1;32m    946\u001b[0m     defaults\u001b[39m=\u001b[39m{\u001b[39m\"\u001b[39m\u001b[39mdelimiter\u001b[39m\u001b[39m\"\u001b[39m: \u001b[39m\"\u001b[39m\u001b[39m,\u001b[39m\u001b[39m\"\u001b[39m},\n\u001b[1;32m    947\u001b[0m )\n\u001b[1;32m    948\u001b[0m kwds\u001b[39m.\u001b[39mupdate(kwds_defaults)\n\u001b[0;32m--> 950\u001b[0m \u001b[39mreturn\u001b[39;00m _read(filepath_or_buffer, kwds)\n",
      "File \u001b[0;32m/opt/miniconda3/envs/ssri/lib/python3.8/site-packages/pandas/io/parsers/readers.py:605\u001b[0m, in \u001b[0;36m_read\u001b[0;34m(filepath_or_buffer, kwds)\u001b[0m\n\u001b[1;32m    602\u001b[0m _validate_names(kwds\u001b[39m.\u001b[39mget(\u001b[39m\"\u001b[39m\u001b[39mnames\u001b[39m\u001b[39m\"\u001b[39m, \u001b[39mNone\u001b[39;00m))\n\u001b[1;32m    604\u001b[0m \u001b[39m# Create the parser.\u001b[39;00m\n\u001b[0;32m--> 605\u001b[0m parser \u001b[39m=\u001b[39m TextFileReader(filepath_or_buffer, \u001b[39m*\u001b[39;49m\u001b[39m*\u001b[39;49mkwds)\n\u001b[1;32m    607\u001b[0m \u001b[39mif\u001b[39;00m chunksize \u001b[39mor\u001b[39;00m iterator:\n\u001b[1;32m    608\u001b[0m     \u001b[39mreturn\u001b[39;00m parser\n",
      "File \u001b[0;32m/opt/miniconda3/envs/ssri/lib/python3.8/site-packages/pandas/io/parsers/readers.py:1442\u001b[0m, in \u001b[0;36mTextFileReader.__init__\u001b[0;34m(self, f, engine, **kwds)\u001b[0m\n\u001b[1;32m   1439\u001b[0m     \u001b[39mself\u001b[39m\u001b[39m.\u001b[39moptions[\u001b[39m\"\u001b[39m\u001b[39mhas_index_names\u001b[39m\u001b[39m\"\u001b[39m] \u001b[39m=\u001b[39m kwds[\u001b[39m\"\u001b[39m\u001b[39mhas_index_names\u001b[39m\u001b[39m\"\u001b[39m]\n\u001b[1;32m   1441\u001b[0m \u001b[39mself\u001b[39m\u001b[39m.\u001b[39mhandles: IOHandles \u001b[39m|\u001b[39m \u001b[39mNone\u001b[39;00m \u001b[39m=\u001b[39m \u001b[39mNone\u001b[39;00m\n\u001b[0;32m-> 1442\u001b[0m \u001b[39mself\u001b[39m\u001b[39m.\u001b[39m_engine \u001b[39m=\u001b[39m \u001b[39mself\u001b[39;49m\u001b[39m.\u001b[39;49m_make_engine(f, \u001b[39mself\u001b[39;49m\u001b[39m.\u001b[39;49mengine)\n",
      "File \u001b[0;32m/opt/miniconda3/envs/ssri/lib/python3.8/site-packages/pandas/io/parsers/readers.py:1735\u001b[0m, in \u001b[0;36mTextFileReader._make_engine\u001b[0;34m(self, f, engine)\u001b[0m\n\u001b[1;32m   1733\u001b[0m     \u001b[39mif\u001b[39;00m \u001b[39m\"\u001b[39m\u001b[39mb\u001b[39m\u001b[39m\"\u001b[39m \u001b[39mnot\u001b[39;00m \u001b[39min\u001b[39;00m mode:\n\u001b[1;32m   1734\u001b[0m         mode \u001b[39m+\u001b[39m\u001b[39m=\u001b[39m \u001b[39m\"\u001b[39m\u001b[39mb\u001b[39m\u001b[39m\"\u001b[39m\n\u001b[0;32m-> 1735\u001b[0m \u001b[39mself\u001b[39m\u001b[39m.\u001b[39mhandles \u001b[39m=\u001b[39m get_handle(\n\u001b[1;32m   1736\u001b[0m     f,\n\u001b[1;32m   1737\u001b[0m     mode,\n\u001b[1;32m   1738\u001b[0m     encoding\u001b[39m=\u001b[39;49m\u001b[39mself\u001b[39;49m\u001b[39m.\u001b[39;49moptions\u001b[39m.\u001b[39;49mget(\u001b[39m\"\u001b[39;49m\u001b[39mencoding\u001b[39;49m\u001b[39m\"\u001b[39;49m, \u001b[39mNone\u001b[39;49;00m),\n\u001b[1;32m   1739\u001b[0m     compression\u001b[39m=\u001b[39;49m\u001b[39mself\u001b[39;49m\u001b[39m.\u001b[39;49moptions\u001b[39m.\u001b[39;49mget(\u001b[39m\"\u001b[39;49m\u001b[39mcompression\u001b[39;49m\u001b[39m\"\u001b[39;49m, \u001b[39mNone\u001b[39;49;00m),\n\u001b[1;32m   1740\u001b[0m     memory_map\u001b[39m=\u001b[39;49m\u001b[39mself\u001b[39;49m\u001b[39m.\u001b[39;49moptions\u001b[39m.\u001b[39;49mget(\u001b[39m\"\u001b[39;49m\u001b[39mmemory_map\u001b[39;49m\u001b[39m\"\u001b[39;49m, \u001b[39mFalse\u001b[39;49;00m),\n\u001b[1;32m   1741\u001b[0m     is_text\u001b[39m=\u001b[39;49mis_text,\n\u001b[1;32m   1742\u001b[0m     errors\u001b[39m=\u001b[39;49m\u001b[39mself\u001b[39;49m\u001b[39m.\u001b[39;49moptions\u001b[39m.\u001b[39;49mget(\u001b[39m\"\u001b[39;49m\u001b[39mencoding_errors\u001b[39;49m\u001b[39m\"\u001b[39;49m, \u001b[39m\"\u001b[39;49m\u001b[39mstrict\u001b[39;49m\u001b[39m\"\u001b[39;49m),\n\u001b[1;32m   1743\u001b[0m     storage_options\u001b[39m=\u001b[39;49m\u001b[39mself\u001b[39;49m\u001b[39m.\u001b[39;49moptions\u001b[39m.\u001b[39;49mget(\u001b[39m\"\u001b[39;49m\u001b[39mstorage_options\u001b[39;49m\u001b[39m\"\u001b[39;49m, \u001b[39mNone\u001b[39;49;00m),\n\u001b[1;32m   1744\u001b[0m )\n\u001b[1;32m   1745\u001b[0m \u001b[39massert\u001b[39;00m \u001b[39mself\u001b[39m\u001b[39m.\u001b[39mhandles \u001b[39mis\u001b[39;00m \u001b[39mnot\u001b[39;00m \u001b[39mNone\u001b[39;00m\n\u001b[1;32m   1746\u001b[0m f \u001b[39m=\u001b[39m \u001b[39mself\u001b[39m\u001b[39m.\u001b[39mhandles\u001b[39m.\u001b[39mhandle\n",
      "File \u001b[0;32m/opt/miniconda3/envs/ssri/lib/python3.8/site-packages/pandas/io/common.py:856\u001b[0m, in \u001b[0;36mget_handle\u001b[0;34m(path_or_buf, mode, encoding, compression, memory_map, is_text, errors, storage_options)\u001b[0m\n\u001b[1;32m    851\u001b[0m \u001b[39melif\u001b[39;00m \u001b[39misinstance\u001b[39m(handle, \u001b[39mstr\u001b[39m):\n\u001b[1;32m    852\u001b[0m     \u001b[39m# Check whether the filename is to be opened in binary mode.\u001b[39;00m\n\u001b[1;32m    853\u001b[0m     \u001b[39m# Binary mode does not support 'encoding' and 'newline'.\u001b[39;00m\n\u001b[1;32m    854\u001b[0m     \u001b[39mif\u001b[39;00m ioargs\u001b[39m.\u001b[39mencoding \u001b[39mand\u001b[39;00m \u001b[39m\"\u001b[39m\u001b[39mb\u001b[39m\u001b[39m\"\u001b[39m \u001b[39mnot\u001b[39;00m \u001b[39min\u001b[39;00m ioargs\u001b[39m.\u001b[39mmode:\n\u001b[1;32m    855\u001b[0m         \u001b[39m# Encoding\u001b[39;00m\n\u001b[0;32m--> 856\u001b[0m         handle \u001b[39m=\u001b[39m \u001b[39mopen\u001b[39;49m(\n\u001b[1;32m    857\u001b[0m             handle,\n\u001b[1;32m    858\u001b[0m             ioargs\u001b[39m.\u001b[39;49mmode,\n\u001b[1;32m    859\u001b[0m             encoding\u001b[39m=\u001b[39;49mioargs\u001b[39m.\u001b[39;49mencoding,\n\u001b[1;32m    860\u001b[0m             errors\u001b[39m=\u001b[39;49merrors,\n\u001b[1;32m    861\u001b[0m             newline\u001b[39m=\u001b[39;49m\u001b[39m\"\u001b[39;49m\u001b[39m\"\u001b[39;49m,\n\u001b[1;32m    862\u001b[0m         )\n\u001b[1;32m    863\u001b[0m     \u001b[39melse\u001b[39;00m:\n\u001b[1;32m    864\u001b[0m         \u001b[39m# Binary mode\u001b[39;00m\n\u001b[1;32m    865\u001b[0m         handle \u001b[39m=\u001b[39m \u001b[39mopen\u001b[39m(handle, ioargs\u001b[39m.\u001b[39mmode)\n",
      "\u001b[0;31mFileNotFoundError\u001b[0m: [Errno 2] No such file or directory: '/Users/ruairiosullivan/repos/SSRI Interactions/data/derived/seqnmf_sequenciness_scores.csv'"
     ]
    }
   ],
   "source": [
    "\n",
    "ensembles = (\n",
    "    load_derived_generic(\"ensembles/spont - ensembles.csv\")\n",
    "    .groupby([\"bin_width\", \"shuffle\", \"session_name\"])[\"ensemble\"]\n",
    "    .nunique()\n",
    "    .subtract(1)\n",
    "    .to_frame(\"Number of Ensembles\")\n",
    "    .reset_index()\n",
    ")\n",
    "\n",
    "seqnmf = load_derived_generic(\"seqnmf_sequenciness_scores.csv\").query(\"bin_width <= 1\")"
   ]
  },
  {
   "cell_type": "code",
   "execution_count": 1,
   "metadata": {},
   "outputs": [],
   "source": [
    "import matplotlib.pyplot as plt\n",
    "from ssri_interactions.plots import PAL_GREY_BLACK\n",
    "sns.set_palette(PAL_GREY_BLACK)\n",
    "\n",
    "f = plt.figure(figsize=(3, 4), constrained_layout=True)\n",
    "\n",
    "ax = f.subplots(3, 1, sharex=True)\n",
    "# f.subplots()\n",
    "\n",
    "\n",
    "sns.pointplot(x=\"bin_width\", y=\"mag\", hue=\"shuffle\", data=rsc, estimator=np.median, ax=ax[0])\n",
    "ax[0].set_ylabel(\"\")\n",
    "ax[0].set_xlabel(\"\")\n",
    "ax[0].set_title(\"Spike Count Correlation\",  fontsize=12)\n",
    "# ax[0].set_yticklabels(ax[0].get_yticklabels(), fontsize=19)\n",
    "\n",
    "sns.pointplot(\n",
    "    x=\"bin_width\", \n",
    "    y=\"Number of Ensembles\", \n",
    "    hue=\"shuffle\", \n",
    "    data=ensembles,\n",
    "    ax=ax[1]\n",
    "    )\n",
    "ax[1].set_ylabel(\"\")\n",
    "ax[1].set_xlabel(\"\")\n",
    "ax[1].set_title(\"Number of Ensembles\",  fontsize=12)\n",
    "\n",
    "g_seq = sns.pointplot(x=\"bin_width\", y=\"score\", hue=\"shuffle\", data=seqnmf, estimator=np.median, ax=ax[2], dodge=True,)\n",
    "ax[2].set_ylim(-0.1, 1)\n",
    "plt.setp(g_seq.collections, alpha=.9)\n",
    "plt.setp(g_seq.lines, alpha=.9) \n",
    "ax[2].set_ylabel(\"\")\n",
    "ax[2].set_xlabel(\"\")\n",
    "ax[2].set_title(\"SeqNMF Sequenciness\", fontsize=12)\n",
    "\n",
    "f.subplots_adjust(hspace=0.7)\n",
    "for ax_ in ax:\n",
    "    ax_.legend().remove()\n",
    "\n",
    "sns.despine(fig=f)\n",
    "f.savefig(fig_dir / \"interactions by bin width.png\", dpi=300)\n"
   ]
  },
  {
   "cell_type": "code",
   "execution_count": null,
   "metadata": {},
   "outputs": [],
   "source": []
  }
 ],
 "metadata": {
  "kernelspec": {
   "display_name": "Python 3.8.13 ('ssri')",
   "language": "python",
   "name": "python3"
  },
  "language_info": {
   "codemirror_mode": {
    "name": "ipython",
    "version": 3
   },
   "file_extension": ".py",
   "mimetype": "text/x-python",
   "name": "python",
   "nbconvert_exporter": "python",
   "pygments_lexer": "ipython3",
   "version": "3.8.13"
  },
  "orig_nbformat": 4,
  "vscode": {
   "interpreter": {
    "hash": "998f3992552e3982958b29910ac62535f7791fb5d4d73f3260b206ed6ebaabc7"
   }
  }
 },
 "nbformat": 4,
 "nbformat_minor": 2
}

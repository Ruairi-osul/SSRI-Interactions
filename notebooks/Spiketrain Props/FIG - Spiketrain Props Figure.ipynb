{
 "cells": [
  {
   "cell_type": "code",
   "execution_count": 73,
   "metadata": {},
   "outputs": [],
   "source": [
    "import numpy as np\n",
    "from typing import Any, Dict, List, Optional, Sequence, Tuple\n",
    "from ssri_interactions.transforms.spikes import SpikesHandler\n",
    "from ssri_interactions.io import load_derived_generic\n",
    "from ssri_interactions.config import Config, ExperimentInfo\n",
    "import seaborn as sns\n",
    "import matplotlib.pyplot as plt"
   ]
  },
  {
   "cell_type": "code",
   "execution_count": 74,
   "metadata": {},
   "outputs": [],
   "source": [
    "# sns.set_theme(context=\"paper\", style=\"ticks\")"
   ]
  },
  {
   "cell_type": "code",
   "execution_count": 75,
   "metadata": {},
   "outputs": [],
   "source": [
    "class SpikeTrainLoader:\n",
    "    def __init__(\n",
    "        self,\n",
    "        session_name: str,\n",
    "        duration: float = 5.0,\n",
    "        max_neurons: Optional[int] = None,\n",
    "        block=\"pre\",\n",
    "    ):\n",
    "        self.session_name = session_name\n",
    "        self.duration = duration\n",
    "        self.block = block\n",
    "        neurons = load_derived_generic(\"neuron_types.csv\").loc[\n",
    "            lambda x: x[\"session_name\"] == session_name\n",
    "        ]\n",
    "        self.max_neurons = max_neurons\n",
    "        self.neurons = neurons\n",
    "\n",
    "    def get_trians_by_type(self, t_start) -> Dict[str, List[np.ndarray]]:\n",
    "        types = self.neurons.neuron_type.unique()\n",
    "        trains = {}\n",
    "        for neuron_type in types:\n",
    "            neurons = self.neurons.loc[lambda x: x[\"neuron_type\"] == neuron_type][\n",
    "                \"neuron_id\"\n",
    "            ].values\n",
    "            trains[neuron_type] = self.get_trains(t_start, ids=neurons)\n",
    "        return trains\n",
    "\n",
    "    def get_trains(self, t_start, ids: Optional[Sequence] = None) -> List[np.ndarray]:\n",
    "        if ids is None:\n",
    "            ids = self.neurons[\"neuron_id\"].values\n",
    "\n",
    "        sh = SpikesHandler(\n",
    "            bin_width=1,\n",
    "            session_names=[self.session_name],\n",
    "            t_start=t_start,\n",
    "            t_stop=t_start + self.duration,\n",
    "            block=self.block,\n",
    "        )\n",
    "        df_spikes = sh.spikes.loc[lambda x: x[\"neuron_id\"].isin(ids)]\n",
    "        trains = [dfg[\"spiketimes\"].values for _, dfg in df_spikes.groupby(\"neuron_id\")]\n",
    "        trains = trains[: self.max_neurons]\n",
    "        return trains\n",
    "\n",
    "\n",
    "def make_grid(\n",
    "    trains: Dict[Any, str],\n",
    "    fig: Optional[plt.Figure] = None,\n",
    "    gridspec_kw: Optional[Dict] = None,\n",
    "    type_order=None,\n",
    "):\n",
    "    fig = fig or plt.figure()\n",
    "    neuron_types = type_order or list(trains.keys())\n",
    "    n_rows = len(neuron_types)\n",
    "    n_cols = 1\n",
    "    height_ratios = np.array([len(trains[neuron_type]) for neuron_type in neuron_types])\n",
    "    height_ratios = height_ratios / height_ratios.sum()\n",
    "    gridspec_kw = gridspec_kw or {}\n",
    "    gridspec_kw[\"height_ratios\"] = height_ratios\n",
    "    axes = fig.subplots(n_rows, n_cols, gridspec_kw=gridspec_kw)\n",
    "    return axes\n",
    "\n",
    "\n",
    "def plot_raster(trains: List[np.ndarray], ax=None, **eventplot_kwargs):\n",
    "    ax = ax or plt.subplots()[1]\n",
    "    ax.eventplot(\n",
    "        trains,\n",
    "        **eventplot_kwargs,\n",
    "    )\n",
    "    ax.axis(\"off\")\n",
    "    return ax\n",
    "\n",
    "\n",
    "def plot_raster_grouped(\n",
    "    trains: Dict[str, List[np.ndarray]],\n",
    "    fig=None,\n",
    "    eventplot_kwargs: Optional[Dict] = None,\n",
    "    gridspec_kw: Optional[Dict] = None,\n",
    "    type_order: Optional[List[str]] = None,\n",
    "):\n",
    "    eventplot_kwargs = eventplot_kwargs or {}\n",
    "    gridspec_kw = gridspec_kw or {}\n",
    "\n",
    "    fig = fig or plt.figure()\n",
    "    neuron_types = type_order or list(trains.keys())\n",
    "    axes = make_grid(trains, fig=fig, gridspec_kw=gridspec_kw, type_order=neuron_types)\n",
    "\n",
    "    for ax, neuron_type in zip(axes, neuron_types):\n",
    "        train_list = trains[neuron_type]\n",
    "        plot_raster(train_list, ax=ax, **eventplot_kwargs)\n",
    "    return fig, axes\n",
    "\n",
    "\n",
    "def plot_raster_grouped_time(\n",
    "    trains: List[Dict[str, List[np.ndarray]]],\n",
    "    fig: plt.Figure = None,\n",
    "    eventplot_kwargs: Optional[Dict] = None,\n",
    "    gridspec_kw: Optional[Dict] = None,\n",
    "    type_order: Optional[List[str]] = None,\n",
    "):\n",
    "    fig = fig or plt.figure()\n",
    "\n",
    "    num_timepoints = len(trains)\n",
    "    sub_figs = fig.subfigures(1, num_timepoints)\n",
    "\n",
    "    for sub_fig, train in zip(sub_figs, trains):\n",
    "        plot_raster_grouped(\n",
    "            train,\n",
    "            fig=sub_fig,\n",
    "            eventplot_kwargs=eventplot_kwargs,\n",
    "            gridspec_kw=gridspec_kw,\n",
    "            type_order=type_order,\n",
    "        )\n",
    "    return fig"
   ]
  },
  {
   "cell_type": "code",
   "execution_count": 132,
   "metadata": {},
   "outputs": [
    {
     "data": {
      "text/plain": [
       "(<Figure size 200x120 with 3 Axes>,\n",
       " array([<AxesSubplot: >, <AxesSubplot: >, <AxesSubplot: >], dtype=object))"
      ]
     },
     "execution_count": 132,
     "metadata": {},
     "output_type": "execute_result"
    },
    {
     "data": {
      "image/png": "[encoded data removed]",
      "text/plain": [
       "<Figure size 200x120 with 3 Axes>"
      ]
     },
     "metadata": {},
     "output_type": "display_data"
    },
    {
     "data": {
      "image/png": "[encoded data removed]",
      "text/plain": [
       "<Figure size 200x120 with 3 Axes>"
      ]
     },
     "metadata": {},
     "output_type": "display_data"
    }
   ],
   "source": [
    "sal_session = ExperimentInfo.sal_sessions[3]\n",
    "cit_session = ExperimentInfo.cit_sessions[0]\n",
    "\n",
    "t_start = 1290\n",
    "duration = 5\n",
    "max_neurons = 5\n",
    "\n",
    "loader_sal = SpikeTrainLoader(sal_session, duration=duration, max_neurons=max_neurons)\n",
    "loader_cit = SpikeTrainLoader(cit_session, duration=duration, max_neurons=max_neurons)\n",
    "\n",
    "trains_sal = loader_sal.get_trians_by_type(t_start=t_start)\n",
    "trains_cit = loader_cit.get_trians_by_type(t_start=t_start)\n",
    "\n",
    "\n",
    "f_cit = plt.figure(figsize=(2, 1.2))\n",
    "f_sal = plt.figure(figsize=(2, 1.2))\n",
    "\n",
    "\n",
    "plot_raster_grouped(\n",
    "    fig=f_sal,\n",
    "    trains=trains_sal,\n",
    "    type_order=[\"SR\", \"SIR\", \"FF\"],\n",
    "    eventplot_kwargs={\"color\": \"k\", \"linewidths\": 0.7, \"linelengths\": 0.6},\n",
    ")\n",
    "plot_raster_grouped(\n",
    "    fig=f_cit,\n",
    "    trains=trains_cit,\n",
    "    type_order=[\"SR\", \"SIR\", \"FF\"],\n",
    "    eventplot_kwargs={\"color\": \"k\", \"linewidths\": 0.7, \"linelengths\": 0.6},\n",
    ")"
   ]
  },
  {
   "cell_type": "code",
   "execution_count": 181,
   "metadata": {},
   "outputs": [
    {
     "data": {
      "text/plain": [
       "[]"
      ]
     },
     "execution_count": 181,
     "metadata": {},
     "output_type": "execute_result"
    },
    {
     "data": {
      "image/png": "[encoded data removed]",
      "text/plain": [
       "<Figure size 150x150 with 1 Axes>"
      ]
     },
     "metadata": {},
     "output_type": "display_data"
    }
   ],
   "source": [
    "from sklearn.preprocessing import scale, robust_scale, RobustScaler\n",
    "from sklearn.impute import KNNImputer\n",
    "from sklearn.pipeline import make_pipeline\n",
    "\n",
    "cols = [\"cv_isi_burst\", \"mean_firing_rate\", \"width_basepost\"]\n",
    "neuron_types = load_derived_generic(\"neuron_types.csv\").sort_values(\"neuron_type\", ascending=False)\n",
    "pipe = make_pipeline(KNNImputer(), RobustScaler())\n",
    "\n",
    "scaled = pipe.fit_transform(neuron_types[cols])\n",
    "\n",
    "scaled_sal = scaled[neuron_types[\"group\"] == \"SAL\"]\n",
    "scaled_cit = scaled[neuron_types[\"group\"] == \"CIT\"]\n",
    "\n",
    "f_sal = plt.figure(figsize=(1.5, 1.5))\n",
    "ax_sal = f_sal.subplots()\n",
    "sns.heatmap(scaled_sal, ax=ax_sal, cmap=\"viridis\", cbar=False, xticklabels=cols, vmin=-1, vmax=1, robust=True)\n",
    "ax_sal.set_yticks([])\n",
    "ax_sal.set_xticks([])\n"
   ]
  },
  {
   "cell_type": "code",
   "execution_count": 182,
   "metadata": {},
   "outputs": [
    {
     "data": {
      "text/plain": [
       "[]"
      ]
     },
     "execution_count": 182,
     "metadata": {},
     "output_type": "execute_result"
    },
    {
     "data": {
      "image/png": "[encoded data removed]",
      "text/plain": [
       "<Figure size 150x150 with 1 Axes>"
      ]
     },
     "metadata": {},
     "output_type": "display_data"
    }
   ],
   "source": [
    "f_cit = plt.figure(figsize=(1.5, 1.5))\n",
    "ax_cit = f_cit.subplots()\n",
    "sns.heatmap(scaled_cit, ax=ax_cit, cmap=\"viridis\", cbar=False, xticklabels=cols, vmin=-1, vmax=1, robust=True)\n",
    "ax_cit.set_yticks([])\n",
    "ax_cit.set_xticks([])\n"
   ]
  },
  {
   "cell_type": "markdown",
   "metadata": {},
   "source": []
  },
  {
   "cell_type": "code",
   "execution_count": null,
   "metadata": {},
   "outputs": [],
   "source": []
  }
 ],
 "metadata": {
  "kernelspec": {
   "display_name": "Python 3.8.13 ('ssri')",
   "language": "python",
   "name": "python3"
  },
  "language_info": {
   "codemirror_mode": {
    "name": "ipython",
    "version": 3
   },
   "file_extension": ".py",
   "mimetype": "text/x-python",
   "name": "python",
   "nbconvert_exporter": "python",
   "pygments_lexer": "ipython3",
   "version": "3.8.13"
  },
  "orig_nbformat": 4,
  "vscode": {
   "interpreter": {
    "hash": "998f3992552e3982958b29910ac62535f7791fb5d4d73f3260b206ed6ebaabc7"
   }
  }
 },
 "nbformat": 4,
 "nbformat_minor": 2
}

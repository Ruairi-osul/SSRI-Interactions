{
 "cells": [
  {
   "cell_type": "code",
   "execution_count": 2,
   "metadata": {},
   "outputs": [],
   "source": [
    "from typing import List\n",
    "import matplotlib.pyplot as plt\n",
    "import numpy as np\n",
    "import pandas as pd\n",
    "import seaborn as sns\n",
    "from ssri_interactions.transforms import SpikesHandler\n",
    "from ssri_interactions.spiketrains.spiketrain_stats import SpikeTrainDescriptor, SpikeTrainStats\n",
    "from ssri_interactions.config import Config\n",
    "from IPython.display import display\n",
    "\n",
    "from ssri_interactions.spiketrains.spiketrain_stats import cv2\n",
    "from binit.bin import which_bin\n",
    "import warnings\n",
    "from scipy.stats import variation\n",
    "\n",
    "\n",
    "%load_ext autoreload\n",
    "%autoreload 2"
   ]
  },
  {
   "cell_type": "code",
   "execution_count": 3,
   "metadata": {},
   "outputs": [],
   "source": [
    "sns.set_theme(context=\"paper\", style=\"ticks\")"
   ]
  },
  {
   "cell_type": "code",
   "execution_count": 4,
   "metadata": {},
   "outputs": [],
   "source": [
    "sh = SpikesHandler(block=\"pre\", bin_width=1, t_start=0, t_stop=1800)\n",
    "df_spikes = sh.spikes"
   ]
  },
  {
   "cell_type": "code",
   "execution_count": 5,
   "metadata": {},
   "outputs": [
    {
     "data": {
      "text/html": [
       "<div>\n",
       "<style scoped>\n",
       "    .dataframe tbody tr th:only-of-type {\n",
       "        vertical-align: middle;\n",
       "    }\n",
       "\n",
       "    .dataframe tbody tr th {\n",
       "        vertical-align: top;\n",
       "    }\n",
       "\n",
       "    .dataframe thead th {\n",
       "        text-align: right;\n",
       "    }\n",
       "</style>\n",
       "<table border=\"1\" class=\"dataframe\">\n",
       "  <thead>\n",
       "    <tr style=\"text-align: right;\">\n",
       "      <th></th>\n",
       "      <th>neuron_id</th>\n",
       "      <th>cv2_isi</th>\n",
       "      <th>is_buster</th>\n",
       "      <th>cv2_isi_burst</th>\n",
       "      <th>median_burst_interval</th>\n",
       "      <th>mean_firing_rate</th>\n",
       "      <th>mean_firing_rate_ifr</th>\n",
       "      <th>fraction_bursts</th>\n",
       "      <th>max_firing_rate</th>\n",
       "      <th>cv_firing_rate</th>\n",
       "    </tr>\n",
       "  </thead>\n",
       "  <tbody>\n",
       "    <tr>\n",
       "      <th>558</th>\n",
       "      <td>2191</td>\n",
       "      <td>0.517842</td>\n",
       "      <td>False</td>\n",
       "      <td>0.514676</td>\n",
       "      <td>0.005450</td>\n",
       "      <td>4.715000</td>\n",
       "      <td>4.819395</td>\n",
       "      <td>0.001178</td>\n",
       "      <td>193</td>\n",
       "      <td>0.084317</td>\n",
       "    </tr>\n",
       "    <tr>\n",
       "      <th>2</th>\n",
       "      <td>1071</td>\n",
       "      <td>0.743635</td>\n",
       "      <td>False</td>\n",
       "      <td>0.637153</td>\n",
       "      <td>0.010367</td>\n",
       "      <td>9.367778</td>\n",
       "      <td>9.566130</td>\n",
       "      <td>0.067904</td>\n",
       "      <td>423</td>\n",
       "      <td>0.078872</td>\n",
       "    </tr>\n",
       "    <tr>\n",
       "      <th>75</th>\n",
       "      <td>1170</td>\n",
       "      <td>1.178299</td>\n",
       "      <td>False</td>\n",
       "      <td>1.118318</td>\n",
       "      <td>0.015000</td>\n",
       "      <td>0.136111</td>\n",
       "      <td>0.722582</td>\n",
       "      <td>0.036735</td>\n",
       "      <td>36</td>\n",
       "      <td>0.692167</td>\n",
       "    </tr>\n",
       "    <tr>\n",
       "      <th>1</th>\n",
       "      <td>1070</td>\n",
       "      <td>0.999238</td>\n",
       "      <td>True</td>\n",
       "      <td>0.822681</td>\n",
       "      <td>0.009733</td>\n",
       "      <td>6.366111</td>\n",
       "      <td>6.265885</td>\n",
       "      <td>0.149926</td>\n",
       "      <td>492</td>\n",
       "      <td>0.119258</td>\n",
       "    </tr>\n",
       "    <tr>\n",
       "      <th>511</th>\n",
       "      <td>2106</td>\n",
       "      <td>0.876126</td>\n",
       "      <td>False</td>\n",
       "      <td>0.876126</td>\n",
       "      <td>NaN</td>\n",
       "      <td>0.200000</td>\n",
       "      <td>0.688578</td>\n",
       "      <td>0.000000</td>\n",
       "      <td>80</td>\n",
       "      <td>0.803801</td>\n",
       "    </tr>\n",
       "  </tbody>\n",
       "</table>\n",
       "</div>"
      ],
      "text/plain": [
       "     neuron_id   cv2_isi  is_buster  cv2_isi_burst  median_burst_interval  \\\n",
       "558       2191  0.517842      False       0.514676               0.005450   \n",
       "2         1071  0.743635      False       0.637153               0.010367   \n",
       "75        1170  1.178299      False       1.118318               0.015000   \n",
       "1         1070  0.999238       True       0.822681               0.009733   \n",
       "511       2106  0.876126      False       0.876126                    NaN   \n",
       "\n",
       "     mean_firing_rate  mean_firing_rate_ifr  fraction_bursts  max_firing_rate  \\\n",
       "558          4.715000              4.819395         0.001178              193   \n",
       "2            9.367778              9.566130         0.067904              423   \n",
       "75           0.136111              0.722582         0.036735               36   \n",
       "1            6.366111              6.265885         0.149926              492   \n",
       "511          0.200000              0.688578         0.000000               80   \n",
       "\n",
       "     cv_firing_rate  \n",
       "558        0.084317  \n",
       "2          0.078872  \n",
       "75         0.692167  \n",
       "1          0.119258  \n",
       "511        0.803801  "
      ]
     },
     "metadata": {},
     "output_type": "display_data"
    }
   ],
   "source": [
    "descriptor = SpikeTrainDescriptor()\n",
    "\n",
    "with warnings.catch_warnings():\n",
    "    warnings.simplefilter(\"ignore\")\n",
    "    df_stats = descriptor.describe(\n",
    "        df_spikes, \n",
    "        t_start=0, \n",
    "        t_stop=1800, \n",
    "        burst_thresh=0.02, \n",
    "        max_fr_binsize=30, \n",
    "        cv_fr_binsize=30, \n",
    "        mfr_bin_size=30, \n",
    "        mfr_exclude_below=0.5,\n",
    "        )\n",
    "\n",
    "display(df_stats.sample(5))\n",
    "df_stats.to_csv(Config.derived_data_dir / \"spiketrain_stats.csv\", index=False)"
   ]
  },
  {
   "cell_type": "code",
   "execution_count": 14,
   "metadata": {},
   "outputs": [],
   "source": [
    "bins = np.arange(0, 1801, 30)\n",
    "df_spikes[\"segment\"] = which_bin(df_spikes[\"spiketimes\"].values, bins, time_after=30)\n",
    "stats = SpikeTrainStats(thresh_burst=0.02)\n",
    "\n",
    "with warnings.catch_warnings():  # ignore warnings about empty bins\n",
    "    warnings.simplefilter(\"ignore\")\n",
    "    stats_by_segment_wide = df_spikes.groupby([\"neuron_id\", \"segment\"])[\"spiketimes\"].apply(stats)\n",
    "    stats_by_segment_long = (\n",
    "        stats_by_segment_wide\n",
    "        .reset_index()\n",
    "        .rename(columns={\"level_2\": \"metric\"})\n",
    "        .assign(spiketimes=lambda x: x[\"spiketimes\"].astype(float))\n",
    "    )\n"
   ]
  },
  {
   "cell_type": "code",
   "execution_count": 15,
   "metadata": {},
   "outputs": [
    {
     "name": "stderr",
     "output_type": "stream",
     "text": [
      "/opt/miniconda3/envs/ssri/lib/python3.8/site-packages/numpy/lib/nanfunctions.py:1217: RuntimeWarning: All-NaN slice encountered\n",
      "  r, k = function_base._ureduce(a, func=_nanmedian, axis=axis, out=out,\n"
     ]
    }
   ],
   "source": [
    "# median stats by segment\n",
    "median_over_segments_long =(\n",
    "    stats_by_segment_long\n",
    "    .groupby([\"neuron_id\", \"metric\"])[\"spiketimes\"]\n",
    "    .apply(lambda x: np.nanmedian(x))\n",
    "    .reset_index()\n",
    ")\n",
    "\n",
    "# cv of stats by segment (volatility)\n",
    "cv_over_segments_long = (\n",
    "    stats_by_segment_long\n",
    "    .fillna(method=\"backfill\")\n",
    "    .fillna(method=\"bfill\")\n",
    "    .groupby([\"neuron_id\", \"metric\"])\n",
    "    [\"spiketimes\"]\n",
    "    .apply(lambda x: variation(x))\n",
    "    .reset_index()\n",
    ")"
   ]
  },
  {
   "cell_type": "code",
   "execution_count": 16,
   "metadata": {},
   "outputs": [],
   "source": [
    "# convert to wide\n",
    "median_over_segments_wide = median_over_segments_long.pivot(index=\"neuron_id\", columns=\"metric\", values=\"spiketimes\")\n",
    "cv_over_segments_wide = cv_over_segments_long.pivot(index=\"neuron_id\", columns=\"metric\", values=\"spiketimes\")"
   ]
  },
  {
   "cell_type": "code",
   "execution_count": 17,
   "metadata": {},
   "outputs": [],
   "source": [
    "# save\n",
    "median_over_segments_wide.reset_index().to_csv(Config.derived_data_dir / \"spiketrain_stats_segments.csv\", index=False)\n",
    "cv_over_segments_wide.reset_index().to_csv(Config.derived_data_dir / \"spiketrain_stats_volitility.csv\", index=False)"
   ]
  },
  {
   "cell_type": "code",
   "execution_count": null,
   "metadata": {},
   "outputs": [],
   "source": []
  },
  {
   "cell_type": "code",
   "execution_count": null,
   "metadata": {},
   "outputs": [],
   "source": []
  }
 ],
 "metadata": {
  "kernelspec": {
   "display_name": "Python 3.8.13 ('ssri')",
   "language": "python",
   "name": "python3"
  },
  "language_info": {
   "codemirror_mode": {
    "name": "ipython",
    "version": 3
   },
   "file_extension": ".py",
   "mimetype": "text/x-python",
   "name": "python",
   "nbconvert_exporter": "python",
   "pygments_lexer": "ipython3",
   "version": "3.8.13"
  },
  "orig_nbformat": 4,
  "vscode": {
   "interpreter": {
    "hash": "998f3992552e3982958b29910ac62535f7791fb5d4d73f3260b206ed6ebaabc7"
   }
  }
 },
 "nbformat": 4,
 "nbformat_minor": 2
}

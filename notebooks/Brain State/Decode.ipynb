{
 "cells": [
  {
   "cell_type": "code",
   "execution_count": 5,
   "metadata": {},
   "outputs": [
    {
     "name": "stdout",
     "output_type": "stream",
     "text": [
      "The autoreload extension is already loaded. To reload it, use:\n",
      "  %reload_ext autoreload\n"
     ]
    }
   ],
   "source": [
    "from sklearn.model_selection import KFold\n",
    "from lightgbm import LGBMClassifier\n",
    "\n",
    "from ssri_interactions.io import load_derived_generic\n",
    "from ssri_interactions.config import ExperimentInfo, Config\n",
    "from ssri_interactions.decoding.loaders import StateDecodeDataLoader\n",
    "from ssri_interactions.decoding.preprocessors import StateDecodePreprocessor\n",
    "from ssri_interactions.decoding.runners import DecodeRunner\n",
    "from ssri_interactions.decoding.decoders import Decoder\n",
    "from ssri_interactions.decoding.shuffle import shuffle_X\n",
    "\n",
    "\n",
    "%load_ext autoreload\n",
    "%autoreload 2"
   ]
  },
  {
   "cell_type": "code",
   "execution_count": 13,
   "metadata": {},
   "outputs": [],
   "source": [
    "# load_derived_generic(\"lfp_states.csv\").query(\"quality == 'good'\")"
   ]
  },
  {
   "cell_type": "code",
   "execution_count": 14,
   "metadata": {},
   "outputs": [],
   "source": [
    "sessions =load_derived_generic(\"lfp_states.csv\").query(\"quality == 'good'\").session_name.unique().tolist()\n",
    "\n",
    "loader = StateDecodeDataLoader(session_name=sessions[0], block=\"pre\", t_stop=1800, states_path=Config.derived_data_dir / \"lfp_states.csv\")\n",
    "preprocessor = StateDecodePreprocessor(\n",
    "    thresh_empty=2,\n",
    ")\n",
    "spikes, states = loader()\n",
    "spikes, states = preprocessor(spikes, states)\n",
    "\n",
    "estimator = LGBMClassifier(n_estimators=50, max_depth=8, num_leaves=30)\n",
    "cv = KFold(n_splits=5, shuffle=True)\n",
    "decoder = Decoder(estimator=estimator, cv=cv, shuffler=shuffle_X)\n",
    "runner = DecodeRunner(\n",
    "    loader=loader,\n",
    "    preprocessor=preprocessor,\n",
    "    decoder=decoder,\n",
    "    nboot=75,\n",
    ")"
   ]
  },
  {
   "cell_type": "code",
   "execution_count": 15,
   "metadata": {},
   "outputs": [
    {
     "name": "stderr",
     "output_type": "stream",
     "text": [
      "100%|██████████| 75/75 [07:50<00:00,  6.28s/it]\n",
      "100%|██████████| 75/75 [07:45<00:00,  6.21s/it]\n",
      "100%|██████████| 75/75 [12:30<00:00, 10.01s/it]  \n",
      "100%|██████████| 75/75 [23:59<00:00, 19.19s/it]   \n",
      "100%|██████████| 75/75 [06:39<00:00,  5.33s/it]\n",
      "100%|██████████| 75/75 [41:12<00:00, 32.97s/it] \n",
      "100%|██████████| 75/75 [06:39<00:00,  5.33s/it]\n",
      "100%|██████████| 75/75 [06:30<00:00,  5.20s/it]\n",
      "100%|██████████| 75/75 [06:07<00:00,  4.90s/it]\n",
      "100%|██████████| 75/75 [05:45<00:00,  4.60s/it]\n",
      "100%|██████████| 75/75 [06:25<00:00,  5.14s/it]\n",
      "100%|██████████| 75/75 [08:10<00:00,  6.54s/it]\n",
      "100%|██████████| 75/75 [09:31<00:00,  7.61s/it]\n"
     ]
    }
   ],
   "source": [
    "pop, unit = runner.run_multiple(sessions)\n",
    "limit = runner.run_multiple_limit(sessions=sessions, n_min=1, n_max=31)\n",
    "dropout = runner.run_multiple_dropout(sessions=sessions, neuron_types=(\"SR\", \"SIR\", \"FF\"))"
   ]
  },
  {
   "cell_type": "code",
   "execution_count": 16,
   "metadata": {},
   "outputs": [],
   "source": [
    "dd = Config.derived_data_dir / \"decoding\"\n",
    "dd.mkdir(exist_ok=True)\n",
    "pop.to_csv(dd / \"brain state - pop.csv\", index=False)\n",
    "unit.to_csv(dd / \"brain state - unit.csv\", index=False)\n",
    "limit.to_csv(dd / \"brain state - limit.csv\", index=False)\n",
    "dropout.to_csv(dd / \"brain state - dropout.csv\", index=False)"
   ]
  },
  {
   "cell_type": "code",
   "execution_count": null,
   "metadata": {},
   "outputs": [],
   "source": []
  }
 ],
 "metadata": {
  "kernelspec": {
   "display_name": "Python 3.8.13 ('ssri')",
   "language": "python",
   "name": "python3"
  },
  "language_info": {
   "codemirror_mode": {
    "name": "ipython",
    "version": 3
   },
   "file_extension": ".py",
   "mimetype": "text/x-python",
   "name": "python",
   "nbconvert_exporter": "python",
   "pygments_lexer": "ipython3",
   "version": "3.8.13"
  },
  "orig_nbformat": 4,
  "vscode": {
   "interpreter": {
    "hash": "998f3992552e3982958b29910ac62535f7791fb5d4d73f3260b206ed6ebaabc7"
   }
  }
 },
 "nbformat": 4,
 "nbformat_minor": 2
}

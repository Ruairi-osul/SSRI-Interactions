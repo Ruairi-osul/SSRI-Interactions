{
 "cells": [
  {
   "cell_type": "code",
   "execution_count": null,
   "metadata": {},
   "outputs": [],
   "source": [
    "from sklearn.model_selection import KFold\n",
    "from lightgbm import LGBMClassifier\n",
    "\n",
    "from ssri_interactions.io import load_derived_generic\n",
    "from ssri_interactions.config import Config\n",
    "from ssri_interactions.decoding.loaders import FSDecodeDataLoader, FSFastDecodeDataLoader\n",
    "from ssri_interactions.decoding.preprocessors import DecodePreprocessor\n",
    "from ssri_interactions.decoding.runners import DecodeRunner\n",
    "from ssri_interactions.decoding.decoders import Decoder\n",
    "from ssri_interactions.decoding.shuffle import shuffle_X\n",
    "\n",
    "from sklearn.pipeline import make_pipeline\n",
    "from sklearn.preprocessing import StandardScaler"
   ]
  },
  {
   "cell_type": "code",
   "execution_count": null,
   "metadata": {},
   "outputs": [],
   "source": [
    "def make_slow_ts_runner(loader):\n",
    "    preprocessor = DecodePreprocessor(\n",
    "        thresh_empty=2,\n",
    "    )\n",
    "    spikes, states = loader()\n",
    "    spikes, states = preprocessor(spikes, states)\n",
    "    estimator = LGBMClassifier(n_estimators=50, max_depth=8, num_leaves=30)\n",
    "    cv = KFold(n_splits=5, shuffle=True)\n",
    "    decoder = Decoder(estimator=estimator, cv=cv, shuffler=shuffle_X)\n",
    "    runner = DecodeRunner(\n",
    "        loader=loader,\n",
    "        preprocessor=preprocessor,\n",
    "        decoder=decoder,\n",
    "        nboot=75,\n",
    "    )\n",
    "    return runner"
   ]
  },
  {
   "cell_type": "markdown",
   "metadata": {},
   "source": [
    "#### Loaders"
   ]
  },
  {
   "cell_type": "code",
   "execution_count": null,
   "metadata": {},
   "outputs": [],
   "source": [
    "neuron_types = load_derived_generic(\"neuron_types.csv\").query(\"group in ('CIT', 'SAL')\")\n",
    "sessions = neuron_types.query(\"experiment_name == 'HAMILTON'\").session_name.unique().tolist()\n",
    "session = sessions[0]\n",
    "loader_post_shock = FSDecodeDataLoader(session_name=session)\n",
    "loader_shock_only = FSDecodeDataLoader(session_name=session, t_stop=600)"
   ]
  },
  {
   "cell_type": "markdown",
   "metadata": {},
   "source": [
    "#### Shock Only"
   ]
  },
  {
   "cell_type": "code",
   "execution_count": null,
   "metadata": {},
   "outputs": [],
   "source": [
    "runner_shock_only = make_slow_ts_runner(loader_shock_only)\n",
    "\n",
    "pop, unit = runner_shock_only.run_multiple(sessions)\n",
    "limit = runner_shock_only.run_multiple_limit(sessions=sessions, n_min=1, n_max=15)\n",
    "dropout = runner_shock_only.run_multiple_dropout(sessions=sessions, neuron_types=(\"SR\", \"SIR\", \"FF\"))\n",
    "\n",
    "\n",
    "dd = Config.derived_data_dir / \"decoding\"\n",
    "dd.mkdir(exist_ok=True)\n",
    "pop.to_csv(dd / \"fs_slow - shock only - pop.csv\", index=False)\n",
    "unit.to_csv(dd / \"fs_slow - shock only - unit.csv\", index=False)\n",
    "limit.to_csv(dd / \"fs_slow - shock only - limit.csv\", index=False)\n",
    "dropout.to_csv(dd / \"fs_slow - shock only - dropout.csv\", index=False)"
   ]
  },
  {
   "cell_type": "markdown",
   "metadata": {},
   "source": [
    "#### Post-included"
   ]
  },
  {
   "cell_type": "code",
   "execution_count": null,
   "metadata": {},
   "outputs": [],
   "source": [
    "runner_post_shock = make_slow_ts_runner(loader_post_shock)\n",
    "\n",
    "pop, unit = runner_post_shock.run_multiple(sessions)\n",
    "limit = runner_post_shock.run_multiple_limit(sessions=sessions, n_min=1, n_max=15)\n",
    "dropout = runner_post_shock.run_multiple_dropout(sessions=sessions, neuron_types=(\"SR\", \"SIR\", \"FF\"))\n",
    "\n",
    "\n",
    "dd = Config.derived_data_dir / \"decoding\"\n",
    "dd.mkdir(exist_ok=True)\n",
    "pop.to_csv(dd / \"fs_slow - post-included - pop.csv\", index=False)\n",
    "unit.to_csv(dd / \"fs_slow - post-included - unit.csv\", index=False)\n",
    "limit.to_csv(dd / \"fs_slow - post-included - limit.csv\", index=False)\n",
    "dropout.to_csv(dd / \"fs_slow - post-included - dropout.csv\", index=False)"
   ]
  }
 ],
 "metadata": {
  "kernelspec": {
   "display_name": "Python 3.9.12 ('ssri')",
   "language": "python",
   "name": "python3"
  },
  "language_info": {
   "codemirror_mode": {
    "name": "ipython",
    "version": 3
   },
   "file_extension": ".py",
   "mimetype": "text/x-python",
   "name": "python",
   "nbconvert_exporter": "python",
   "pygments_lexer": "ipython3",
   "version": "3.9.12"
  },
  "orig_nbformat": 4,
  "vscode": {
   "interpreter": {
    "hash": "43cbdb6d61dab472ca36965b8e063b8466d44641e4bc0dd430fcfe888de07997"
   }
  }
 },
 "nbformat": 4,
 "nbformat_minor": 2
}

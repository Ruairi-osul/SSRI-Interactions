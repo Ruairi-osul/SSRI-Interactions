{
 "cells": [
  {
   "cell_type": "code",
   "execution_count": 2,
   "metadata": {},
   "outputs": [
    {
     "name": "stderr",
     "output_type": "stream",
     "text": [
      "/opt/miniconda3/envs/ssri/lib/python3.8/site-packages/outdated/utils.py:14: OutdatedPackageWarning: The package pingouin is out of date. Your version is 0.5.1, the latest is 0.5.2.\n",
      "Set the environment variable OUTDATED_IGNORE=1 to disable these warnings.\n",
      "  return warn(\n"
     ]
    }
   ],
   "source": [
    "from ssri_interactions.transforms.spikes import SpikesHandlerMulti\n",
    "from ssri_interactions.config import Config, ExperimentInfo\n",
    "from ssri_interactions.io import load_events, load_derived_generic\n",
    "from ssri_interactions.responders.foot_shock import SpikeRateResponders\n",
    "import pandas as pd\n",
    "import numpy as np\n",
    "from IPython.display import display\n",
    "from scipy.stats import zscore, zmap\n",
    "import warnings\n",
    "from ssri_interactions.transforms.shock_transforms import ShockUtils\n",
    "from ssri_interactions.transforms.spikes import SpikesHandler\n",
    "from ssri_interactions.responders.foot_shock import AlignedResponders\n",
    "from ssri_interactions.plots import PAL_GREY_BLACK\n",
    "import seaborn as sns\n",
    "\n",
    "from sklearn.metrics import mutual_info_score\n",
    "import ezbootstrap as ez\n",
    "from sklearn.preprocessing import LabelEncoder\n",
    "from ssri_interactions.stats import se_mean\n",
    "\n",
    "%load_ext autoreload\n",
    "%autoreload 2"
   ]
  },
  {
   "cell_type": "code",
   "execution_count": 3,
   "metadata": {},
   "outputs": [],
   "source": [
    "def get_response(df, sig_col=\"sig\", diff_col=\"Diff\"):\n",
    "    return np.where(\n",
    "        df[sig_col] == True, \n",
    "        np.where(df[diff_col] > 0, \"activated\", \"inhibited\"), \n",
    "        \"non responder\")"
   ]
  },
  {
   "cell_type": "markdown",
   "metadata": {},
   "source": [
    "# Slow Timescale Effects"
   ]
  },
  {
   "cell_type": "markdown",
   "metadata": {},
   "source": [
    "### Load data"
   ]
  },
  {
   "cell_type": "code",
   "execution_count": 4,
   "metadata": {},
   "outputs": [],
   "source": [
    "neuron_types = (\n",
    "    load_derived_generic(\"neuron_types.csv\")\n",
    "    .assign(neuron_type=lambda x: pd.Categorical(x.neuron_type, categories=[\"SR\", \"SIR\", \"FF\"], ordered=True))\n",
    ")\n",
    "sessions = neuron_types.query(\"experiment_name == 'HAMILTON'\").session_name.unique().tolist()\n",
    "spikes_handler = SpikesHandlerMulti(\n",
    "    block=[\"base_shock\", \"post_base_shock\"], \n",
    "    bin_width=1, \n",
    "    session_names=sessions,\n",
    "    t_start=-600, \n",
    "    t_stop=1200,\n",
    ")"
   ]
  },
  {
   "cell_type": "markdown",
   "metadata": {},
   "source": [
    "#### Preprocessing"
   ]
  },
  {
   "cell_type": "code",
   "execution_count": 5,
   "metadata": {},
   "outputs": [
    {
     "name": "stderr",
     "output_type": "stream",
     "text": [
      "/var/folders/6b/xc7c961d7wgck5t4ltmpjykh0000gn/T/ipykernel_36998/1552030014.py:11: FutureWarning: The behavior of `series[i:j]` with an integer-dtype index is deprecated. In a future version, this will be treated as *label-based* indexing, consistent with e.g. `series[i]` lookups. To retain the old behavior, use `series.iloc[i:j]`. To get the future behavior, use `series.loc[i:j]`.\n",
      "  .assign(zcounts=lambda x: x.groupby(\"neuron_id\")[\"counts\"].transform(lambda x: zmap(x, x[:600])))\n"
     ]
    }
   ],
   "source": [
    "df_slow = (\n",
    "    spikes_handler.binned\n",
    "    .merge(neuron_types)\n",
    "    .assign(\n",
    "        block=lambda x: np.select(\n",
    "            [x[\"bin\"] < 0, x[\"bin\"] < 600, x[\"bin\"] < 1200],\n",
    "            [\"1Pre\", \"2Shock\", \"3Post\"],\n",
    "            )\n",
    "        )\n",
    "    # .query(\"block != '3Post'\")\n",
    "    .assign(zcounts=lambda x: x.groupby(\"neuron_id\")[\"counts\"].transform(lambda x: zmap(x, x[:600])))\n",
    "    .dropna()\n",
    ")"
   ]
  },
  {
   "cell_type": "markdown",
   "metadata": {},
   "source": [
    "#### Fit Group-level models"
   ]
  },
  {
   "cell_type": "code",
   "execution_count": 6,
   "metadata": {},
   "outputs": [
    {
     "data": {
      "text/html": [
       "<div>\n",
       "<style scoped>\n",
       "    .dataframe tbody tr th:only-of-type {\n",
       "        vertical-align: middle;\n",
       "    }\n",
       "\n",
       "    .dataframe tbody tr th {\n",
       "        vertical-align: top;\n",
       "    }\n",
       "\n",
       "    .dataframe thead th {\n",
       "        text-align: right;\n",
       "    }\n",
       "</style>\n",
       "<table border=\"1\" class=\"dataframe\">\n",
       "  <thead>\n",
       "    <tr style=\"text-align: right;\">\n",
       "      <th></th>\n",
       "      <th>Source</th>\n",
       "      <th>F</th>\n",
       "      <th>DF1</th>\n",
       "      <th>p-unc</th>\n",
       "    </tr>\n",
       "  </thead>\n",
       "  <tbody>\n",
       "    <tr>\n",
       "      <th>0</th>\n",
       "      <td>neuron_type</td>\n",
       "      <td>4.41</td>\n",
       "      <td>2</td>\n",
       "      <td>0.01</td>\n",
       "    </tr>\n",
       "    <tr>\n",
       "      <th>1</th>\n",
       "      <td>block</td>\n",
       "      <td>24.46</td>\n",
       "      <td>2</td>\n",
       "      <td>0.00</td>\n",
       "    </tr>\n",
       "    <tr>\n",
       "      <th>2</th>\n",
       "      <td>Interaction</td>\n",
       "      <td>2.15</td>\n",
       "      <td>4</td>\n",
       "      <td>0.07</td>\n",
       "    </tr>\n",
       "  </tbody>\n",
       "</table>\n",
       "</div>"
      ],
      "text/plain": [
       "        Source      F  DF1  p-unc\n",
       "0  neuron_type   4.41    2   0.01\n",
       "1        block  24.46    2   0.00\n",
       "2  Interaction   2.15    4   0.07"
      ]
     },
     "metadata": {},
     "output_type": "display_data"
    },
    {
     "data": {
      "text/html": [
       "<div>\n",
       "<style scoped>\n",
       "    .dataframe tbody tr th:only-of-type {\n",
       "        vertical-align: middle;\n",
       "    }\n",
       "\n",
       "    .dataframe tbody tr th {\n",
       "        vertical-align: top;\n",
       "    }\n",
       "\n",
       "    .dataframe thead th {\n",
       "        text-align: right;\n",
       "    }\n",
       "</style>\n",
       "<table border=\"1\" class=\"dataframe\">\n",
       "  <thead>\n",
       "    <tr style=\"text-align: right;\">\n",
       "      <th></th>\n",
       "      <th>block</th>\n",
       "      <th>A</th>\n",
       "      <th>B</th>\n",
       "      <th>mean(A)</th>\n",
       "      <th>mean(B)</th>\n",
       "      <th>T</th>\n",
       "      <th>dof</th>\n",
       "      <th>p-corr</th>\n",
       "      <th>Sig</th>\n",
       "    </tr>\n",
       "  </thead>\n",
       "  <tbody>\n",
       "    <tr>\n",
       "      <th>0</th>\n",
       "      <td>-</td>\n",
       "      <td>1Pre</td>\n",
       "      <td>2Shock</td>\n",
       "      <td>0.00</td>\n",
       "      <td>0.51</td>\n",
       "      <td>-6.64</td>\n",
       "      <td>463.00</td>\n",
       "      <td>0.00</td>\n",
       "      <td>*</td>\n",
       "    </tr>\n",
       "    <tr>\n",
       "      <th>1</th>\n",
       "      <td>-</td>\n",
       "      <td>1Pre</td>\n",
       "      <td>3Post</td>\n",
       "      <td>0.00</td>\n",
       "      <td>0.09</td>\n",
       "      <td>-1.31</td>\n",
       "      <td>463.00</td>\n",
       "      <td>0.19</td>\n",
       "      <td></td>\n",
       "    </tr>\n",
       "    <tr>\n",
       "      <th>2</th>\n",
       "      <td>-</td>\n",
       "      <td>2Shock</td>\n",
       "      <td>3Post</td>\n",
       "      <td>0.51</td>\n",
       "      <td>0.09</td>\n",
       "      <td>4.94</td>\n",
       "      <td>463.00</td>\n",
       "      <td>0.00</td>\n",
       "      <td>*</td>\n",
       "    </tr>\n",
       "    <tr>\n",
       "      <th>9</th>\n",
       "      <td>2Shock</td>\n",
       "      <td>SR</td>\n",
       "      <td>SIR</td>\n",
       "      <td>0.44</td>\n",
       "      <td>0.65</td>\n",
       "      <td>-1.32</td>\n",
       "      <td>423.53</td>\n",
       "      <td>0.42</td>\n",
       "      <td></td>\n",
       "    </tr>\n",
       "    <tr>\n",
       "      <th>10</th>\n",
       "      <td>2Shock</td>\n",
       "      <td>SR</td>\n",
       "      <td>FF</td>\n",
       "      <td>0.44</td>\n",
       "      <td>0.02</td>\n",
       "      <td>1.07</td>\n",
       "      <td>39.11</td>\n",
       "      <td>0.46</td>\n",
       "      <td></td>\n",
       "    </tr>\n",
       "    <tr>\n",
       "      <th>11</th>\n",
       "      <td>2Shock</td>\n",
       "      <td>SIR</td>\n",
       "      <td>FF</td>\n",
       "      <td>0.65</td>\n",
       "      <td>0.02</td>\n",
       "      <td>1.58</td>\n",
       "      <td>40.38</td>\n",
       "      <td>0.37</td>\n",
       "      <td></td>\n",
       "    </tr>\n",
       "    <tr>\n",
       "      <th>12</th>\n",
       "      <td>3Post</td>\n",
       "      <td>SR</td>\n",
       "      <td>SIR</td>\n",
       "      <td>0.12</td>\n",
       "      <td>0.18</td>\n",
       "      <td>-0.43</td>\n",
       "      <td>381.04</td>\n",
       "      <td>0.78</td>\n",
       "      <td></td>\n",
       "    </tr>\n",
       "    <tr>\n",
       "      <th>13</th>\n",
       "      <td>3Post</td>\n",
       "      <td>SR</td>\n",
       "      <td>FF</td>\n",
       "      <td>0.12</td>\n",
       "      <td>-0.60</td>\n",
       "      <td>2.89</td>\n",
       "      <td>43.08</td>\n",
       "      <td>0.03</td>\n",
       "      <td>*</td>\n",
       "    </tr>\n",
       "    <tr>\n",
       "      <th>14</th>\n",
       "      <td>3Post</td>\n",
       "      <td>SIR</td>\n",
       "      <td>FF</td>\n",
       "      <td>0.18</td>\n",
       "      <td>-0.60</td>\n",
       "      <td>2.96</td>\n",
       "      <td>54.42</td>\n",
       "      <td>0.03</td>\n",
       "      <td>*</td>\n",
       "    </tr>\n",
       "  </tbody>\n",
       "</table>\n",
       "</div>"
      ],
      "text/plain": [
       "     block       A       B  mean(A)  mean(B)     T     dof  p-corr Sig\n",
       "0        -    1Pre  2Shock     0.00     0.51 -6.64  463.00    0.00   *\n",
       "1        -    1Pre   3Post     0.00     0.09 -1.31  463.00    0.19    \n",
       "2        -  2Shock   3Post     0.51     0.09  4.94  463.00    0.00   *\n",
       "9   2Shock      SR     SIR     0.44     0.65 -1.32  423.53    0.42    \n",
       "10  2Shock      SR      FF     0.44     0.02  1.07   39.11    0.46    \n",
       "11  2Shock     SIR      FF     0.65     0.02  1.58   40.38    0.37    \n",
       "12   3Post      SR     SIR     0.12     0.18 -0.43  381.04    0.78    \n",
       "13   3Post      SR      FF     0.12    -0.60  2.89   43.08    0.03   *\n",
       "14   3Post     SIR      FF     0.18    -0.60  2.96   54.42    0.03   *"
      ]
     },
     "metadata": {},
     "output_type": "display_data"
    }
   ],
   "source": [
    "mod = SpikeRateResponders(\n",
    "    df_value_col=\"zcounts\", \n",
    "    round_output=2, \n",
    "    within_first=True,\n",
    "    anova_contrast_interaction=True,\n",
    "    min_diff=0.4,\n",
    "    )\n",
    "\n",
    "\n",
    "with warnings.catch_warnings():  # ignore pandas future warning\n",
    "    warnings.simplefilter(\"ignore\")\n",
    "    anova, contrasts = mod.get_anova(df_slow, fit_neuron_types=True)\n",
    "\n",
    "contrasts=(\n",
    "    contrasts\n",
    "    .query(\"A in ('1Pre', '2Shock', '3Post') or block in ('2Shock', '3Post') \")\n",
    "    .loc[:, [\"block\", \"A\", \"B\", \"mean(A)\", \"mean(B)\", \"T\", \"dof\", \"p-corr\", \"Sig\"]]\n",
    ")\n",
    "anova = (\n",
    "    anova\n",
    "    .loc[:, [\"Source\",  \"F\",  \"DF1\", \"p-unc\"]]\n",
    ")\n",
    "display(anova)\n",
    "display(contrasts)"
   ]
  },
  {
   "cell_type": "markdown",
   "metadata": {},
   "source": [
    "### Fit single neuron models"
   ]
  },
  {
   "cell_type": "code",
   "execution_count": 7,
   "metadata": {},
   "outputs": [],
   "source": [
    "\n",
    "with warnings.catch_warnings():  # ignore pandas future warning\n",
    "    warnings.simplefilter(\"ignore\")\n",
    "    anovas, contrast_dict = mod.get_responders(df_slow)\n",
    "\n",
    "for df in contrast_dict.values():\n",
    "    df[\"div_inv\"] = df[\"diff\"] * -1\n",
    "    df[\"response\"] = get_response(df, diff_col=\"diff_inv\")"
   ]
  },
  {
   "cell_type": "markdown",
   "metadata": {},
   "source": [
    "#### Export"
   ]
  },
  {
   "cell_type": "code",
   "execution_count": 8,
   "metadata": {},
   "outputs": [
    {
     "name": "stdout",
     "output_type": "stream",
     "text": [
      "Data Dir: /Users/ruairiosullivan/repos/SSRI Interactions/data\n",
      "SU Anovas: /Users/ruairiosullivan/repos/SSRI Interactions/data/derived/slow_ts_foot_shock_unit_anovas.csv\n",
      "SU Contrasts:\n",
      "\tpre_to_shock: /Users/ruairiosullivan/repos/SSRI Interactions/data/derived/slow_ts_foot_shock_unit_responders_pre_to_shock.csv\n",
      "\tshock_to_post: /Users/ruairiosullivan/repos/SSRI Interactions/data/derived/slow_ts_foot_shock_unit_responders_shock_to_post.csv\n",
      "\tpre_to_post: /Users/ruairiosullivan/repos/SSRI Interactions/data/derived/slow_ts_foot_shock_unit_responders_pre_to_post.csv\n",
      "SU Counts: /Users/ruairiosullivan/repos/SSRI Interactions/data/derived/spike_counts_around_footshock.parquet\n"
     ]
    }
   ],
   "source": [
    "data_dir = Config.data_dir\n",
    "print(f\"Data Dir: {str(data_dir)}\")\n",
    "\n",
    "fn_aov = Config.derived_data_dir / \"slow_ts_foot_shock_unit_anovas.csv\"\n",
    "(\n",
    "    anovas\n",
    "    .merge(neuron_types[[\"session_name\", \"neuron_id\", \"neuron_type\", \"group\"]])\n",
    "    .to_csv(fn_aov, index=False)\n",
    ")\n",
    "print(f\"SU Anovas: {str(fn_aov)}\")\n",
    "\n",
    "print(\"SU Contrasts:\")\n",
    "for constrast_name, contrast_df in contrast_dict.items():\n",
    "    fn_contrast = Config.derived_data_dir / f\"slow_ts_foot_shock_unit_responders_{constrast_name}.csv\"\n",
    "    (\n",
    "        contrast_df\n",
    "        .merge(neuron_types[[\"session_name\", \"neuron_id\", \"neuron_type\"]])\n",
    "        .to_csv(fn_contrast, index=False)\n",
    "    )\n",
    "    print(f\"\\t{constrast_name}: {str(fn_contrast)}\")\n",
    "\n",
    "fn_counts = Config.derived_data_dir / \"spike_counts_around_footshock.parquet\"\n",
    "df_slow.to_parquet(fn_counts)\n",
    "print(f\"SU Counts: {str(fn_counts)}\")\n"
   ]
  },
  {
   "cell_type": "markdown",
   "metadata": {},
   "source": [
    "# Time-Locked Effects"
   ]
  },
  {
   "cell_type": "markdown",
   "metadata": {},
   "source": [
    "#### Utility Funcs"
   ]
  },
  {
   "cell_type": "code",
   "execution_count": 18,
   "metadata": {},
   "outputs": [],
   "source": [
    "def get_psth_subset(\n",
    "    t_start, \n",
    "    t_stop, \n",
    "    block=\"base_shock\", \n",
    "    sessions=None, \n",
    "    window=(0.05, 0.2)\n",
    "    ):\n",
    "    sessions = sessions or ExperimentInfo.foot_shock_sessions_all\n",
    "    spikes = SpikesHandler(\n",
    "        block=block,\n",
    "        bin_width=1,\n",
    "        session_names=sessions,\n",
    "        t_start=t_start,\n",
    "        t_stop=t_stop,\n",
    "    ).spikes.merge(neuron_types)\n",
    "    events = (\n",
    "        load_events(block_name=block)\n",
    "        .query(\"event_s >=  @t_start and event_s <= @t_stop\")\n",
    "    )\n",
    "    transformer = ShockUtils()\n",
    "    df_binned = transformer.aligned_binned_from_spikes(\n",
    "        spikes, \n",
    "        events, \n",
    "        sessions=None,\n",
    "        bin_width=0.01,\n",
    "        )\n",
    "    df_psth = (\n",
    "        transformer.average_trace_from_aligned_binned(\n",
    "                df_binned\n",
    "            )\n",
    "            .reset_index()\n",
    "            .melt(id_vars=\"bin\", var_name=\"neuron_id\", value_name=\"counts\")\n",
    "            .assign(zcounts=lambda x: x.groupby(\"neuron_id\")[\"counts\"].transform(lambda x: zmap(x, x[:45])))\n",
    "            .merge(neuron_types[[\"neuron_id\", \"neuron_type\", \"session_name\"]].drop_duplicates())\n",
    "            .assign(window=lambda x: np.where(\n",
    "                (x[\"bin\"] < window[0]) | (x[\"bin\"] > window[1]), \"pre\", \"post\"\n",
    "            ))\n",
    "    )\n",
    "    return df_psth\n",
    "\n",
    "def get_response(df, sig_col=\"sig\", diff_col=\"Diff\"):\n",
    "    return np.where(\n",
    "        df[sig_col] == True, \n",
    "        np.where(df[diff_col] > 0, \"activated\", \"inhibited\"), \n",
    "        \"non responder\")"
   ]
  },
  {
   "cell_type": "markdown",
   "metadata": {},
   "source": [
    "#### Load Data"
   ]
  },
  {
   "cell_type": "code",
   "execution_count": 19,
   "metadata": {},
   "outputs": [],
   "source": [
    "neuron_types = (\n",
    "    load_derived_generic(\"neuron_types.csv\")\n",
    "    .assign(neuron_type=lambda x: pd.Categorical(x.neuron_type, categories=[\"SR\", \"SIR\", \"FF\"], ordered=True))\n",
    ")\n",
    "sessions = neuron_types.query(\"experiment_name == 'HAMILTON'\").session_name.unique().tolist()\n",
    "\n",
    "\n",
    "spikes = SpikesHandler(\n",
    "    block=\"base_shock\",\n",
    "    bin_width=1,\n",
    "    session_names=sessions,\n",
    "    t_start=0,\n",
    "    t_stop=600,\n",
    ").spikes.merge(neuron_types)\n",
    "events = (\n",
    "    load_events(block_name=\"base_shock\")\n",
    "    .query(\"event_s >= 0 and event_s <= 600\")\n",
    ")\n"
   ]
  },
  {
   "cell_type": "markdown",
   "metadata": {},
   "source": [
    "#### Preprocessing (make psth)"
   ]
  },
  {
   "cell_type": "code",
   "execution_count": 20,
   "metadata": {},
   "outputs": [
    {
     "name": "stderr",
     "output_type": "stream",
     "text": [
      "/var/folders/6b/xc7c961d7wgck5t4ltmpjykh0000gn/T/ipykernel_35046/3865181003.py:17: FutureWarning: The behavior of `series[i:j]` with an integer-dtype index is deprecated. In a future version, this will be treated as *label-based* indexing, consistent with e.g. `series[i]` lookups. To retain the old behavior, use `series.iloc[i:j]`. To get the future behavior, use `series.loc[i:j]`.\n",
      "  .assign(zcounts=lambda x: x.groupby(\"neuron_id\")[\"counts\"].transform(lambda x: zmap(x, x[:45])))\n"
     ]
    }
   ],
   "source": [
    "transformer = ShockUtils()\n",
    "\n",
    "df_binned = transformer.aligned_binned_from_spikes(\n",
    "    spikes, \n",
    "    events, \n",
    "    sessions=None,\n",
    "    bin_width=0.01,\n",
    "    )\n",
    "\n",
    "window = (0.05, 0.2)\n",
    "df_psth = (\n",
    "    transformer.average_trace_from_aligned_binned(\n",
    "            df_binned\n",
    "        )\n",
    "        .reset_index()\n",
    "        .melt(id_vars=\"bin\", var_name=\"neuron_id\", value_name=\"counts\")\n",
    "        .assign(zcounts=lambda x: x.groupby(\"neuron_id\")[\"counts\"].transform(lambda x: zmap(x, x[:45])))\n",
    "        .merge(neuron_types)\n",
    "        .assign(window=lambda x: np.where(\n",
    "            (x[\"bin\"] < window[0]) | (x[\"bin\"] > window[1]), \"pre\", \"post\"\n",
    "        ))\n",
    ")"
   ]
  },
  {
   "cell_type": "markdown",
   "metadata": {},
   "source": [
    "#### Fit group model & get single neuron responses"
   ]
  },
  {
   "cell_type": "code",
   "execution_count": 48,
   "metadata": {},
   "outputs": [
    {
     "data": {
      "text/html": [
       "<div>\n",
       "<style scoped>\n",
       "    .dataframe tbody tr th:only-of-type {\n",
       "        vertical-align: middle;\n",
       "    }\n",
       "\n",
       "    .dataframe tbody tr th {\n",
       "        vertical-align: top;\n",
       "    }\n",
       "\n",
       "    .dataframe thead th {\n",
       "        text-align: right;\n",
       "    }\n",
       "</style>\n",
       "<table border=\"1\" class=\"dataframe\">\n",
       "  <thead>\n",
       "    <tr style=\"text-align: right;\">\n",
       "      <th></th>\n",
       "      <th>Source</th>\n",
       "      <th>F</th>\n",
       "      <th>DF1</th>\n",
       "      <th>p-unc</th>\n",
       "    </tr>\n",
       "  </thead>\n",
       "  <tbody>\n",
       "    <tr>\n",
       "      <th>0</th>\n",
       "      <td>neuron_type</td>\n",
       "      <td>15.21</td>\n",
       "      <td>2</td>\n",
       "      <td>0.0</td>\n",
       "    </tr>\n",
       "    <tr>\n",
       "      <th>1</th>\n",
       "      <td>window</td>\n",
       "      <td>30.69</td>\n",
       "      <td>1</td>\n",
       "      <td>0.0</td>\n",
       "    </tr>\n",
       "    <tr>\n",
       "      <th>2</th>\n",
       "      <td>Interaction</td>\n",
       "      <td>14.92</td>\n",
       "      <td>2</td>\n",
       "      <td>0.0</td>\n",
       "    </tr>\n",
       "  </tbody>\n",
       "</table>\n",
       "</div>"
      ],
      "text/plain": [
       "        Source      F  DF1  p-unc\n",
       "0  neuron_type  15.21    2    0.0\n",
       "1       window  30.69    1    0.0\n",
       "2  Interaction  14.92    2    0.0"
      ]
     },
     "metadata": {},
     "output_type": "display_data"
    },
    {
     "data": {
      "text/html": [
       "<div>\n",
       "<style scoped>\n",
       "    .dataframe tbody tr th:only-of-type {\n",
       "        vertical-align: middle;\n",
       "    }\n",
       "\n",
       "    .dataframe tbody tr th {\n",
       "        vertical-align: top;\n",
       "    }\n",
       "\n",
       "    .dataframe thead th {\n",
       "        text-align: right;\n",
       "    }\n",
       "</style>\n",
       "<table border=\"1\" class=\"dataframe\">\n",
       "  <thead>\n",
       "    <tr style=\"text-align: right;\">\n",
       "      <th></th>\n",
       "      <th>Contrast</th>\n",
       "      <th>window</th>\n",
       "      <th>A</th>\n",
       "      <th>B</th>\n",
       "      <th>mean(A)</th>\n",
       "      <th>std(A)</th>\n",
       "      <th>mean(B)</th>\n",
       "      <th>std(B)</th>\n",
       "      <th>T</th>\n",
       "      <th>dof</th>\n",
       "      <th>p-corr</th>\n",
       "      <th>p-adjust</th>\n",
       "      <th>p</th>\n",
       "      <th>Sig</th>\n",
       "    </tr>\n",
       "  </thead>\n",
       "  <tbody>\n",
       "    <tr>\n",
       "      <th>0</th>\n",
       "      <td>window</td>\n",
       "      <td>-</td>\n",
       "      <td>post</td>\n",
       "      <td>pre</td>\n",
       "      <td>1.99</td>\n",
       "      <td>5.70</td>\n",
       "      <td>0.73</td>\n",
       "      <td>1.31</td>\n",
       "      <td>5.38</td>\n",
       "      <td>455.00</td>\n",
       "      <td>NaN</td>\n",
       "      <td>NaN</td>\n",
       "      <td>0.00</td>\n",
       "      <td>*</td>\n",
       "    </tr>\n",
       "    <tr>\n",
       "      <th>1</th>\n",
       "      <td>neuron_type</td>\n",
       "      <td>-</td>\n",
       "      <td>SR</td>\n",
       "      <td>SIR</td>\n",
       "      <td>0.51</td>\n",
       "      <td>1.75</td>\n",
       "      <td>2.23</td>\n",
       "      <td>4.26</td>\n",
       "      <td>-5.43</td>\n",
       "      <td>282.67</td>\n",
       "      <td>0.00</td>\n",
       "      <td>fdr_bh</td>\n",
       "      <td>0.00</td>\n",
       "      <td>*</td>\n",
       "    </tr>\n",
       "    <tr>\n",
       "      <th>2</th>\n",
       "      <td>neuron_type</td>\n",
       "      <td>-</td>\n",
       "      <td>SR</td>\n",
       "      <td>FF</td>\n",
       "      <td>0.51</td>\n",
       "      <td>1.75</td>\n",
       "      <td>1.10</td>\n",
       "      <td>2.24</td>\n",
       "      <td>-1.47</td>\n",
       "      <td>41.23</td>\n",
       "      <td>0.15</td>\n",
       "      <td>fdr_bh</td>\n",
       "      <td>0.17</td>\n",
       "      <td></td>\n",
       "    </tr>\n",
       "    <tr>\n",
       "      <th>3</th>\n",
       "      <td>neuron_type</td>\n",
       "      <td>-</td>\n",
       "      <td>SIR</td>\n",
       "      <td>FF</td>\n",
       "      <td>2.23</td>\n",
       "      <td>4.26</td>\n",
       "      <td>1.10</td>\n",
       "      <td>2.24</td>\n",
       "      <td>2.36</td>\n",
       "      <td>81.73</td>\n",
       "      <td>0.03</td>\n",
       "      <td>fdr_bh</td>\n",
       "      <td>0.03</td>\n",
       "      <td>*</td>\n",
       "    </tr>\n",
       "    <tr>\n",
       "      <th>4</th>\n",
       "      <td>window * neuron_type</td>\n",
       "      <td>post</td>\n",
       "      <td>SR</td>\n",
       "      <td>SIR</td>\n",
       "      <td>0.49</td>\n",
       "      <td>3.07</td>\n",
       "      <td>3.49</td>\n",
       "      <td>7.30</td>\n",
       "      <td>-5.52</td>\n",
       "      <td>286.28</td>\n",
       "      <td>0.00</td>\n",
       "      <td>fdr_bh</td>\n",
       "      <td>0.00</td>\n",
       "      <td>*</td>\n",
       "    </tr>\n",
       "    <tr>\n",
       "      <th>5</th>\n",
       "      <td>window * neuron_type</td>\n",
       "      <td>post</td>\n",
       "      <td>SR</td>\n",
       "      <td>FF</td>\n",
       "      <td>0.49</td>\n",
       "      <td>3.07</td>\n",
       "      <td>1.74</td>\n",
       "      <td>4.07</td>\n",
       "      <td>-1.74</td>\n",
       "      <td>40.80</td>\n",
       "      <td>0.11</td>\n",
       "      <td>fdr_bh</td>\n",
       "      <td>0.11</td>\n",
       "      <td></td>\n",
       "    </tr>\n",
       "    <tr>\n",
       "      <th>6</th>\n",
       "      <td>window * neuron_type</td>\n",
       "      <td>post</td>\n",
       "      <td>SIR</td>\n",
       "      <td>FF</td>\n",
       "      <td>3.49</td>\n",
       "      <td>7.30</td>\n",
       "      <td>1.74</td>\n",
       "      <td>4.07</td>\n",
       "      <td>2.05</td>\n",
       "      <td>76.17</td>\n",
       "      <td>0.07</td>\n",
       "      <td>fdr_bh</td>\n",
       "      <td>0.06</td>\n",
       "      <td></td>\n",
       "    </tr>\n",
       "  </tbody>\n",
       "</table>\n",
       "</div>"
      ],
      "text/plain": [
       "               Contrast window     A    B  mean(A)  std(A)  mean(B)  std(B)  \\\n",
       "0                window      -  post  pre     1.99    5.70     0.73    1.31   \n",
       "1           neuron_type      -    SR  SIR     0.51    1.75     2.23    4.26   \n",
       "2           neuron_type      -    SR   FF     0.51    1.75     1.10    2.24   \n",
       "3           neuron_type      -   SIR   FF     2.23    4.26     1.10    2.24   \n",
       "4  window * neuron_type   post    SR  SIR     0.49    3.07     3.49    7.30   \n",
       "5  window * neuron_type   post    SR   FF     0.49    3.07     1.74    4.07   \n",
       "6  window * neuron_type   post   SIR   FF     3.49    7.30     1.74    4.07   \n",
       "\n",
       "      T     dof  p-corr p-adjust     p Sig  \n",
       "0  5.38  455.00     NaN      NaN  0.00   *  \n",
       "1 -5.43  282.67    0.00   fdr_bh  0.00   *  \n",
       "2 -1.47   41.23    0.15   fdr_bh  0.17      \n",
       "3  2.36   81.73    0.03   fdr_bh  0.03   *  \n",
       "4 -5.52  286.28    0.00   fdr_bh  0.00   *  \n",
       "5 -1.74   40.80    0.11   fdr_bh  0.11      \n",
       "6  2.05   76.17    0.07   fdr_bh  0.06      "
      ]
     },
     "metadata": {},
     "output_type": "display_data"
    },
    {
     "data": {
      "text/html": [
       "<div>\n",
       "<style scoped>\n",
       "    .dataframe tbody tr th:only-of-type {\n",
       "        vertical-align: middle;\n",
       "    }\n",
       "\n",
       "    .dataframe tbody tr th {\n",
       "        vertical-align: top;\n",
       "    }\n",
       "\n",
       "    .dataframe thead th {\n",
       "        text-align: right;\n",
       "    }\n",
       "</style>\n",
       "<table border=\"1\" class=\"dataframe\">\n",
       "  <thead>\n",
       "    <tr style=\"text-align: right;\">\n",
       "      <th></th>\n",
       "      <th>neuron_id</th>\n",
       "      <th>n_pre</th>\n",
       "      <th>n_post</th>\n",
       "      <th>Mean_pre</th>\n",
       "      <th>Mean_post</th>\n",
       "      <th>Diff</th>\n",
       "      <th>U</th>\n",
       "      <th>p</th>\n",
       "      <th>sig</th>\n",
       "      <th>fs_fast_response</th>\n",
       "    </tr>\n",
       "  </thead>\n",
       "  <tbody>\n",
       "    <tr>\n",
       "      <th>194</th>\n",
       "      <td>1398</td>\n",
       "      <td>184.0</td>\n",
       "      <td>16.0</td>\n",
       "      <td>0.26</td>\n",
       "      <td>-0.20</td>\n",
       "      <td>-0.46</td>\n",
       "      <td>1857.5</td>\n",
       "      <td>0.17</td>\n",
       "      <td>False</td>\n",
       "      <td>non responder</td>\n",
       "    </tr>\n",
       "    <tr>\n",
       "      <th>403</th>\n",
       "      <td>2144</td>\n",
       "      <td>184.0</td>\n",
       "      <td>16.0</td>\n",
       "      <td>0.43</td>\n",
       "      <td>-1.50</td>\n",
       "      <td>-1.92</td>\n",
       "      <td>2735.0</td>\n",
       "      <td>0.00</td>\n",
       "      <td>True</td>\n",
       "      <td>inhibited</td>\n",
       "    </tr>\n",
       "    <tr>\n",
       "      <th>363</th>\n",
       "      <td>2061</td>\n",
       "      <td>184.0</td>\n",
       "      <td>16.0</td>\n",
       "      <td>0.12</td>\n",
       "      <td>-3.38</td>\n",
       "      <td>-3.51</td>\n",
       "      <td>2901.5</td>\n",
       "      <td>0.00</td>\n",
       "      <td>True</td>\n",
       "      <td>inhibited</td>\n",
       "    </tr>\n",
       "  </tbody>\n",
       "</table>\n",
       "</div>"
      ],
      "text/plain": [
       "     neuron_id  n_pre  n_post  Mean_pre  Mean_post  Diff       U     p    sig  \\\n",
       "194       1398  184.0    16.0      0.26      -0.20 -0.46  1857.5  0.17  False   \n",
       "403       2144  184.0    16.0      0.43      -1.50 -1.92  2735.0  0.00   True   \n",
       "363       2061  184.0    16.0      0.12      -3.38 -3.51  2901.5  0.00   True   \n",
       "\n",
       "    fs_fast_response  \n",
       "194    non responder  \n",
       "403        inhibited  \n",
       "363        inhibited  "
      ]
     },
     "metadata": {},
     "output_type": "display_data"
    }
   ],
   "source": [
    "mod = AlignedResponders(value_col=\"zcounts\", round_output=2, within_first=True)\n",
    "\n",
    "with warnings.catch_warnings():  # ignore pandas future warning\n",
    "    warnings.simplefilter(\"ignore\")\n",
    "    anova, contrasts = mod.get_anova(df_psth, fit_neuron_types=True)\n",
    "    responders = mod.get_responders(df_psth, abs_diff_thresh=0.3).assign(fs_fast_response=lambda x: get_response(x))\n",
    "\n",
    "\n",
    "(\n",
    "    responders\n",
    "    .merge(neuron_types)\n",
    ")\n",
    "\n",
    "contrasts=(\n",
    "    contrasts\n",
    "    .query(\"window != 'pre'\")\n",
    ")\n",
    "\n",
    "anova = (\n",
    "    anova\n",
    "    .loc[:, [\"Source\",  \"F\",  \"DF1\", \"p-unc\"]]\n",
    ")\n",
    "display(anova)\n",
    "display(contrasts)\n",
    "display(responders.sample(3))"
   ]
  },
  {
   "cell_type": "markdown",
   "metadata": {},
   "source": [
    "#### (group-level) numbers in counts"
   ]
  },
  {
   "cell_type": "code",
   "execution_count": 49,
   "metadata": {},
   "outputs": [
    {
     "data": {
      "text/html": [
       "<div>\n",
       "<style scoped>\n",
       "    .dataframe tbody tr th:only-of-type {\n",
       "        vertical-align: middle;\n",
       "    }\n",
       "\n",
       "    .dataframe tbody tr th {\n",
       "        vertical-align: top;\n",
       "    }\n",
       "\n",
       "    .dataframe thead th {\n",
       "        text-align: right;\n",
       "    }\n",
       "</style>\n",
       "<table border=\"1\" class=\"dataframe\">\n",
       "  <thead>\n",
       "    <tr style=\"text-align: right;\">\n",
       "      <th></th>\n",
       "      <th>Contrast</th>\n",
       "      <th>neuron_type</th>\n",
       "      <th>A</th>\n",
       "      <th>B</th>\n",
       "      <th>mean(A)</th>\n",
       "      <th>std(A)</th>\n",
       "      <th>mean(B)</th>\n",
       "      <th>std(B)</th>\n",
       "      <th>T</th>\n",
       "      <th>dof</th>\n",
       "      <th>p-corr</th>\n",
       "      <th>p-adjust</th>\n",
       "      <th>p</th>\n",
       "      <th>Sig</th>\n",
       "    </tr>\n",
       "  </thead>\n",
       "  <tbody>\n",
       "    <tr>\n",
       "      <th>0</th>\n",
       "      <td>neuron_type</td>\n",
       "      <td>-</td>\n",
       "      <td>SR</td>\n",
       "      <td>SIR</td>\n",
       "      <td>3.15</td>\n",
       "      <td>3.32</td>\n",
       "      <td>3.43</td>\n",
       "      <td>4.69</td>\n",
       "      <td>-0.73</td>\n",
       "      <td>389.00</td>\n",
       "      <td>0.46</td>\n",
       "      <td>fdr_bh</td>\n",
       "      <td>0.54</td>\n",
       "      <td></td>\n",
       "    </tr>\n",
       "    <tr>\n",
       "      <th>1</th>\n",
       "      <td>neuron_type</td>\n",
       "      <td>-</td>\n",
       "      <td>SR</td>\n",
       "      <td>FF</td>\n",
       "      <td>3.15</td>\n",
       "      <td>3.32</td>\n",
       "      <td>11.64</td>\n",
       "      <td>9.11</td>\n",
       "      <td>-5.46</td>\n",
       "      <td>35.49</td>\n",
       "      <td>0.00</td>\n",
       "      <td>fdr_bh</td>\n",
       "      <td>0.00</td>\n",
       "      <td>*</td>\n",
       "    </tr>\n",
       "    <tr>\n",
       "      <th>2</th>\n",
       "      <td>neuron_type</td>\n",
       "      <td>-</td>\n",
       "      <td>SIR</td>\n",
       "      <td>FF</td>\n",
       "      <td>3.43</td>\n",
       "      <td>4.69</td>\n",
       "      <td>11.64</td>\n",
       "      <td>9.11</td>\n",
       "      <td>-5.22</td>\n",
       "      <td>36.97</td>\n",
       "      <td>0.00</td>\n",
       "      <td>fdr_bh</td>\n",
       "      <td>0.00</td>\n",
       "      <td>*</td>\n",
       "    </tr>\n",
       "    <tr>\n",
       "      <th>3</th>\n",
       "      <td>window</td>\n",
       "      <td>-</td>\n",
       "      <td>post</td>\n",
       "      <td>pre</td>\n",
       "      <td>4.42</td>\n",
       "      <td>6.78</td>\n",
       "      <td>3.42</td>\n",
       "      <td>3.97</td>\n",
       "      <td>4.99</td>\n",
       "      <td>464.00</td>\n",
       "      <td>NaN</td>\n",
       "      <td>NaN</td>\n",
       "      <td>0.00</td>\n",
       "      <td>*</td>\n",
       "    </tr>\n",
       "    <tr>\n",
       "      <th>4</th>\n",
       "      <td>neuron_type * window</td>\n",
       "      <td>SR</td>\n",
       "      <td>post</td>\n",
       "      <td>pre</td>\n",
       "      <td>3.19</td>\n",
       "      <td>4.51</td>\n",
       "      <td>3.10</td>\n",
       "      <td>2.56</td>\n",
       "      <td>0.39</td>\n",
       "      <td>212.00</td>\n",
       "      <td>0.70</td>\n",
       "      <td>fdr_bh</td>\n",
       "      <td>0.70</td>\n",
       "      <td></td>\n",
       "    </tr>\n",
       "    <tr>\n",
       "      <th>5</th>\n",
       "      <td>neuron_type * window</td>\n",
       "      <td>SIR</td>\n",
       "      <td>post</td>\n",
       "      <td>pre</td>\n",
       "      <td>4.27</td>\n",
       "      <td>6.67</td>\n",
       "      <td>2.59</td>\n",
       "      <td>3.20</td>\n",
       "      <td>5.38</td>\n",
       "      <td>216.00</td>\n",
       "      <td>0.00</td>\n",
       "      <td>fdr_bh</td>\n",
       "      <td>0.00</td>\n",
       "      <td>*</td>\n",
       "    </tr>\n",
       "    <tr>\n",
       "      <th>6</th>\n",
       "      <td>neuron_type * window</td>\n",
       "      <td>FF</td>\n",
       "      <td>post</td>\n",
       "      <td>pre</td>\n",
       "      <td>12.82</td>\n",
       "      <td>11.69</td>\n",
       "      <td>10.47</td>\n",
       "      <td>7.30</td>\n",
       "      <td>2.00</td>\n",
       "      <td>34.00</td>\n",
       "      <td>0.08</td>\n",
       "      <td>fdr_bh</td>\n",
       "      <td>0.08</td>\n",
       "      <td></td>\n",
       "    </tr>\n",
       "  </tbody>\n",
       "</table>\n",
       "</div>"
      ],
      "text/plain": [
       "               Contrast neuron_type     A    B  mean(A)  std(A)  mean(B)  \\\n",
       "0           neuron_type           -    SR  SIR     3.15    3.32     3.43   \n",
       "1           neuron_type           -    SR   FF     3.15    3.32    11.64   \n",
       "2           neuron_type           -   SIR   FF     3.43    4.69    11.64   \n",
       "3                window           -  post  pre     4.42    6.78     3.42   \n",
       "4  neuron_type * window          SR  post  pre     3.19    4.51     3.10   \n",
       "5  neuron_type * window         SIR  post  pre     4.27    6.67     2.59   \n",
       "6  neuron_type * window          FF  post  pre    12.82   11.69    10.47   \n",
       "\n",
       "   std(B)     T     dof  p-corr p-adjust     p Sig  \n",
       "0    4.69 -0.73  389.00    0.46   fdr_bh  0.54      \n",
       "1    9.11 -5.46   35.49    0.00   fdr_bh  0.00   *  \n",
       "2    9.11 -5.22   36.97    0.00   fdr_bh  0.00   *  \n",
       "3    3.97  4.99  464.00     NaN      NaN  0.00   *  \n",
       "4    2.56  0.39  212.00    0.70   fdr_bh  0.70      \n",
       "5    3.20  5.38  216.00    0.00   fdr_bh  0.00   *  \n",
       "6    7.30  2.00   34.00    0.08   fdr_bh  0.08      "
      ]
     },
     "metadata": {},
     "output_type": "display_data"
    }
   ],
   "source": [
    "# counts \n",
    "with warnings.catch_warnings():  # ignore pandas future warning\n",
    "    warnings.simplefilter(\"ignore\")\n",
    "    mod = AlignedResponders(value_col=\"counts\", within_first=False)\n",
    "    anova, contrasts = mod.get_anova(df_psth, fit_neuron_types=True)\n",
    "contrasts[\"mean(A)\"] = contrasts[\"mean(A)\"] / 0.01\n",
    "contrasts[\"std(A)\"] = contrasts[\"std(A)\"] / 0.01\n",
    "contrasts[\"mean(B)\"] = contrasts[\"mean(B)\"] / 0.01\n",
    "contrasts[\"std(B)\"] = contrasts[\"std(B)\"] / 0.01\n",
    "display(contrasts.round(2))"
   ]
  },
  {
   "cell_type": "markdown",
   "metadata": {},
   "source": [
    "#### export output"
   ]
  },
  {
   "cell_type": "code",
   "execution_count": 50,
   "metadata": {},
   "outputs": [
    {
     "name": "stdout",
     "output_type": "stream",
     "text": [
      "Data Dir: /Users/ruairiosullivan/repos/SSRI Interactions/data\n",
      "PSTH:\n",
      "\t/Users/ruairiosullivan/repos/SSRI Interactions/data/derived/baseshock_counts_psth.parquet\n",
      "Responders:\n",
      "\t/Users/ruairiosullivan/repos/SSRI Interactions/data/derived/fast_fs_foot_shock_unit_responders.csv\n"
     ]
    }
   ],
   "source": [
    "\n",
    "data_dir = Config.data_dir\n",
    "print(f\"Data Dir: {data_dir}\")\n",
    "\n",
    "fn_psth = Config.derived_data_dir / \"baseshock_counts_psth.parquet\"\n",
    "fn_psth_res = Config.derived_data_dir / \"fast_fs_foot_shock_unit_responders.csv\"\n",
    "\n",
    "df_psth.to_parquet(fn_psth)\n",
    "responders.to_csv(fn_psth_res, index=False)\n",
    "\n",
    "print(f\"PSTH:\\n\\t{str(fn_psth)}\")\n",
    "print(f\"Responders:\\n\\t{str(fn_psth_res)}\")"
   ]
  },
  {
   "cell_type": "markdown",
   "metadata": {},
   "source": [
    "### PSTH Second Window"
   ]
  },
  {
   "cell_type": "code",
   "execution_count": 51,
   "metadata": {},
   "outputs": [
    {
     "name": "stdout",
     "output_type": "stream",
     "text": [
      "Data Dir: /Users/ruairiosullivan/repos/SSRI Interactions/data\n",
      "PSTH:\n",
      "\t/Users/ruairiosullivan/repos/SSRI Interactions/data/derived/baseshock_counts_psth_second_window.parquet\n",
      "Responders:\n",
      "\t/Users/ruairiosullivan/repos/SSRI Interactions/data/derived/fast_fs_foot_shock_unit_responders_second_window.csv\n"
     ]
    }
   ],
   "source": [
    "with warnings.catch_warnings():\n",
    "    warnings.simplefilter(\"ignore\")\n",
    "    df_psth_second_window = get_psth_subset(t_start=0, t_stop=600, sessions=sessions, window=(0.5, 0.8))\n",
    "    mod = AlignedResponders(value_col=\"zcounts\", within_first=False)\n",
    "    responders_second_window = mod.get_responders(df_psth_second_window, abs_diff_thresh=0.3)\n",
    "    responders_second_window[\"response_second_window\"] = get_response(responders_second_window)\n",
    "\n",
    "data_dir = Config.data_dir\n",
    "print(f\"Data Dir: {data_dir}\")\n",
    "\n",
    "fn_psth_second_window = Config.derived_data_dir / \"baseshock_counts_psth_second_window.parquet\"\n",
    "fn_psth_res = Config.derived_data_dir / \"fast_fs_foot_shock_unit_responders_second_window.csv\"\n",
    "\n",
    "df_psth_second_window.to_parquet(fn_psth_second_window)\n",
    "responders_second_window.to_csv(fn_psth_res, index=False)\n",
    "\n",
    "print(f\"PSTH:\\n\\t{str(fn_psth_second_window)}\")\n",
    "print(f\"Responders:\\n\\t{str(fn_psth_res)}\")"
   ]
  },
  {
   "cell_type": "code",
   "execution_count": 52,
   "metadata": {},
   "outputs": [
    {
     "data": {
      "text/html": [
       "<div>\n",
       "<style scoped>\n",
       "    .dataframe tbody tr th:only-of-type {\n",
       "        vertical-align: middle;\n",
       "    }\n",
       "\n",
       "    .dataframe tbody tr th {\n",
       "        vertical-align: top;\n",
       "    }\n",
       "\n",
       "    .dataframe thead th {\n",
       "        text-align: right;\n",
       "    }\n",
       "</style>\n",
       "<table border=\"1\" class=\"dataframe\">\n",
       "  <thead>\n",
       "    <tr style=\"text-align: right;\">\n",
       "      <th>response_second_window</th>\n",
       "      <th>activated</th>\n",
       "      <th>inhibited</th>\n",
       "      <th>non responder</th>\n",
       "    </tr>\n",
       "    <tr>\n",
       "      <th>group</th>\n",
       "      <th></th>\n",
       "      <th></th>\n",
       "      <th></th>\n",
       "    </tr>\n",
       "  </thead>\n",
       "  <tbody>\n",
       "    <tr>\n",
       "      <th>CIT</th>\n",
       "      <td>111</td>\n",
       "      <td>6</td>\n",
       "      <td>42</td>\n",
       "    </tr>\n",
       "    <tr>\n",
       "      <th>SAL</th>\n",
       "      <td>32</td>\n",
       "      <td>3</td>\n",
       "      <td>73</td>\n",
       "    </tr>\n",
       "  </tbody>\n",
       "</table>\n",
       "</div>"
      ],
      "text/plain": [
       "response_second_window  activated  inhibited  non responder\n",
       "group                                                      \n",
       "CIT                           111          6             42\n",
       "SAL                            32          3             73"
      ]
     },
     "metadata": {},
     "output_type": "display_data"
    },
    {
     "data": {
      "text/plain": [
       "(44.89636224681343,\n",
       " 1.781881460821293e-10,\n",
       " 2,\n",
       " array([[85.15730337,  5.35955056, 68.48314607],\n",
       "        [57.84269663,  3.64044944, 46.51685393]]))"
      ]
     },
     "execution_count": 52,
     "metadata": {},
     "output_type": "execute_result"
    }
   ],
   "source": [
    "from scipy.stats import chi2_contingency\n",
    "\n",
    "\n",
    "tab_second = (\n",
    "    responders_second_window\n",
    "    .merge(neuron_types)\n",
    "    .query(\"group in ('SAL', 'CIT') \")\n",
    "    .pipe(lambda x: pd.crosstab(x.group, x.response_second_window))\n",
    ")\n",
    "\n",
    "display(tab_second)\n",
    "chi2_contingency(tab_second)\n"
   ]
  },
  {
   "cell_type": "code",
   "execution_count": 53,
   "metadata": {},
   "outputs": [
    {
     "data": {
      "text/plain": [
       "(0.6921388177046611,\n",
       " 0.7074633811809747,\n",
       " 2,\n",
       " array([[50.02247191, 48.83146067, 60.14606742],\n",
       "        [33.97752809, 33.16853933, 40.85393258]]))"
      ]
     },
     "execution_count": 53,
     "metadata": {},
     "output_type": "execute_result"
    }
   ],
   "source": [
    "tab_first = (\n",
    "    responders\n",
    "    .merge(neuron_types)\n",
    "    .query(\"group in ('SAL', 'CIT') \")\n",
    "    .pipe(lambda x: pd.crosstab(x.group, x.fs_fast_response))\n",
    ")\n",
    "\n",
    "chi2_contingency(tab_first)\n"
   ]
  },
  {
   "cell_type": "markdown",
   "metadata": {},
   "source": [
    "## First Half, Second Half (PSTH)"
   ]
  },
  {
   "cell_type": "markdown",
   "metadata": {},
   "source": [
    "#### Make PSTH"
   ]
  },
  {
   "cell_type": "code",
   "execution_count": 54,
   "metadata": {},
   "outputs": [],
   "source": [
    "with warnings.catch_warnings():\n",
    "    warnings.simplefilter(\"ignore\")\n",
    "    df_psth_first_half = get_psth_subset(t_start=0, t_stop=300, sessions=sessions)\n",
    "    df_psth_second_half = get_psth_subset(t_start=300, t_stop=600, sessions=sessions)"
   ]
  },
  {
   "cell_type": "markdown",
   "metadata": {},
   "source": [
    "#### Fit Models"
   ]
  },
  {
   "cell_type": "code",
   "execution_count": 55,
   "metadata": {},
   "outputs": [],
   "source": [
    "mod = AlignedResponders(value_col=\"zcounts\", within_first=False)\n",
    "\n",
    "responders_first_half = mod.get_responders(df_psth_first_half, abs_diff_thresh=0.2)\n",
    "responders_second_half = mod.get_responders(df_psth_second_half, abs_diff_thresh=0.2)\n",
    "\n",
    "responders_first_half[\"response_first_half\"] = get_response(responders_first_half)\n",
    "responders_second_half[\"response_second_half\"] = get_response(responders_second_half)"
   ]
  },
  {
   "cell_type": "markdown",
   "metadata": {},
   "source": [
    "#### Merge Responses"
   ]
  },
  {
   "cell_type": "code",
   "execution_count": 56,
   "metadata": {},
   "outputs": [],
   "source": [
    "df_responders = (\n",
    "    responders_first_half[[\"neuron_id\", \"response_first_half\"]]\n",
    "    .merge(\n",
    "        responders_second_half[[\"neuron_id\", \"response_second_half\"]],\n",
    "    )\n",
    "    .merge(neuron_types[[\"neuron_id\", \"neuron_type\", \"group\"]])\n",
    ")"
   ]
  },
  {
   "cell_type": "markdown",
   "metadata": {},
   "source": [
    "#### Compare Responders"
   ]
  },
  {
   "cell_type": "code",
   "execution_count": 57,
   "metadata": {},
   "outputs": [],
   "source": [
    "def compare_responders(df, col1=\"response_first_half\", col2=\"response_second_half\", n_boot=1000):\n",
    "    le = LabelEncoder()\n",
    "    x = le.fit_transform(df[col1])\n",
    "    y = le.transform(df[col2])\n",
    "\n",
    "    obs = mutual_info_score(x, y)\n",
    "    obs_reps = ez.bs_pairs(x, y, func=lambda x, y : mutual_info_score(x, y), size=n_boot)\n",
    "    se = se_mean(obs_reps)\n",
    "    return pd.Series(dict(observed=obs, se=se))\n",
    "\n"
   ]
  },
  {
   "cell_type": "markdown",
   "metadata": {},
   "source": [
    "#### Calculate stability by neuron type"
   ]
  },
  {
   "cell_type": "code",
   "execution_count": 58,
   "metadata": {},
   "outputs": [],
   "source": [
    "with warnings.catch_warnings():\n",
    "    warnings.filterwarnings(\"ignore\")\n",
    "    psth_response_stability_by_nt = df_responders.groupby([\"neuron_type\", \"group\"]).apply(compare_responders).reset_index()"
   ]
  },
  {
   "cell_type": "markdown",
   "metadata": {},
   "source": [
    "##### Export"
   ]
  },
  {
   "cell_type": "code",
   "execution_count": 59,
   "metadata": {},
   "outputs": [
    {
     "name": "stdout",
     "output_type": "stream",
     "text": [
      "First Half PSTH:\n",
      "\t/Users/ruairiosullivan/repos/SSRI Interactions/data/derived/psth_counts_first_half.parquet\n",
      "Second Half PSTH:\n",
      "\t/Users/ruairiosullivan/repos/SSRI Interactions/data/derived/psth_counts_second_half.parquet\n",
      "First Second Half Responders:\n",
      "\t/Users/ruairiosullivan/repos/SSRI Interactions/data/derived/psth_first_second_half_responders.csv\n",
      "Stability Scores:\n",
      "\t/Users/ruairiosullivan/repos/SSRI Interactions/data/derived/psth_stability_scores.csv\n"
     ]
    },
    {
     "data": {
      "text/html": [
       "<div>\n",
       "<style scoped>\n",
       "    .dataframe tbody tr th:only-of-type {\n",
       "        vertical-align: middle;\n",
       "    }\n",
       "\n",
       "    .dataframe tbody tr th {\n",
       "        vertical-align: top;\n",
       "    }\n",
       "\n",
       "    .dataframe thead th {\n",
       "        text-align: right;\n",
       "    }\n",
       "</style>\n",
       "<table border=\"1\" class=\"dataframe\">\n",
       "  <thead>\n",
       "    <tr style=\"text-align: right;\">\n",
       "      <th></th>\n",
       "      <th>bin</th>\n",
       "      <th>neuron_id</th>\n",
       "      <th>counts</th>\n",
       "      <th>zcounts</th>\n",
       "      <th>neuron_type</th>\n",
       "      <th>session_name</th>\n",
       "      <th>window</th>\n",
       "    </tr>\n",
       "  </thead>\n",
       "  <tbody>\n",
       "    <tr>\n",
       "      <th>61644</th>\n",
       "      <td>-0.06</td>\n",
       "      <td>1578</td>\n",
       "      <td>0.000000</td>\n",
       "      <td>-0.369402</td>\n",
       "      <td>SIR</td>\n",
       "      <td>hamilton_20</td>\n",
       "      <td>pre</td>\n",
       "    </tr>\n",
       "    <tr>\n",
       "      <th>11117</th>\n",
       "      <td>0.67</td>\n",
       "      <td>1175</td>\n",
       "      <td>0.006803</td>\n",
       "      <td>-1.227811</td>\n",
       "      <td>SR</td>\n",
       "      <td>hamilton_14</td>\n",
       "      <td>pre</td>\n",
       "    </tr>\n",
       "    <tr>\n",
       "      <th>30500</th>\n",
       "      <td>0.50</td>\n",
       "      <td>1331</td>\n",
       "      <td>0.040816</td>\n",
       "      <td>1.610128</td>\n",
       "      <td>SR</td>\n",
       "      <td>hamilton_23</td>\n",
       "      <td>pre</td>\n",
       "    </tr>\n",
       "  </tbody>\n",
       "</table>\n",
       "</div>"
      ],
      "text/plain": [
       "        bin neuron_id    counts   zcounts neuron_type session_name window\n",
       "61644 -0.06      1578  0.000000 -0.369402         SIR  hamilton_20    pre\n",
       "11117  0.67      1175  0.006803 -1.227811          SR  hamilton_14    pre\n",
       "30500  0.50      1331  0.040816  1.610128          SR  hamilton_23    pre"
      ]
     },
     "metadata": {},
     "output_type": "display_data"
    },
    {
     "data": {
      "text/html": [
       "<div>\n",
       "<style scoped>\n",
       "    .dataframe tbody tr th:only-of-type {\n",
       "        vertical-align: middle;\n",
       "    }\n",
       "\n",
       "    .dataframe tbody tr th {\n",
       "        vertical-align: top;\n",
       "    }\n",
       "\n",
       "    .dataframe thead th {\n",
       "        text-align: right;\n",
       "    }\n",
       "</style>\n",
       "<table border=\"1\" class=\"dataframe\">\n",
       "  <thead>\n",
       "    <tr style=\"text-align: right;\">\n",
       "      <th></th>\n",
       "      <th>bin</th>\n",
       "      <th>neuron_id</th>\n",
       "      <th>counts</th>\n",
       "      <th>zcounts</th>\n",
       "      <th>neuron_type</th>\n",
       "      <th>session_name</th>\n",
       "      <th>window</th>\n",
       "    </tr>\n",
       "  </thead>\n",
       "  <tbody>\n",
       "    <tr>\n",
       "      <th>0</th>\n",
       "      <td>-0.50</td>\n",
       "      <td>1069</td>\n",
       "      <td>0.013333</td>\n",
       "      <td>0.059327</td>\n",
       "      <td>SIR</td>\n",
       "      <td>hamilton_01</td>\n",
       "      <td>pre</td>\n",
       "    </tr>\n",
       "    <tr>\n",
       "      <th>30263</th>\n",
       "      <td>0.13</td>\n",
       "      <td>1331</td>\n",
       "      <td>0.000000</td>\n",
       "      <td>-1.716318</td>\n",
       "      <td>SR</td>\n",
       "      <td>hamilton_23</td>\n",
       "      <td>post</td>\n",
       "    </tr>\n",
       "    <tr>\n",
       "      <th>13538</th>\n",
       "      <td>0.88</td>\n",
       "      <td>1192</td>\n",
       "      <td>0.006667</td>\n",
       "      <td>0.711151</td>\n",
       "      <td>SIR</td>\n",
       "      <td>hamilton_17</td>\n",
       "      <td>pre</td>\n",
       "    </tr>\n",
       "  </tbody>\n",
       "</table>\n",
       "</div>"
      ],
      "text/plain": [
       "        bin neuron_id    counts   zcounts neuron_type session_name window\n",
       "0     -0.50      1069  0.013333  0.059327         SIR  hamilton_01    pre\n",
       "30263  0.13      1331  0.000000 -1.716318          SR  hamilton_23   post\n",
       "13538  0.88      1192  0.006667  0.711151         SIR  hamilton_17    pre"
      ]
     },
     "metadata": {},
     "output_type": "display_data"
    },
    {
     "data": {
      "text/html": [
       "<div>\n",
       "<style scoped>\n",
       "    .dataframe tbody tr th:only-of-type {\n",
       "        vertical-align: middle;\n",
       "    }\n",
       "\n",
       "    .dataframe tbody tr th {\n",
       "        vertical-align: top;\n",
       "    }\n",
       "\n",
       "    .dataframe thead th {\n",
       "        text-align: right;\n",
       "    }\n",
       "</style>\n",
       "<table border=\"1\" class=\"dataframe\">\n",
       "  <thead>\n",
       "    <tr style=\"text-align: right;\">\n",
       "      <th></th>\n",
       "      <th>neuron_id</th>\n",
       "      <th>response_first_half</th>\n",
       "      <th>response_second_half</th>\n",
       "      <th>neuron_type</th>\n",
       "      <th>group</th>\n",
       "    </tr>\n",
       "  </thead>\n",
       "  <tbody>\n",
       "    <tr>\n",
       "      <th>95</th>\n",
       "      <td>1230</td>\n",
       "      <td>activated</td>\n",
       "      <td>activated</td>\n",
       "      <td>FF</td>\n",
       "      <td>DIS</td>\n",
       "    </tr>\n",
       "    <tr>\n",
       "      <th>3</th>\n",
       "      <td>1072</td>\n",
       "      <td>inhibited</td>\n",
       "      <td>inhibited</td>\n",
       "      <td>FF</td>\n",
       "      <td>SAL</td>\n",
       "    </tr>\n",
       "    <tr>\n",
       "      <th>291</th>\n",
       "      <td>1558</td>\n",
       "      <td>non responder</td>\n",
       "      <td>non responder</td>\n",
       "      <td>SIR</td>\n",
       "      <td>CIT</td>\n",
       "    </tr>\n",
       "  </tbody>\n",
       "</table>\n",
       "</div>"
      ],
      "text/plain": [
       "     neuron_id response_first_half response_second_half neuron_type group\n",
       "95        1230           activated            activated          FF   DIS\n",
       "3         1072           inhibited            inhibited          FF   SAL\n",
       "291       1558       non responder        non responder         SIR   CIT"
      ]
     },
     "metadata": {},
     "output_type": "display_data"
    },
    {
     "data": {
      "text/html": [
       "<div>\n",
       "<style scoped>\n",
       "    .dataframe tbody tr th:only-of-type {\n",
       "        vertical-align: middle;\n",
       "    }\n",
       "\n",
       "    .dataframe tbody tr th {\n",
       "        vertical-align: top;\n",
       "    }\n",
       "\n",
       "    .dataframe thead th {\n",
       "        text-align: right;\n",
       "    }\n",
       "</style>\n",
       "<table border=\"1\" class=\"dataframe\">\n",
       "  <thead>\n",
       "    <tr style=\"text-align: right;\">\n",
       "      <th></th>\n",
       "      <th>neuron_type</th>\n",
       "      <th>group</th>\n",
       "      <th>observed</th>\n",
       "      <th>se</th>\n",
       "    </tr>\n",
       "  </thead>\n",
       "  <tbody>\n",
       "    <tr>\n",
       "      <th>5</th>\n",
       "      <td>SIR</td>\n",
       "      <td>SAL</td>\n",
       "      <td>0.228190</td>\n",
       "      <td>0.003215</td>\n",
       "    </tr>\n",
       "    <tr>\n",
       "      <th>7</th>\n",
       "      <td>FF</td>\n",
       "      <td>DIS</td>\n",
       "      <td>0.601142</td>\n",
       "      <td>0.005054</td>\n",
       "    </tr>\n",
       "    <tr>\n",
       "      <th>1</th>\n",
       "      <td>SR</td>\n",
       "      <td>DIS</td>\n",
       "      <td>0.473043</td>\n",
       "      <td>0.002665</td>\n",
       "    </tr>\n",
       "  </tbody>\n",
       "</table>\n",
       "</div>"
      ],
      "text/plain": [
       "  neuron_type group  observed        se\n",
       "5         SIR   SAL  0.228190  0.003215\n",
       "7          FF   DIS  0.601142  0.005054\n",
       "1          SR   DIS  0.473043  0.002665"
      ]
     },
     "metadata": {},
     "output_type": "display_data"
    }
   ],
   "source": [
    "fn_first_half = Config.derived_data_dir / \"psth_counts_first_half.parquet\"\n",
    "fn_second_half = Config.derived_data_dir / \"psth_counts_second_half.parquet\"\n",
    "df_psth_first_half.to_parquet(Config.derived_data_dir / \"psth_second_half.csv\", index=True)\n",
    "df_psth_second_half.to_parquet(Config.derived_data_dir / \"psth_first_half.csv\", index=True)\n",
    "print(f\"First Half PSTH:\\n\\t{str(fn_first_half)}\")\n",
    "print(f\"Second Half PSTH:\\n\\t{str(fn_second_half)}\")\n",
    "\n",
    "fn_responders = Config.derived_data_dir / \"psth_first_second_half_responders.csv\"\n",
    "df_responders.to_csv(fn_responders, index=False)\n",
    "print(f\"First Second Half Responders:\\n\\t{str(fn_responders)}\")\n",
    "\n",
    "fn_responders = Config.derived_data_dir / \"psth_stability_scores.csv\"\n",
    "psth_response_stability_by_nt.to_csv(fn_responders, index=False)\n",
    "print(f\"Stability Scores:\\n\\t{str(fn_responders)}\")\n",
    "\n",
    "display(df_psth_first_half.sample(3))\n",
    "display(df_psth_second_half.sample(3))\n",
    "display(df_responders.sample(3))\n",
    "display(psth_response_stability_by_nt.sample(3))"
   ]
  },
  {
   "cell_type": "markdown",
   "metadata": {},
   "source": [
    "# Plots"
   ]
  },
  {
   "cell_type": "code",
   "execution_count": 9,
   "metadata": {},
   "outputs": [],
   "source": [
    "def stacked_bar_single(df, col, ax):\n",
    "    df[col].value_counts().to_frame().T.plot(kind=\"bar\", stacked=True, ax=ax, legend=False)\n",
    "    ax.axis(\"off\")\n",
    "    return ax"
   ]
  },
  {
   "cell_type": "markdown",
   "metadata": {},
   "source": [
    "## Slow TS"
   ]
  },
  {
   "cell_type": "markdown",
   "metadata": {},
   "source": [
    "### All Neuron Heat"
   ]
  },
  {
   "cell_type": "code",
   "execution_count": 10,
   "metadata": {},
   "outputs": [],
   "source": [
    "def pivot(df, value_col=\"zcounts\", index=\"neuron_id\", columns=\"bin\", aggfunc=\"mean\"):\n",
    "    return (\n",
    "        df\n",
    "        .pivot_table(index=index, columns=columns, values=value_col, aggfunc=aggfunc)\n",
    "    )\n",
    "\n",
    "def sort_by_response(df_piv, df_response, df_response_mag_col=\"diff\", **sort_values_kwargs):\n",
    "    ordered_responders = (\n",
    "        df_response\n",
    "        [[\"neuron_id\", \"neuron_type\", \"group\", df_response_mag_col]]\n",
    "        .set_index(\"neuron_id\")\n",
    "        .reindex(df_piv.index)\n",
    "        .sort_values([\"neuron_type\", df_response_mag_col], **sort_values_kwargs)\n",
    "        .dropna()\n",
    "    )\n",
    "    ordered_piv = df_piv.reindex(ordered_responders.index)\n",
    "    return ordered_piv, ordered_responders\n",
    "\n"
   ]
  },
  {
   "cell_type": "markdown",
   "metadata": {},
   "source": [
    "##### Preprocess"
   ]
  },
  {
   "cell_type": "code",
   "execution_count": 11,
   "metadata": {},
   "outputs": [],
   "source": [
    "# aligned data\n",
    "slow_counts = df_slow.merge(neuron_types[[\"neuron_id\", \"neuron_type\", \"group\"]]).dropna().query(\"bin <= 600\")\n",
    "\n",
    "# responders\n",
    "slow_responses = contrast_dict[\"pre_to_shock\"].merge(neuron_types[[\"neuron_id\", \"neuron_type\", \"group\"]])\n",
    "\n",
    "# by group\n",
    "slow_piv_sal, slow_piv_sal_key = (\n",
    "    slow_counts\n",
    "    .query(\"group == 'SAL'\")\n",
    "    .pipe(pivot)\n",
    "    .pipe(sort_by_response, df_response=slow_responses.query(\"group == 'SAL'\"))\n",
    ")\n",
    "slow_piv_cit, slow_piv_cit_key = (\n",
    "    slow_counts\n",
    "    .query(\"group == 'CIT'\")\n",
    "    .pipe(pivot)\n",
    "    .pipe(sort_by_response, df_response=slow_responses.query(\"group == 'CIT'\"))\n",
    ")\n",
    "\n"
   ]
  },
  {
   "cell_type": "markdown",
   "metadata": {},
   "source": [
    "##### Plot Heatmaps"
   ]
  },
  {
   "cell_type": "code",
   "execution_count": 19,
   "metadata": {},
   "outputs": [
    {
     "data": {
      "text/plain": [
       "Text(0.5, -12.777777777777782, '')"
      ]
     },
     "execution_count": 19,
     "metadata": {},
     "output_type": "execute_result"
    },
    {
     "data": {
      "image/png": "[encoded data removed]",
      "text/plain": [
       "<Figure size 150x150 with 1 Axes>"
      ]
     },
     "metadata": {},
     "output_type": "display_data"
    },
    {
     "data": {
      "image/png": "[encoded data removed]",
      "text/plain": [
       "<Figure size 150x150 with 1 Axes>"
      ]
     },
     "metadata": {},
     "output_type": "display_data"
    }
   ],
   "source": [
    "import matplotlib.pyplot as plt\n",
    "\n",
    "f_sal = plt.figure(figsize=(1.5, 1.5))\n",
    "ax = f_sal.subplots()\n",
    "sns.heatmap(slow_piv_sal, cmap=\"vlag\", center=0, robust=True, vmax=2, vmin=-2, cbar=False, ax=ax)\n",
    "ax.set_yticks([])\n",
    "ax.set_xticks([0, 600, 1200])\n",
    "ax.set_ylabel(\"\")\n",
    "ax.set_xlabel(\"\")\n",
    "\n",
    "\n",
    "f_cit = plt.figure(figsize=(1.5, 1.5))\n",
    "ax = f_cit.subplots()\n",
    "sns.heatmap(slow_piv_cit, cmap=\"vlag\", center=0, robust=True, vmax=2,  vmin=-2, cbar=False, ax=ax)\n",
    "ax.set_yticks([])\n",
    "ax.set_xticks([0, 600, 1200])\n",
    "ax.set_ylabel(\"\")\n",
    "ax.set_xlabel(\"\")"
   ]
  },
  {
   "cell_type": "markdown",
   "metadata": {},
   "source": [
    "##### Plot Key"
   ]
  },
  {
   "cell_type": "code",
   "execution_count": 13,
   "metadata": {},
   "outputs": [
    {
     "data": {
      "text/plain": [
       "<AxesSubplot: >"
      ]
     },
     "execution_count": 13,
     "metadata": {},
     "output_type": "execute_result"
    },
    {
     "data": {
      "image/png": "[encoded data removed]",
      "text/plain": [
       "<Figure size 20x120 with 1 Axes>"
      ]
     },
     "metadata": {},
     "output_type": "display_data"
    },
    {
     "data": {
      "image/png": "[encoded data removed]",
      "text/plain": [
       "<Figure size 20x120 with 1 Axes>"
      ]
     },
     "metadata": {},
     "output_type": "display_data"
    }
   ],
   "source": [
    "f_sal, ax_sal = plt.subplots(figsize=(0.2, 1.2))\n",
    "slow_piv_sal.reset_index()[[\"neuron_id\"]].merge(neuron_types).pipe(stacked_bar_single, \"neuron_type\", ax=ax_sal)\n",
    "\n",
    "\n",
    "f_cit, ax_cit = plt.subplots(figsize=(0.2, 1.2))\n",
    "slow_piv_cit.reset_index()[[\"neuron_id\"]].merge(neuron_types).pipe(stacked_bar_single, \"neuron_type\", ax=ax_cit)"
   ]
  },
  {
   "cell_type": "markdown",
   "metadata": {},
   "source": [
    "### Single Neuron Response Grid"
   ]
  },
  {
   "cell_type": "markdown",
   "metadata": {},
   "source": [
    "##### Preprocess"
   ]
  },
  {
   "cell_type": "code",
   "execution_count": 14,
   "metadata": {},
   "outputs": [],
   "source": [
    "slow_responses = (\n",
    "    contrast_dict[\"pre_to_shock\"]\n",
    "    .merge(neuron_types[[\"neuron_id\", \"neuron_type\", \"group\"]])\n",
    "    .assign(diff_inv=lambda x: x[\"diff\"] * -1)\n",
    "    .query(\"group in ('SAL', 'CIT')\")\n",
    ")"
   ]
  },
  {
   "cell_type": "code",
   "execution_count": 15,
   "metadata": {},
   "outputs": [],
   "source": [
    "# slow_responses.query(\"abs(diff) < 0.3 \")"
   ]
  },
  {
   "cell_type": "markdown",
   "metadata": {},
   "source": [
    "##### Plot Grid (Seaborn FacetGrid)"
   ]
  },
  {
   "cell_type": "code",
   "execution_count": 16,
   "metadata": {},
   "outputs": [
    {
     "data": {
      "text/plain": [
       "<seaborn.axisgrid.FacetGrid at 0x2993c7c40>"
      ]
     },
     "execution_count": 16,
     "metadata": {},
     "output_type": "execute_result"
    },
    {
     "data": {
      "image/png": "[encoded data removed]",
      "text/plain": [
       "<Figure size 432x240 with 6 Axes>"
      ]
     },
     "metadata": {},
     "output_type": "display_data"
    }
   ],
   "source": [
    "def slow_ts_hist_grid(df, height=0.933, aspect=0.75):\n",
    "    g = sns.FacetGrid(\n",
    "        data=df,\n",
    "        col=\"neuron_type\",\n",
    "        row=\"group\",\n",
    "        sharey=False, \n",
    "        sharex=True, \n",
    "        height=height, \n",
    "        aspect=aspect,\n",
    "        col_order=[\"SR\", \"SIR\", \"FF\"],\n",
    "        gridspec_kws={\"wspace\": 0.5, \"hspace\": 1.8},\n",
    "    )\n",
    "    g.map_dataframe(\n",
    "        sns.histplot, \n",
    "        x=\"diff_inv\", \n",
    "        hue=\"sig\", \n",
    "        palette=PAL_GREY_BLACK,\n",
    "        multiple=\"stack\",\n",
    "        alpha=1,\n",
    "        hue_order=[True, False],\n",
    "        bins=np.arange(-3, 3.1, 0.3),\n",
    "        )\n",
    "    g.set_xlabels(\"\")\n",
    "    g.set_ylabels(\"\")\n",
    "    return g \n",
    "\n",
    "\n",
    "with warnings.catch_warnings():\n",
    "    warnings.simplefilter(\"ignore\")\n",
    "    g_shock = slow_ts_hist_grid(slow_responses, aspect=1.2, height=1.2)\n",
    "g_shock.set_titles(\"{col_name}\\n[{row_name}]\", pad=12)\n"
   ]
  },
  {
   "cell_type": "code",
   "execution_count": 21,
   "metadata": {},
   "outputs": [
    {
     "data": {
      "text/html": [
       "<div>\n",
       "<style scoped>\n",
       "    .dataframe tbody tr th:only-of-type {\n",
       "        vertical-align: middle;\n",
       "    }\n",
       "\n",
       "    .dataframe tbody tr th {\n",
       "        vertical-align: top;\n",
       "    }\n",
       "\n",
       "    .dataframe thead th {\n",
       "        text-align: right;\n",
       "    }\n",
       "</style>\n",
       "<table border=\"1\" class=\"dataframe\">\n",
       "  <thead>\n",
       "    <tr style=\"text-align: right;\">\n",
       "      <th>response</th>\n",
       "      <th>activated</th>\n",
       "      <th>inhibited</th>\n",
       "      <th>non responder</th>\n",
       "    </tr>\n",
       "    <tr>\n",
       "      <th>group</th>\n",
       "      <th></th>\n",
       "      <th></th>\n",
       "      <th></th>\n",
       "    </tr>\n",
       "  </thead>\n",
       "  <tbody>\n",
       "    <tr>\n",
       "      <th>CIT</th>\n",
       "      <td>78</td>\n",
       "      <td>41</td>\n",
       "      <td>40</td>\n",
       "    </tr>\n",
       "    <tr>\n",
       "      <th>SAL</th>\n",
       "      <td>52</td>\n",
       "      <td>33</td>\n",
       "      <td>21</td>\n",
       "    </tr>\n",
       "  </tbody>\n",
       "</table>\n",
       "</div>"
      ],
      "text/plain": [
       "response  activated  inhibited  non responder\n",
       "group                                        \n",
       "CIT              78         41             40\n",
       "SAL              52         33             21"
      ]
     },
     "metadata": {},
     "output_type": "display_data"
    },
    {
     "data": {
      "text/plain": [
       "(1.4405183872396976,\n",
       " 0.48662610922969995,\n",
       " 2,\n",
       " array([[78. , 44.4, 36.6],\n",
       "        [52. , 29.6, 24.4]]))"
      ]
     },
     "execution_count": 21,
     "metadata": {},
     "output_type": "execute_result"
    }
   ],
   "source": [
    "from scipy.stats import chi2_contingency\n",
    "tab_slow = (\n",
    "    slow_responses\n",
    "    .merge(neuron_types)\n",
    "    .query(\"group in ('SAL', 'CIT') \")\n",
    "    .pipe(lambda x: pd.crosstab(x.group, x.response))\n",
    ")\n",
    "\n",
    "display(tab_slow)\n",
    "chi2_contingency(tab_slow)"
   ]
  },
  {
   "cell_type": "code",
   "execution_count": 17,
   "metadata": {},
   "outputs": [
    {
     "name": "stderr",
     "output_type": "stream",
     "text": [
      "/opt/miniconda3/envs/ssri/lib/python3.8/site-packages/seaborn/axisgrid.py:118: UserWarning: This figure includes Axes that are not compatible with tight_layout, so results might be incorrect.\n",
      "  self._figure.tight_layout(*args, **kwargs)\n",
      "/opt/miniconda3/envs/ssri/lib/python3.8/site-packages/seaborn/axisgrid.py:118: UserWarning: This figure includes Axes that are not compatible with tight_layout, so results might be incorrect.\n",
      "  self._figure.tight_layout(*args, **kwargs)\n"
     ]
    },
    {
     "data": {
      "text/plain": [
       "<seaborn.axisgrid.FacetGrid at 0x28498c9d0>"
      ]
     },
     "execution_count": 17,
     "metadata": {},
     "output_type": "execute_result"
    },
    {
     "data": {
      "image/png": "[encoded data removed]",
      "text/plain": [
       "<Figure size 436.25x100 with 3 Axes>"
      ]
     },
     "metadata": {},
     "output_type": "display_data"
    }
   ],
   "source": [
    "df_slow = (\n",
    "    df_slow\n",
    "    .assign(\n",
    "        block=lambda x: np.select(\n",
    "            [x[\"bin\"] < 0, x[\"bin\"] < 600, x[\"bin\"] < 1200],\n",
    "            [\"Pre\", \"Shock\", \"Post\"],\n",
    "            ))\n",
    "    .query(\"group in ('SAL', 'CIT')\")\n",
    "    .query(\"block != 'Post'\")\n",
    ")\n",
    "        \n",
    "\n",
    "g = sns.catplot(\n",
    "    x=\"block\", \n",
    "    y=\"zcounts\", \n",
    "    col=\"neuron_type\",\n",
    "    hue=\"group\",\n",
    "    sharey=True,\n",
    "    sharex=True,\n",
    "    capsize=0.15, \n",
    "    height=1, \n",
    "    aspect=1.2, \n",
    "    color=\"black\",\n",
    "    kind=\"point\", \n",
    "    data=df_slow,\n",
    "    scale=0.7,\n",
    "    facet_kws=dict(gridspec_kws=dict(hspace=0.5, wspace=0.5)),\n",
    "    palette=PAL_GREY_BLACK,\n",
    "    hue_order=[\"CIT\", \"SAL\"],\n",
    ")\n",
    "g.set_xlabels(\"\")\n",
    "g.set_ylabels(\"\")\n",
    "g.set_titles(\"{col_name}\", pad=25)\n",
    "g.despine()\n",
    "g.set_xticklabels([\"Pre\", \"Shock\"], rotation=45)"
   ]
  },
  {
   "cell_type": "markdown",
   "metadata": {},
   "source": [
    "## Fast TS"
   ]
  },
  {
   "cell_type": "markdown",
   "metadata": {},
   "source": [
    "### All Neuron Heat"
   ]
  },
  {
   "cell_type": "markdown",
   "metadata": {},
   "source": [
    "#### Preprocess"
   ]
  },
  {
   "cell_type": "code",
   "execution_count": 85,
   "metadata": {},
   "outputs": [],
   "source": [
    "\n",
    "# aligned data\n",
    "fast_counts = df_psth.merge(neuron_types[[\"neuron_id\", \"neuron_type\", \"group\"]]).dropna()\n",
    "\n",
    "# responders\n",
    "fast_responses = responders.merge(neuron_types[[\"neuron_id\", \"neuron_type\", \"group\"]])\n",
    "\n",
    "\n",
    "\n",
    "responders_second_window = responders_second_window.merge(neuron_types[[\"neuron_id\", \"neuron_type\", \"group\"]])\n",
    "df_psth_second_window = df_psth_second_window.merge(neuron_types[[\"neuron_id\", \"neuron_type\", \"group\"]])\n",
    "\n",
    "# by group\n",
    "fast_piv_sal, fast_piv_sal_key = (\n",
    "    fast_counts\n",
    "    .query(\"group == 'SAL'\")\n",
    "    .pipe(pivot)\n",
    "    .pipe(sort_by_response, df_response=fast_responses.query(\"group == 'SAL'\"), df_response_mag_col=\"Diff\")\n",
    ")\n",
    "\n",
    "fast_piv_cit, fast_piv_cit_key = (\n",
    "    fast_counts\n",
    "    .query(\"group == 'CIT'\")\n",
    "    .pipe(pivot)\n",
    "    .dropna()\n",
    "\n",
    "    .pipe(sort_by_response, df_response=fast_responses.query(\"group == 'CIT'\"), df_response_mag_col=\"Diff\")\n",
    ")"
   ]
  },
  {
   "cell_type": "markdown",
   "metadata": {},
   "source": [
    "#### Plot Heats"
   ]
  },
  {
   "cell_type": "code",
   "execution_count": 77,
   "metadata": {},
   "outputs": [
    {
     "data": {
      "text/plain": [
       "Text(0.5, -12.777777777777782, '')"
      ]
     },
     "execution_count": 77,
     "metadata": {},
     "output_type": "execute_result"
    },
    {
     "data": {
      "image/png": "[encoded data removed]",
      "text/plain": [
       "<Figure size 150x150 with 1 Axes>"
      ]
     },
     "metadata": {},
     "output_type": "display_data"
    },
    {
     "data": {
      "image/png": "[encoded data removed]",
      "text/plain": [
       "<Figure size 150x150 with 1 Axes>"
      ]
     },
     "metadata": {},
     "output_type": "display_data"
    }
   ],
   "source": [
    "f_sal = plt.figure(figsize=(1.5, 1.5))\n",
    "ax = f_sal.subplots()\n",
    "sns.heatmap(fast_piv_sal, cmap=\"vlag\", center=0, robust=True, vmin=-3, vmax=3, cbar=False, ax=ax)\n",
    "ax.set_yticks([])\n",
    "ax.set_xticks([0, 50, 100, 150, 199])\n",
    "ax.set_ylabel(\"\")\n",
    "ax.set_xlabel(\"\")\n",
    "\n",
    "\n",
    "f_cit = plt.figure(figsize=(1.5, 1.5))\n",
    "ax = f_cit.subplots()\n",
    "sns.heatmap(fast_piv_cit, cmap=\"vlag\", center=0, robust=True, vmin=-3, vmax=3, cbar=False, ax=ax)\n",
    "ax.set_yticks([])\n",
    "ax.set_xticks([100, 130])\n",
    "ax.set_ylabel(\"\")\n",
    "ax.set_xlabel(\"\")"
   ]
  },
  {
   "cell_type": "markdown",
   "metadata": {},
   "source": [
    "##### Plot Neuron Type Key (All Neuron Heat)"
   ]
  },
  {
   "cell_type": "code",
   "execution_count": 78,
   "metadata": {},
   "outputs": [
    {
     "data": {
      "text/plain": [
       "<AxesSubplot: >"
      ]
     },
     "execution_count": 78,
     "metadata": {},
     "output_type": "execute_result"
    },
    {
     "data": {
      "image/png": "[encoded data removed]",
      "text/plain": [
       "<Figure size 20x120 with 1 Axes>"
      ]
     },
     "metadata": {},
     "output_type": "display_data"
    },
    {
     "data": {
      "image/png": "[encoded data removed]",
      "text/plain": [
       "<Figure size 20x120 with 1 Axes>"
      ]
     },
     "metadata": {},
     "output_type": "display_data"
    }
   ],
   "source": [
    "f_sal, ax_sal = plt.subplots(figsize=(0.2, 1.2))\n",
    "fast_piv_sal.reset_index()[[\"neuron_id\"]].merge(neuron_types).pipe(stacked_bar_single, \"neuron_type\", ax=ax_sal)\n",
    "\n",
    "\n",
    "f_cit, ax_cit = plt.subplots(figsize=(0.2, 1.2))\n",
    "fast_piv_cit.reset_index()[[\"neuron_id\"]].merge(neuron_types).pipe(stacked_bar_single, \"neuron_type\", ax=ax_cit)"
   ]
  },
  {
   "cell_type": "markdown",
   "metadata": {},
   "source": [
    "### Single Neuron Response Grid"
   ]
  },
  {
   "cell_type": "code",
   "execution_count": 79,
   "metadata": {},
   "outputs": [
    {
     "data": {
      "text/plain": [
       "<seaborn.axisgrid.FacetGrid at 0x28a64d730>"
      ]
     },
     "execution_count": 79,
     "metadata": {},
     "output_type": "execute_result"
    },
    {
     "data": {
      "image/png": "[encoded data removed]",
      "text/plain": [
       "<Figure size 432x240 with 6 Axes>"
      ]
     },
     "metadata": {},
     "output_type": "display_data"
    }
   ],
   "source": [
    "def slow_ts_hist_grid(df, height=0.933, aspect=0.75):\n",
    "    g = sns.FacetGrid(\n",
    "        data=df,\n",
    "        col=\"neuron_type\",\n",
    "        row=\"group\",\n",
    "        sharey=False, \n",
    "        sharex=True, \n",
    "        height=height, \n",
    "        aspect=aspect,\n",
    "        col_order=[\"SR\", \"SIR\", \"FF\"],\n",
    "        gridspec_kws={\"wspace\": 0.5, \"hspace\": 1.8},\n",
    "    )\n",
    "    g.map_dataframe(\n",
    "        sns.histplot, \n",
    "        x=\"Diff_round\", \n",
    "        hue=\"sig\", \n",
    "        palette=PAL_GREY_BLACK,\n",
    "        multiple=\"stack\",\n",
    "        alpha=1,\n",
    "        hue_order=[True, False],\n",
    "        bins=np.arange(-5.5, 5.6, 0.7),\n",
    "        )\n",
    "    g.set_xlabels(\"\")\n",
    "    g.set_ylabels(\"\")\n",
    "    return g \n",
    "\n",
    "fast_responses[\"Diff_round\"] = np.select(\n",
    "    [fast_responses[\"Diff\"] > 5, fast_responses[\"Diff\"] < -5],\n",
    "    [5, -5],\n",
    "    default=fast_responses[\"Diff\"],\n",
    "    )\n",
    "\n",
    "with warnings.catch_warnings():\n",
    "    warnings.simplefilter(\"ignore\")\n",
    "    g_shock = slow_ts_hist_grid(fast_responses.query(\"group in ('SAL', 'CIT')\"), aspect=1.2, height=1.2)\n",
    "g_shock.set_titles(\"{col_name}\\n[{row_name}]\", pad=12)"
   ]
  },
  {
   "cell_type": "code",
   "execution_count": 80,
   "metadata": {},
   "outputs": [
    {
     "data": {
      "text/plain": [
       "<seaborn.axisgrid.FacetGrid at 0x2a6dee460>"
      ]
     },
     "execution_count": 80,
     "metadata": {},
     "output_type": "execute_result"
    },
    {
     "data": {
      "image/png": "[encoded data removed]",
      "text/plain": [
       "<Figure size 432x240 with 6 Axes>"
      ]
     },
     "metadata": {},
     "output_type": "display_data"
    }
   ],
   "source": [
    "responders_second_window\n",
    "\n",
    "responders_second_window[\"Diff_round\"] = np.select(\n",
    "    [responders_second_window[\"Diff\"] > 5, responders_second_window[\"Diff\"] < -5],\n",
    "    [5, -5],\n",
    "    default=responders_second_window[\"Diff\"],\n",
    "    )\n",
    "\n",
    "with warnings.catch_warnings():\n",
    "    warnings.simplefilter(\"ignore\")\n",
    "    g_shock = slow_ts_hist_grid(responders_second_window.query(\"group in ('SAL', 'CIT')\"), aspect=1.2, height=1.2)\n",
    "g_shock.set_titles(\"{col_name}\\n[{row_name}]\", pad=12)"
   ]
  },
  {
   "cell_type": "markdown",
   "metadata": {},
   "source": [
    "### PSTH Response Mag"
   ]
  },
  {
   "cell_type": "code",
   "execution_count": 74,
   "metadata": {},
   "outputs": [
    {
     "name": "stderr",
     "output_type": "stream",
     "text": [
      "/opt/miniconda3/envs/ssri/lib/python3.8/site-packages/seaborn/axisgrid.py:118: UserWarning: This figure includes Axes that are not compatible with tight_layout, so results might be incorrect.\n",
      "  self._figure.tight_layout(*args, **kwargs)\n",
      "/opt/miniconda3/envs/ssri/lib/python3.8/site-packages/seaborn/axisgrid.py:118: UserWarning: This figure includes Axes that are not compatible with tight_layout, so results might be incorrect.\n",
      "  self._figure.tight_layout(*args, **kwargs)\n"
     ]
    },
    {
     "data": {
      "text/plain": [
       "<seaborn.axisgrid.FacetGrid at 0x2897e95e0>"
      ]
     },
     "execution_count": 74,
     "metadata": {},
     "output_type": "execute_result"
    },
    {
     "data": {
      "image/png": "[encoded data removed]",
      "text/plain": [
       "<Figure size 436.25x100 with 3 Axes>"
      ]
     },
     "metadata": {},
     "output_type": "display_data"
    }
   ],
   "source": [
    "g = sns.catplot(\n",
    "    x=\"window\", \n",
    "    y=\"zcounts\", \n",
    "    col=\"neuron_type\",\n",
    "    hue=\"group\",\n",
    "    sharey=True,\n",
    "    sharex=True,\n",
    "    capsize=0.15, \n",
    "    height=1, \n",
    "    aspect=1.2, \n",
    "    color=\"black\",\n",
    "    kind=\"point\", \n",
    "    data=fast_counts,\n",
    "    scale=0.7,\n",
    "    facet_kws=dict(gridspec_kws=dict(hspace=0.5, wspace=0.5)),\n",
    "    palette=PAL_GREY_BLACK,\n",
    "    hue_order=[\"CIT\", \"SAL\"],\n",
    ")\n",
    "g.set_xlabels(\"\")\n",
    "g.set_ylabels(\"\")\n",
    "g.set_titles(\"{col_name}\", pad=25)\n",
    "g.despine()\n",
    "g.set_xticklabels([\"Pre\", \"Shock\"], rotation=45)"
   ]
  },
  {
   "cell_type": "code",
   "execution_count": 86,
   "metadata": {},
   "outputs": [
    {
     "name": "stderr",
     "output_type": "stream",
     "text": [
      "/opt/miniconda3/envs/ssri/lib/python3.8/site-packages/seaborn/axisgrid.py:118: UserWarning: This figure includes Axes that are not compatible with tight_layout, so results might be incorrect.\n",
      "  self._figure.tight_layout(*args, **kwargs)\n",
      "/opt/miniconda3/envs/ssri/lib/python3.8/site-packages/seaborn/axisgrid.py:118: UserWarning: This figure includes Axes that are not compatible with tight_layout, so results might be incorrect.\n",
      "  self._figure.tight_layout(*args, **kwargs)\n"
     ]
    },
    {
     "data": {
      "text/plain": [
       "<seaborn.axisgrid.FacetGrid at 0x29dab0850>"
      ]
     },
     "execution_count": 86,
     "metadata": {},
     "output_type": "execute_result"
    },
    {
     "data": {
      "image/png": "[encoded data removed]",
      "text/plain": [
       "<Figure size 436.25x100 with 3 Axes>"
      ]
     },
     "metadata": {},
     "output_type": "display_data"
    }
   ],
   "source": [
    "g = sns.catplot(\n",
    "    x=\"window\", \n",
    "    y=\"zcounts\", \n",
    "    col=\"neuron_type\",\n",
    "    hue=\"group\",\n",
    "    sharey=True,\n",
    "    sharex=True,\n",
    "    capsize=0.15, \n",
    "    height=1, \n",
    "    aspect=1.2, \n",
    "    color=\"black\",\n",
    "    kind=\"point\", \n",
    "    data=df_psth_second_window,\n",
    "    scale=0.7,\n",
    "    facet_kws=dict(gridspec_kws=dict(hspace=0.5, wspace=0.5)),\n",
    "    palette=PAL_GREY_BLACK,\n",
    "    hue_order=[\"CIT\", \"SAL\"],\n",
    ")\n",
    "g.set_xlabels(\"\")\n",
    "g.set_ylabels(\"\")\n",
    "g.set_titles(\"{col_name}\", pad=25)\n",
    "g.despine()\n",
    "g.set_xticklabels([\"Pre\", \"Shock\"], rotation=45)"
   ]
  },
  {
   "cell_type": "code",
   "execution_count": null,
   "metadata": {},
   "outputs": [],
   "source": []
  }
 ],
 "metadata": {
  "kernelspec": {
   "display_name": "Python 3.8.13 ('ssri')",
   "language": "python",
   "name": "python3"
  },
  "language_info": {
   "codemirror_mode": {
    "name": "ipython",
    "version": 3
   },
   "file_extension": ".py",
   "mimetype": "text/x-python",
   "name": "python",
   "nbconvert_exporter": "python",
   "pygments_lexer": "ipython3",
   "version": "3.8.13"
  },
  "orig_nbformat": 4,
  "vscode": {
   "interpreter": {
    "hash": "998f3992552e3982958b29910ac62535f7791fb5d4d73f3260b206ed6ebaabc7"
   }
  }
 },
 "nbformat": 4,
 "nbformat_minor": 2
}

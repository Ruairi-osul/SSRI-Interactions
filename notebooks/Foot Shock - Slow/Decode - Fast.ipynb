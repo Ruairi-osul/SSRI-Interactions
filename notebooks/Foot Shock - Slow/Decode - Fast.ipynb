{
 "cells": [
  {
   "cell_type": "code",
   "execution_count": 1,
   "metadata": {},
   "outputs": [
    {
     "name": "stderr",
     "output_type": "stream",
     "text": [
      "/opt/miniconda3/envs/ssri/lib/python3.8/site-packages/outdated/utils.py:14: OutdatedPackageWarning: The package pingouin is out of date. Your version is 0.5.1, the latest is 0.5.2.\n",
      "Set the environment variable OUTDATED_IGNORE=1 to disable these warnings.\n",
      "  return warn(\n"
     ]
    }
   ],
   "source": [
    "from sklearn.model_selection import KFold\n",
    "from lightgbm import LGBMClassifier\n",
    "\n",
    "from ssri_interactions.io import load_derived_generic\n",
    "from ssri_interactions.config import ExperimentInfo, Config\n",
    "from ssri_interactions.decoding.loaders import FSDecodeDataLoader, FSFastDecodeDataLoaderTwoWindows\n",
    "from ssri_interactions.decoding.preprocessors import DecodePreprocessor\n",
    "from ssri_interactions.decoding.runners import DecodeRunner\n",
    "from ssri_interactions.decoding.decoders import Decoder\n",
    "from ssri_interactions.decoding.shuffle import shuffle_X"
   ]
  },
  {
   "cell_type": "code",
   "execution_count": 2,
   "metadata": {},
   "outputs": [],
   "source": [
    "def make_fast_ts_runner(window_1, window_2, bin_width=0.1):\n",
    "    loader = FSFastDecodeDataLoaderTwoWindows(\n",
    "        session_name=None, \n",
    "        bin_width=bin_width, \n",
    "        window_1=window_1,\n",
    "        window_2=window_2,\n",
    "    )\n",
    "    preprocessor = DecodePreprocessor(\n",
    "        thresh_empty=1, \n",
    "    )\n",
    "    spikes, states = loader()\n",
    "    spikes, states = preprocessor(spikes, states)\n",
    "    estimator = LGBMClassifier(n_estimators=40, max_depth=8, num_leaves=30)\n",
    "    cv = KFold(n_splits=5, shuffle=True)\n",
    "    decoder = Decoder(estimator=estimator, cv=cv, shuffler=shuffle_X)\n",
    "    runner = DecodeRunner(\n",
    "        loader=loader,\n",
    "        preprocessor=preprocessor,\n",
    "        decoder=decoder,\n",
    "        nboot=75,\n",
    "    )\n",
    "    return runner"
   ]
  },
  {
   "cell_type": "code",
   "execution_count": 3,
   "metadata": {},
   "outputs": [],
   "source": [
    "neuron_types = load_derived_generic(\"neuron_types.csv\").query(\"group in ('CIT', 'SAL')\")\n",
    "sessions = neuron_types.query(\"experiment_name == 'HAMILTON'\").session_name.unique().tolist()\n",
    "session = sessions[0]"
   ]
  },
  {
   "cell_type": "markdown",
   "metadata": {},
   "source": [
    "#### Initial window versus baseline"
   ]
  },
  {
   "cell_type": "code",
   "execution_count": 4,
   "metadata": {},
   "outputs": [
    {
     "ename": "IndexError",
     "evalue": "boolean index did not match indexed array along dimension 0; dimension is 2079 but corresponding boolean dimension is 183386511",
     "output_type": "error",
     "traceback": [
      "\u001b[0;31m---------------------------------------------------------------------------\u001b[0m",
      "\u001b[0;31mIndexError\u001b[0m                                Traceback (most recent call last)",
      "Cell \u001b[0;32mIn [4], line 6\u001b[0m\n\u001b[1;32m      2\u001b[0m window_1 \u001b[39m=\u001b[39m (\u001b[39m0.05\u001b[39m, \u001b[39m0.2\u001b[39m)\n\u001b[1;32m      3\u001b[0m window_2 \u001b[39m=\u001b[39m (\u001b[39m0.5\u001b[39m, \u001b[39m0.8\u001b[39m)\n\u001b[0;32m----> 6\u001b[0m runner_w1 \u001b[39m=\u001b[39m make_fast_ts_runner(\n\u001b[1;32m      7\u001b[0m     window_1\u001b[39m=\u001b[39;49mwindow_pre,\n\u001b[1;32m      8\u001b[0m     window_2\u001b[39m=\u001b[39;49mwindow_1, \n\u001b[1;32m      9\u001b[0m     bin_width\u001b[39m=\u001b[39;49m\u001b[39m0.1\u001b[39;49m\n\u001b[1;32m     10\u001b[0m )\n\u001b[1;32m     11\u001b[0m pop_w1, unit_w1 \u001b[39m=\u001b[39m runner_w1\u001b[39m.\u001b[39mrun_multiple(sessions)\n",
      "Cell \u001b[0;32mIn [2], line 12\u001b[0m, in \u001b[0;36mmake_fast_ts_runner\u001b[0;34m(window_1, window_2, bin_width)\u001b[0m\n\u001b[1;32m      8\u001b[0m preprocessor \u001b[39m=\u001b[39m DecodePreprocessor(\n\u001b[1;32m      9\u001b[0m     thresh_empty\u001b[39m=\u001b[39m\u001b[39m1\u001b[39m, \n\u001b[1;32m     10\u001b[0m )\n\u001b[1;32m     11\u001b[0m spikes, states \u001b[39m=\u001b[39m loader()\n\u001b[0;32m---> 12\u001b[0m spikes, states \u001b[39m=\u001b[39m preprocessor(spikes, states)\n\u001b[1;32m     13\u001b[0m estimator \u001b[39m=\u001b[39m LGBMClassifier(n_estimators\u001b[39m=\u001b[39m\u001b[39m40\u001b[39m, max_depth\u001b[39m=\u001b[39m\u001b[39m8\u001b[39m, num_leaves\u001b[39m=\u001b[39m\u001b[39m30\u001b[39m)\n\u001b[1;32m     14\u001b[0m cv \u001b[39m=\u001b[39m KFold(n_splits\u001b[39m=\u001b[39m\u001b[39m5\u001b[39m, shuffle\u001b[39m=\u001b[39m\u001b[39mTrue\u001b[39;00m)\n",
      "File \u001b[0;32m~/repos/SSRI Interactions/ssri_interactions/decoding/preprocessors.py:55\u001b[0m, in \u001b[0;36mDecodePreprocessor.__call__\u001b[0;34m(self, spikes, states)\u001b[0m\n\u001b[1;32m     53\u001b[0m \u001b[39mif\u001b[39;00m \u001b[39mself\u001b[39m\u001b[39m.\u001b[39mneuron_types \u001b[39mis\u001b[39;00m \u001b[39mnot\u001b[39;00m \u001b[39mNone\u001b[39;00m:\n\u001b[1;32m     54\u001b[0m     spikes \u001b[39m=\u001b[39m \u001b[39mself\u001b[39m\u001b[39m.\u001b[39msubset_neurontypes(spikes)\n\u001b[0;32m---> 55\u001b[0m spikes, states \u001b[39m=\u001b[39m \u001b[39mself\u001b[39;49m\u001b[39m.\u001b[39;49mremove_empty(spikes, states)\n\u001b[1;32m     56\u001b[0m \u001b[39mif\u001b[39;00m \u001b[39mself\u001b[39m\u001b[39m.\u001b[39mshuffle \u001b[39mis\u001b[39;00m \u001b[39mnot\u001b[39;00m \u001b[39mNone\u001b[39;00m:\n\u001b[1;32m     57\u001b[0m     spikes, states \u001b[39m=\u001b[39m \u001b[39mself\u001b[39m\u001b[39m.\u001b[39mshuffle(spikes, states)\n",
      "File \u001b[0;32m~/repos/SSRI Interactions/ssri_interactions/decoding/preprocessors.py:47\u001b[0m, in \u001b[0;36mDecodePreprocessor.remove_empty\u001b[0;34m(self, spikes, states)\u001b[0m\n\u001b[1;32m     45\u001b[0m sums \u001b[39m=\u001b[39m spikes\u001b[39m.\u001b[39msum(axis\u001b[39m=\u001b[39m\u001b[39m1\u001b[39m)\n\u001b[1;32m     46\u001b[0m spikes \u001b[39m=\u001b[39m spikes[sums \u001b[39m>\u001b[39m\u001b[39m=\u001b[39m \u001b[39mself\u001b[39m\u001b[39m.\u001b[39mthresh_empty]\n\u001b[0;32m---> 47\u001b[0m states \u001b[39m=\u001b[39m states[sums \u001b[39m>\u001b[39;49m\u001b[39m=\u001b[39;49m \u001b[39mself\u001b[39;49m\u001b[39m.\u001b[39;49mthresh_empty]\n\u001b[1;32m     48\u001b[0m \u001b[39mreturn\u001b[39;00m spikes, states\n",
      "File \u001b[0;32m/opt/miniconda3/envs/ssri/lib/python3.8/site-packages/pandas/core/series.py:1005\u001b[0m, in \u001b[0;36mSeries.__getitem__\u001b[0;34m(self, key)\u001b[0m\n\u001b[1;32m   1003\u001b[0m     key \u001b[39m=\u001b[39m check_bool_indexer(\u001b[39mself\u001b[39m\u001b[39m.\u001b[39mindex, key)\n\u001b[1;32m   1004\u001b[0m     key \u001b[39m=\u001b[39m np\u001b[39m.\u001b[39masarray(key, dtype\u001b[39m=\u001b[39m\u001b[39mbool\u001b[39m)\n\u001b[0;32m-> 1005\u001b[0m     \u001b[39mreturn\u001b[39;00m \u001b[39mself\u001b[39;49m\u001b[39m.\u001b[39;49m_get_values(key)\n\u001b[1;32m   1007\u001b[0m \u001b[39mreturn\u001b[39;00m \u001b[39mself\u001b[39m\u001b[39m.\u001b[39m_get_with(key)\n",
      "File \u001b[0;32m/opt/miniconda3/envs/ssri/lib/python3.8/site-packages/pandas/core/series.py:1069\u001b[0m, in \u001b[0;36mSeries._get_values\u001b[0;34m(self, indexer)\u001b[0m\n\u001b[1;32m   1068\u001b[0m \u001b[39mdef\u001b[39;00m \u001b[39m_get_values\u001b[39m(\u001b[39mself\u001b[39m, indexer: \u001b[39mslice\u001b[39m \u001b[39m|\u001b[39m npt\u001b[39m.\u001b[39mNDArray[np\u001b[39m.\u001b[39mbool_]) \u001b[39m-\u001b[39m\u001b[39m>\u001b[39m Series:\n\u001b[0;32m-> 1069\u001b[0m     new_mgr \u001b[39m=\u001b[39m \u001b[39mself\u001b[39;49m\u001b[39m.\u001b[39;49m_mgr\u001b[39m.\u001b[39;49mgetitem_mgr(indexer)\n\u001b[1;32m   1070\u001b[0m     \u001b[39mreturn\u001b[39;00m \u001b[39mself\u001b[39m\u001b[39m.\u001b[39m_constructor(new_mgr)\u001b[39m.\u001b[39m__finalize__(\u001b[39mself\u001b[39m)\n",
      "File \u001b[0;32m/opt/miniconda3/envs/ssri/lib/python3.8/site-packages/pandas/core/internals/managers.py:1996\u001b[0m, in \u001b[0;36mSingleBlockManager.getitem_mgr\u001b[0;34m(self, indexer)\u001b[0m\n\u001b[1;32m   1993\u001b[0m \u001b[39mdef\u001b[39;00m \u001b[39mgetitem_mgr\u001b[39m(\u001b[39mself\u001b[39m, indexer: \u001b[39mslice\u001b[39m \u001b[39m|\u001b[39m npt\u001b[39m.\u001b[39mNDArray[np\u001b[39m.\u001b[39mbool_]) \u001b[39m-\u001b[39m\u001b[39m>\u001b[39m SingleBlockManager:\n\u001b[1;32m   1994\u001b[0m     \u001b[39m# similar to get_slice, but not restricted to slice indexer\u001b[39;00m\n\u001b[1;32m   1995\u001b[0m     blk \u001b[39m=\u001b[39m \u001b[39mself\u001b[39m\u001b[39m.\u001b[39m_block\n\u001b[0;32m-> 1996\u001b[0m     array \u001b[39m=\u001b[39m blk\u001b[39m.\u001b[39;49m_slice(indexer)\n\u001b[1;32m   1997\u001b[0m     \u001b[39mif\u001b[39;00m array\u001b[39m.\u001b[39mndim \u001b[39m>\u001b[39m \u001b[39m1\u001b[39m:\n\u001b[1;32m   1998\u001b[0m         \u001b[39m# This will be caught by Series._get_values\u001b[39;00m\n\u001b[1;32m   1999\u001b[0m         \u001b[39mraise\u001b[39;00m \u001b[39mValueError\u001b[39;00m(\u001b[39m\"\u001b[39m\u001b[39mdimension-expanding indexing not allowed\u001b[39m\u001b[39m\"\u001b[39m)\n",
      "File \u001b[0;32m/opt/miniconda3/envs/ssri/lib/python3.8/site-packages/pandas/core/internals/blocks.py:839\u001b[0m, in \u001b[0;36mBlock._slice\u001b[0;34m(self, slicer)\u001b[0m\n\u001b[1;32m    834\u001b[0m \u001b[39mdef\u001b[39;00m \u001b[39m_slice\u001b[39m(\n\u001b[1;32m    835\u001b[0m     \u001b[39mself\u001b[39m, slicer: \u001b[39mslice\u001b[39m \u001b[39m|\u001b[39m npt\u001b[39m.\u001b[39mNDArray[np\u001b[39m.\u001b[39mbool_] \u001b[39m|\u001b[39m npt\u001b[39m.\u001b[39mNDArray[np\u001b[39m.\u001b[39mintp]\n\u001b[1;32m    836\u001b[0m ) \u001b[39m-\u001b[39m\u001b[39m>\u001b[39m ArrayLike:\n\u001b[1;32m    837\u001b[0m     \u001b[39m\"\"\"return a slice of my values\"\"\"\u001b[39;00m\n\u001b[0;32m--> 839\u001b[0m     \u001b[39mreturn\u001b[39;00m \u001b[39mself\u001b[39;49m\u001b[39m.\u001b[39;49mvalues[slicer]\n",
      "\u001b[0;31mIndexError\u001b[0m: boolean index did not match indexed array along dimension 0; dimension is 2079 but corresponding boolean dimension is 183386511"
     ]
    }
   ],
   "source": [
    "window_pre = (-0.5, -0.1)\n",
    "window_1 = (0.05, 0.2)\n",
    "window_2 = (0.5, 0.8)\n",
    "\n",
    "\n",
    "runner_w1 = make_fast_ts_runner(\n",
    "    window_1=window_pre,\n",
    "    window_2=window_1, \n",
    "    bin_width=0.1\n",
    ")\n",
    "pop_w1, unit_w1 = runner_w1.run_multiple(sessions)\n"
   ]
  },
  {
   "cell_type": "markdown",
   "metadata": {},
   "source": [
    "#### Second window versus baseline"
   ]
  },
  {
   "cell_type": "code",
   "execution_count": null,
   "metadata": {},
   "outputs": [],
   "source": [
    "runner_w2 = make_fast_ts_runner(\n",
    "    window_1=window_pre,\n",
    "    window_2=window_2, \n",
    "    bin_width=0.1\n",
    ")\n",
    "pop_w2, unit_w2 = runner_w2.run_multiple(sessions)"
   ]
  },
  {
   "cell_type": "markdown",
   "metadata": {},
   "source": [
    "#### Initial window versus second window"
   ]
  },
  {
   "cell_type": "code",
   "execution_count": null,
   "metadata": {},
   "outputs": [],
   "source": [
    "runner_comp = make_fast_ts_runner(\n",
    "    window_1=window_1,\n",
    "    window_2=window_2, \n",
    "    bin_width=0.1\n",
    ")\n",
    "pop_comp, unit_comp = runner_comp.run_multiple(sessions)"
   ]
  }
 ],
 "metadata": {
  "kernelspec": {
   "display_name": "Python 3.8.13 ('ssri')",
   "language": "python",
   "name": "python3"
  },
  "language_info": {
   "codemirror_mode": {
    "name": "ipython",
    "version": 3
   },
   "file_extension": ".py",
   "mimetype": "text/x-python",
   "name": "python",
   "nbconvert_exporter": "python",
   "pygments_lexer": "ipython3",
   "version": "3.8.13"
  },
  "orig_nbformat": 4,
  "vscode": {
   "interpreter": {
    "hash": "998f3992552e3982958b29910ac62535f7791fb5d4d73f3260b206ed6ebaabc7"
   }
  }
 },
 "nbformat": 4,
 "nbformat_minor": 2
}

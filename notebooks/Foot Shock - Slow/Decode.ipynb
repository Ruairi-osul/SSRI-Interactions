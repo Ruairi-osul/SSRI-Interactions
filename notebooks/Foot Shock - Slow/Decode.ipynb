{
 "cells": [
  {
   "cell_type": "code",
   "execution_count": 2,
   "metadata": {},
   "outputs": [
    {
     "name": "stderr",
     "output_type": "stream",
     "text": [
      "c:\\ProgramData\\Miniconda3\\envs\\ssri\\lib\\site-packages\\outdated\\utils.py:14: OutdatedPackageWarning: The package outdated is out of date. Your version is 0.2.1, the latest is 0.2.2.\n",
      "Set the environment variable OUTDATED_IGNORE=1 to disable these warnings.\n",
      "  return warn(\n"
     ]
    }
   ],
   "source": [
    "from sklearn.model_selection import KFold\n",
    "from lightgbm import LGBMClassifier\n",
    "\n",
    "from ssri_interactions.io import load_derived_generic\n",
    "from ssri_interactions.config import ExperimentInfo, Config\n",
    "from ssri_interactions.decoding.loaders import FSDecodeDataLoader, FSFastDecodeDataLoader\n",
    "from ssri_interactions.decoding.preprocessors import DecodePreprocessor\n",
    "from ssri_interactions.decoding.runners import DecodeRunner\n",
    "from ssri_interactions.decoding.decoders import Decoder\n",
    "from ssri_interactions.decoding.shuffle import shuffle_X\n",
    "\n",
    "# %load_ext autoreload\n",
    "# %autoreload 2"
   ]
  },
  {
   "cell_type": "markdown",
   "metadata": {},
   "source": [
    "# Slow TS"
   ]
  },
  {
   "cell_type": "code",
   "execution_count": 6,
   "metadata": {},
   "outputs": [],
   "source": [
    "def make_slow_ts_runner(loader):\n",
    "    preprocessor = DecodePreprocessor(\n",
    "        thresh_empty=2,\n",
    "    )\n",
    "    spikes, states = loader()\n",
    "    spikes, states = preprocessor(spikes, states)\n",
    "    estimator = LGBMClassifier(n_estimators=50, max_depth=8, num_leaves=30)\n",
    "    cv = KFold(n_splits=5, shuffle=True)\n",
    "    decoder = Decoder(estimator=estimator, cv=cv, shuffler=shuffle_X)\n",
    "    runner = DecodeRunner(\n",
    "        loader=loader,\n",
    "        preprocessor=preprocessor,\n",
    "        decoder=decoder,\n",
    "        nboot=75,\n",
    "    )\n",
    "    return runner"
   ]
  },
  {
   "cell_type": "markdown",
   "metadata": {},
   "source": [
    "#### Loaders"
   ]
  },
  {
   "cell_type": "code",
   "execution_count": 10,
   "metadata": {},
   "outputs": [],
   "source": [
    "neuron_types = load_derived_generic(\"neuron_types.csv\").query(\"group in ('CIT', 'SAL')\")\n",
    "sessions = neuron_types.query(\"experiment_name == 'HAMILTON'\").session_name.unique().tolist()\n",
    "session = sessions[0]\n",
    "loader_post_shock = FSDecodeDataLoader(session_name=session)\n",
    "loader_shock_only = FSDecodeDataLoader(session_name=session, t_stop=600)\n"
   ]
  },
  {
   "cell_type": "markdown",
   "metadata": {},
   "source": [
    "#### Shock Only"
   ]
  },
  {
   "cell_type": "code",
   "execution_count": 11,
   "metadata": {},
   "outputs": [
    {
     "name": "stderr",
     "output_type": "stream",
     "text": [
      "100%|██████████| 75/75 [00:15<00:00,  4.89it/s]\n",
      "100%|██████████| 75/75 [00:11<00:00,  6.35it/s]\n",
      "100%|██████████| 75/75 [00:12<00:00,  5.85it/s]\n",
      "100%|██████████| 75/75 [00:11<00:00,  6.54it/s]\n",
      "100%|██████████| 75/75 [00:18<00:00,  4.15it/s]\n",
      "100%|██████████| 75/75 [00:15<00:00,  4.81it/s]\n",
      "100%|██████████| 75/75 [00:16<00:00,  4.63it/s]\n",
      "100%|██████████| 75/75 [00:16<00:00,  4.46it/s]\n",
      "100%|██████████| 75/75 [00:15<00:00,  4.70it/s]\n"
     ]
    }
   ],
   "source": [
    "runner_shock_only = make_slow_ts_runner(loader_shock_only)\n",
    "\n",
    "pop, unit = runner_shock_only.run_multiple(sessions)\n",
    "limit = runner_shock_only.run_multiple_limit(sessions=sessions, n_min=1, n_max=15)\n",
    "dropout = runner_shock_only.run_multiple_dropout(sessions=sessions, neuron_types=(\"SR\", \"SIR\", \"FF\"))\n",
    "\n",
    "\n",
    "dd = Config.derived_data_dir / \"decoding\"\n",
    "dd.mkdir(exist_ok=True)\n",
    "pop.to_csv(dd / \"fs_slow - shock only - pop.csv\", index=False)\n",
    "unit.to_csv(dd / \"fs_slow - shock only - unit.csv\", index=False)\n",
    "limit.to_csv(dd / \"fs_slow - shock only - limit.csv\", index=False)\n",
    "dropout.to_csv(dd / \"fs_slow - shock only - dropout.csv\", index=False)"
   ]
  },
  {
   "cell_type": "markdown",
   "metadata": {},
   "source": [
    "#### Post-included"
   ]
  },
  {
   "cell_type": "code",
   "execution_count": 25,
   "metadata": {},
   "outputs": [
    {
     "name": "stderr",
     "output_type": "stream",
     "text": [
      "100%|██████████| 75/75 [01:12<00:00,  1.04it/s]\n",
      "100%|██████████| 75/75 [01:14<00:00,  1.01it/s]\n",
      "100%|██████████| 75/75 [01:08<00:00,  1.10it/s]\n",
      "100%|██████████| 75/75 [01:00<00:00,  1.23it/s]\n",
      "100%|██████████| 75/75 [01:18<00:00,  1.05s/it]\n",
      "100%|██████████| 75/75 [01:16<00:00,  1.01s/it]\n",
      "100%|██████████| 75/75 [01:12<00:00,  1.03it/s]\n",
      "100%|██████████| 75/75 [01:20<00:00,  1.07s/it]\n",
      "100%|██████████| 75/75 [01:11<00:00,  1.05it/s]\n"
     ]
    },
    {
     "name": "stdout",
     "output_type": "stream",
     "text": [
      "Cannot have number of splits n_splits=5 greater than the number of samples: n_samples=0.\n"
     ]
    }
   ],
   "source": [
    "runner_post_shock = make_slow_ts_runner(loader_post_shock)\n",
    "\n",
    "pop, unit = runner_post_shock.run_multiple(sessions)\n",
    "limit = runner_post_shock.run_multiple_limit(sessions=sessions, n_min=1, n_max=15)\n",
    "dropout = runner_post_shock.run_multiple_dropout(sessions=sessions, neuron_types=(\"SR\", \"SIR\", \"FF\"))\n",
    "\n",
    "\n",
    "dd = Config.derived_data_dir / \"decoding\"\n",
    "dd.mkdir(exist_ok=True)\n",
    "pop.to_csv(dd / \"fs_slow - post-included - pop.csv\", index=False)\n",
    "unit.to_csv(dd / \"fs_slow - post-included - unit.csv\", index=False)\n",
    "limit.to_csv(dd / \"fs_slow - post-included - limit.csv\", index=False)\n",
    "dropout.to_csv(dd / \"fs_slow - post-included - dropout.csv\", index=False)"
   ]
  },
  {
   "cell_type": "markdown",
   "metadata": {},
   "source": [
    "#### Export"
   ]
  },
  {
   "cell_type": "code",
   "execution_count": 29,
   "metadata": {},
   "outputs": [],
   "source": [
    "from sklearn.decomposition import PCA, KernelPCA\n",
    "from sklearn.naive_bayes import GaussianNB\n",
    "from sklearn.neighbors import KNeighborsClassifier\n",
    "from sklearn.pipeline import make_pipeline\n",
    "from sklearn.preprocessing import MinMaxScaler, StandardScaler\n",
    "from sklearn.discriminant_analysis import LinearDiscriminantAnalysis\n",
    "from sklearn.preprocessing import PolynomialFeatures\n",
    "from sklearn.svm import SVC\n",
    "\n",
    "\n",
    "# sessions = ExperimentInfo.foot_shock_sessions_10min\n",
    "# session = sessions[0]\n",
    "loader = FSFastDecodeDataLoader(session_name=session, bin_width=0.1)\n",
    "preprocessor = DecodePreprocessor(\n",
    "    thresh_empty=1, \n",
    ")\n",
    "spikes, states = loader()\n",
    "spikes, states = preprocessor(spikes, states)\n",
    "\n",
    "estimator = LGBMClassifier(n_estimators=40, max_depth=8, num_leaves=30)\n",
    "estimator = make_pipeline(StandardScaler(), estimator)\n",
    "\n",
    "cv = KFold(n_splits=5, shuffle=True)\n",
    "decoder = Decoder(estimator=estimator, cv=cv, shuffler=shuffle_X)\n",
    "runner = DecodeRunner(\n",
    "    loader=loader,\n",
    "    preprocessor=preprocessor,\n",
    "    decoder=decoder,\n",
    "    nboot=75,\n",
    ")"
   ]
  },
  {
   "cell_type": "code",
   "execution_count": 30,
   "metadata": {},
   "outputs": [
    {
     "name": "stderr",
     "output_type": "stream",
     "text": [
      "100%|██████████| 75/75 [00:15<00:00,  4.84it/s]\n",
      "100%|██████████| 75/75 [00:15<00:00,  4.82it/s]\n",
      "100%|██████████| 75/75 [00:14<00:00,  5.04it/s]\n",
      "100%|██████████| 75/75 [00:09<00:00,  7.56it/s]\n",
      "100%|██████████| 75/75 [00:26<00:00,  2.85it/s]\n",
      "100%|██████████| 75/75 [00:19<00:00,  3.84it/s]\n",
      "100%|██████████| 75/75 [00:20<00:00,  3.60it/s]\n",
      "100%|██████████| 75/75 [00:20<00:00,  3.64it/s]\n",
      "100%|██████████| 75/75 [00:19<00:00,  3.79it/s]\n"
     ]
    },
    {
     "name": "stdout",
     "output_type": "stream",
     "text": [
      "Cannot have number of splits n_splits=5 greater than the number of samples: n_samples=1.\n"
     ]
    }
   ],
   "source": [
    "pop, unit = runner.run_multiple(sessions)\n",
    "limit = runner.run_multiple_limit(sessions=sessions, n_min=1, n_max=15)\n",
    "dropout = runner.run_multiple_dropout(sessions=sessions, neuron_types=(\"SR\", \"SIR\", \"FF\"))"
   ]
  },
  {
   "cell_type": "code",
   "execution_count": null,
   "metadata": {},
   "outputs": [],
   "source": [
    "pop.to_csv(dd / \"fs_fast - pop.csv\", index=False)\n",
    "unit.to_csv(dd / \"fs_fast - unit.csv\", index=False)\n",
    "limit.to_csv(dd / \"fs_fast - limit.csv\", index=False)\n",
    "dropout.to_csv(dd / \"fs_fast - dropout.csv\", index=False)"
   ]
  },
  {
   "cell_type": "code",
   "execution_count": null,
   "metadata": {},
   "outputs": [],
   "source": [
    "# SECOND WINDOW\n",
    "\n",
    "loader = FSFastDecodeDataLoader(session_name=session, bin_width=0.1)\n",
    "preprocessor = DecodePreprocessor(\n",
    "    thresh_empty=1, \n",
    ")\n",
    "spikes, states = loader()\n",
    "spikes, states = preprocessor(spikes, states)\n",
    "\n",
    "estimator = LGBMClassifier(n_estimators=40, max_depth=8, num_leaves=30)\n",
    "estimator = make_pipeline(StandardScaler(), estimator)\n",
    "\n",
    "cv = KFold(n_splits=5, shuffle=True)\n",
    "decoder = Decoder(estimator=estimator, cv=cv, shuffler=shuffle_X)\n",
    "runner = DecodeRunner(\n",
    "    loader=loader,\n",
    "    preprocessor=preprocessor,\n",
    "    decoder=decoder,\n",
    "    nboot=75,\n",
    ")"
   ]
  },
  {
   "cell_type": "code",
   "execution_count": null,
   "metadata": {},
   "outputs": [],
   "source": [
    "pop, unit = runner.run_multiple(sessions)\n",
    "limit = runner.run_multiple_limit(sessions=sessions, n_min=1, n_max=15)\n",
    "dropout = runner.run_multiple_dropout(sessions=sessions, neuron_types=(\"SR\", \"SIR\", \"FF\"))\n",
    "\n",
    "\n",
    "pop.to_csv(dd / \"fs_fast_second_window - pop.csv\", index=False)\n",
    "unit.to_csv(dd / \"fs_fast_second_window - unit.csv\", index=False)\n",
    "limit.to_csv(dd / \"fs_fast_second_window - limit.csv\", index=False)\n",
    "dropout.to_csv(dd / \"fs_fast_second_window - dropout.csv\", index=False)"
   ]
  },
  {
   "cell_type": "markdown",
   "metadata": {},
   "source": [
    "## Offset Decode\n"
   ]
  },
  {
   "cell_type": "code",
   "execution_count": null,
   "metadata": {},
   "outputs": [],
   "source": [
    "from ssri_interactions.transforms.nbox_transforms import align_to_data_by\n",
    "from spiketimes.df.surrogates import shuffled_isi_spiketrains_by\n",
    "from ssri_interactions.decoding.offset_decoder import OffsetDecoder\n",
    "from tqdm.notebook import tqdm\n",
    "import numpy as np\n",
    "\n",
    "\n",
    "def get_aligned(df_spikes, df_events,):\n",
    "    df = align_to_data_by(\n",
    "        df_spikes, \n",
    "        df_events,\n",
    "        time_before_event=0.5,\n",
    "        time_after_event=1.5,\n",
    "        df_data_cell_col=\"neuron_id\",\n",
    "        df_data_group_col=\"session_name\",\n",
    "        df_events_group_colname=\"session_name\",\n",
    "        df_events_timestamp_col=\"event_s\",\n",
    "        df_data_time_col=\"spiketimes\"\n",
    "    )\n",
    "    bins = np.arange(-0.5, 1.5, 0.1)\n",
    "    df[\"bin\"] = np.round(which_bin(df[\"aligned\"].values, bins), 2)\n",
    "    df = df.groupby([\"neuron_id\", \"event\", \"bin\"]).apply(len).to_frame(\"counts\").reset_index()\n",
    "    return df.pivot(index=[\"event\", \"bin\"], columns=\"neuron_id\", values=\"counts\").fillna(0)\n",
    "\n",
    "# USE PSTH CODE WITHOUT MERGING\n",
    "\n",
    "\n",
    "def offset_decode(df_spikes, df_events, sessions, estimator, cv, scoring=\"f1_macro\"):\n",
    "    neurons_sub = df_spikes[[\"neuron_id\", \"session_name\"]].drop_duplicates()\n",
    "    out = []\n",
    "    for session in tqdm(sessions):\n",
    "        shuffled = shuffled_isi_spiketrains_by(df_spikes, by_col=\"neuron_id\").merge(neurons_sub)\n",
    "        spikes_true = get_aligned(\n",
    "            df_spikes.query(f\"session_name == '{session}'\"),\n",
    "            df_events\n",
    "            )\n",
    "        spikes_fake = get_aligned(\n",
    "            shuffled.query(f\"session_name == '{session}'\"),\n",
    "            df_events\n",
    "        )\n",
    "        decoder = OffsetDecoder(estimator=clone(estimator), cv=cv, scoring=scoring)\n",
    "        res = decoder.fit_models([(spikes_true, spikes_fake)])\n",
    "        out.append(res.assign(session_name = session))\n",
    "    return out"
   ]
  }
 ],
 "metadata": {
  "kernelspec": {
   "display_name": "Python 3.8.13 ('ssri')",
   "language": "python",
   "name": "python3"
  },
  "language_info": {
   "codemirror_mode": {
    "name": "ipython",
    "version": 3
   },
   "file_extension": ".py",
   "mimetype": "text/x-python",
   "name": "python",
   "nbconvert_exporter": "python",
   "pygments_lexer": "ipython3",
   "version": "3.8.13"
  },
  "orig_nbformat": 4,
  "vscode": {
   "interpreter": {
    "hash": "998f3992552e3982958b29910ac62535f7791fb5d4d73f3260b206ed6ebaabc7"
   }
  }
 },
 "nbformat": 4,
 "nbformat_minor": 2
}

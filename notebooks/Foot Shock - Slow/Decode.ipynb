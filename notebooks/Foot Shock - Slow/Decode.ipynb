{
 "cells": [
  {
   "cell_type": "code",
   "execution_count": null,
   "metadata": {},
   "outputs": [],
   "source": [
    "from sklearn.model_selection import KFold\n",
    "from lightgbm import LGBMClassifier\n",
    "\n",
    "from ssri_interactions.io import load_derived_generic\n",
    "from ssri_interactions.config import ExperimentInfo, Config\n",
    "from ssri_interactions.decoding.loaders import FSDecodeDataLoader, FSFastDecodeDataLoader\n",
    "from ssri_interactions.decoding.preprocessors import DecodePreprocessor\n",
    "from ssri_interactions.decoding.runners import DecodeRunner\n",
    "from ssri_interactions.decoding.decoders import Decoder\n",
    "from ssri_interactions.decoding.shuffle import shuffle_X\n",
    "\n",
    "# %load_ext autoreload\n",
    "# %autoreload 2"
   ]
  },
  {
   "cell_type": "markdown",
   "metadata": {},
   "source": [
    "# Slow TS"
   ]
  },
  {
   "cell_type": "code",
   "execution_count": null,
   "metadata": {},
   "outputs": [],
   "source": [
    "def make_slow_ts_runner(loader):\n",
    "    preprocessor = DecodePreprocessor(\n",
    "        thresh_empty=2,\n",
    "    )\n",
    "    spikes, states = loader()\n",
    "    spikes, states = preprocessor(spikes, states)\n",
    "    estimator = LGBMClassifier(n_estimators=50, max_depth=8, num_leaves=30)\n",
    "    cv = KFold(n_splits=5, shuffle=True)\n",
    "    decoder = Decoder(estimator=estimator, cv=cv, shuffler=shuffle_X)\n",
    "    runner = DecodeRunner(\n",
    "        loader=loader,\n",
    "        preprocessor=preprocessor,\n",
    "        decoder=decoder,\n",
    "        nboot=75,\n",
    "    )\n",
    "    return runner"
   ]
  },
  {
   "cell_type": "markdown",
   "metadata": {},
   "source": [
    "#### Loaders"
   ]
  },
  {
   "cell_type": "code",
   "execution_count": null,
   "metadata": {},
   "outputs": [],
   "source": [
    "neuron_types = load_derived_generic(\"neuron_types.csv\").query(\"group in ('CIT', 'SAL')\")\n",
    "sessions = neuron_types.query(\"experiment_name == 'HAMILTON'\").session_name.unique().tolist()\n",
    "session = sessions[0]\n",
    "loader_post_shock = FSDecodeDataLoader(session_name=session)\n",
    "loader_shock_only = FSDecodeDataLoader(session_name=session, t_stop=600)\n"
   ]
  },
  {
   "cell_type": "markdown",
   "metadata": {},
   "source": [
    "#### Shock Only"
   ]
  },
  {
   "cell_type": "code",
   "execution_count": null,
   "metadata": {},
   "outputs": [],
   "source": [
    "runner_shock_only = make_slow_ts_runner(loader_shock_only)\n",
    "\n",
    "pop, unit = runner_shock_only.run_multiple(sessions)\n",
    "limit = runner_shock_only.run_multiple_limit(sessions=sessions, n_min=1, n_max=15)\n",
    "dropout = runner_shock_only.run_multiple_dropout(sessions=sessions, neuron_types=(\"SR\", \"SIR\", \"FF\"))\n",
    "\n",
    "\n",
    "dd = Config.derived_data_dir / \"decoding\"\n",
    "dd.mkdir(exist_ok=True)\n",
    "pop.to_csv(dd / \"fs_slow - shock only - pop.csv\", index=False)\n",
    "unit.to_csv(dd / \"fs_slow - shock only - unit.csv\", index=False)\n",
    "limit.to_csv(dd / \"fs_slow - shock only - limit.csv\", index=False)\n",
    "dropout.to_csv(dd / \"fs_slow - shock only - dropout.csv\", index=False)"
   ]
  },
  {
   "cell_type": "markdown",
   "metadata": {},
   "source": [
    "#### Post-included"
   ]
  },
  {
   "cell_type": "code",
   "execution_count": null,
   "metadata": {},
   "outputs": [],
   "source": [
    "runner_post_shock = make_slow_ts_runner(loader_post_shock)\n",
    "\n",
    "pop, unit = runner_post_shock.run_multiple(sessions)\n",
    "limit = runner_post_shock.run_multiple_limit(sessions=sessions, n_min=1, n_max=15)\n",
    "dropout = runner_post_shock.run_multiple_dropout(sessions=sessions, neuron_types=(\"SR\", \"SIR\", \"FF\"))\n",
    "\n",
    "\n",
    "dd = Config.derived_data_dir / \"decoding\"\n",
    "dd.mkdir(exist_ok=True)\n",
    "pop.to_csv(dd / \"fs_slow - post-included - pop.csv\", index=False)\n",
    "unit.to_csv(dd / \"fs_slow - post-included - unit.csv\", index=False)\n",
    "limit.to_csv(dd / \"fs_slow - post-included - limit.csv\", index=False)\n",
    "dropout.to_csv(dd / \"fs_slow - post-included - dropout.csv\", index=False)"
   ]
  },
  {
   "cell_type": "markdown",
   "metadata": {},
   "source": [
    "#### Export"
   ]
  },
  {
   "cell_type": "code",
   "execution_count": null,
   "metadata": {},
   "outputs": [],
   "source": [
    "from sklearn.decomposition import PCA, KernelPCA\n",
    "from sklearn.naive_bayes import GaussianNB\n",
    "from sklearn.neighbors import KNeighborsClassifier\n",
    "from sklearn.pipeline import make_pipeline\n",
    "from sklearn.preprocessing import MinMaxScaler, StandardScaler\n",
    "from sklearn.discriminant_analysis import LinearDiscriminantAnalysis\n",
    "from sklearn.preprocessing import PolynomialFeatures\n",
    "from sklearn.svm import SVC\n",
    "\n",
    "\n",
    "# sessions = ExperimentInfo.foot_shock_sessions_10min\n",
    "# session = sessions[0]\n",
    "loader = FSFastDecodeDataLoader(session_name=None, bin_width=0.1)\n",
    "preprocessor = DecodePreprocessor(\n",
    "    thresh_empty=1, \n",
    ")\n",
    "spikes, states = loader()\n",
    "spikes, states = preprocessor(spikes, states)\n",
    "\n",
    "estimator = LGBMClassifier(n_estimators=40, max_depth=8, num_leaves=30)\n",
    "estimator = make_pipeline(StandardScaler(), estimator)\n",
    "\n",
    "cv = KFold(n_splits=5, shuffle=True)\n",
    "decoder = Decoder(estimator=estimator, cv=cv, shuffler=shuffle_X)\n",
    "runner = DecodeRunner(\n",
    "    loader=loader,\n",
    "    preprocessor=preprocessor,\n",
    "    decoder=decoder,\n",
    "    nboot=75,\n",
    ")"
   ]
  },
  {
   "cell_type": "code",
   "execution_count": null,
   "metadata": {},
   "outputs": [],
   "source": [
    "pop, unit = runner.run_multiple(sessions)\n",
    "limit = runner.run_multiple_limit(sessions=sessions, n_min=1, n_max=15)\n",
    "dropout = runner.run_multiple_dropout(sessions=sessions, neuron_types=(\"SR\", \"SIR\", \"FF\"))"
   ]
  },
  {
   "cell_type": "code",
   "execution_count": null,
   "metadata": {},
   "outputs": [],
   "source": [
    "pop.to_csv(dd / \"fs_fast - pop.csv\", index=False)\n",
    "unit.to_csv(dd / \"fs_fast - unit.csv\", index=False)\n",
    "limit.to_csv(dd / \"fs_fast - limit.csv\", index=False)\n",
    "dropout.to_csv(dd / \"fs_fast - dropout.csv\", index=False)"
   ]
  },
  {
   "cell_type": "code",
   "execution_count": null,
   "metadata": {},
   "outputs": [],
   "source": [
    "# SECOND WINDOW\n",
    "\n",
    "\n",
    "from sklearn.decomposition import PCA, KernelPCA\n",
    "from sklearn.naive_bayes import GaussianNB\n",
    "from sklearn.neighbors import KNeighborsClassifier\n",
    "from sklearn.pipeline import make_pipeline\n",
    "from sklearn.preprocessing import MinMaxScaler, StandardScaler\n",
    "from sklearn.discriminant_analysis import LinearDiscriminantAnalysis\n",
    "from sklearn.preprocessing import PolynomialFeatures\n",
    "from sklearn.svm import SVC\n",
    "import numpy as np\n",
    "import pandas as pd\n",
    "import seaborn as sns\n",
    "\n",
    "\n",
    "def make_fast_ts_runner(window, bin_width=0.1):\n",
    "    loader = FSFastDecodeDataLoader(session_name=None, bin_width=bin_width, window=window)\n",
    "    preprocessor = DecodePreprocessor(\n",
    "        thresh_empty=1, \n",
    "    )\n",
    "    spikes, states = loader()\n",
    "    spikes, states = preprocessor(spikes, states)\n",
    "    estimator = LGBMClassifier(n_estimators=40, max_depth=8, num_leaves=30)\n",
    "    cv = KFold(n_splits=5, shuffle=True)\n",
    "    decoder = Decoder(estimator=estimator, cv=cv, shuffler=shuffle_X)\n",
    "    runner = DecodeRunner(\n",
    "        loader=loader,\n",
    "        preprocessor=preprocessor,\n",
    "        decoder=decoder,\n",
    "        nboot=75,\n",
    "    )\n",
    "    return runner\n",
    "\n",
    "def make_windows(window_size=0.2, t_start=-0.5, t_stop=2):\n",
    "    window_starts = np.arange(t_start, t_stop, window_size)\n",
    "    windows = [(round(start, 4), round(start + window_size, 4)) for start in window_starts]\n",
    "    return windows\n",
    "\n",
    "\n",
    "neuron_types = load_derived_generic(\"neuron_types.csv\")\n",
    "sessions = neuron_types.query(\"experiment_name == 'HAMILTON' and group in ('SAL', 'CIT')\").session_name.unique().tolist()\n",
    "\n",
    "\n",
    "pop_res = []\n",
    "unit_res = []\n",
    "windows = make_windows(window_size=0.1, t_start=-0.5, t_stop=1.5)\n",
    "for window in windows:\n",
    "    print(window)\n",
    "    runner = make_fast_ts_runner(window, bin_width=0.1)\n",
    "    pop, unit = runner.run_multiple(sessions)\n",
    "    pop_res.append(pop.assign(window=f\"{window[0]} - {window[1]}\", window_start=window[0], window_stop=window[1]))\n",
    "    unit_res.append(unit.assign(window=f\"{window[0]} - {window[1]}\", window_start=window[0], window_stop=window[1]))\n",
    "\n"
   ]
  },
  {
   "cell_type": "code",
   "execution_count": null,
   "metadata": {},
   "outputs": [],
   "source": [
    "dd = Config.derived_data_dir / \"decoding\"\n",
    "dd.mkdir(exist_ok=True)\n",
    "\n",
    "df_pop_window = (\n",
    "    pd.concat(pop_res)\n",
    "    .assign(window_start = lambda x: (x.window_start.astype(float) + 0.1).round(3))\n",
    ")\n",
    "df_unit_window = (\n",
    "    pd.concat(unit_res)\n",
    "    .assign(window_start = lambda x: (x.window_start.astype(float) + 0.1).round(3))\n",
    ")\n",
    "\n",
    "\n",
    "df_pop_window.to_csv(dd / \"fs_fast - pop - windows.csv\", index=False)\n",
    "df_unit_window.to_csv(dd / \"fs_fast - unit - windows.csv\", index=False)"
   ]
  },
  {
   "cell_type": "code",
   "execution_count": null,
   "metadata": {},
   "outputs": [],
   "source": [
    "import matplotlib.pyplot as plt\n",
    "from ssri_interactions.plots import PAL_GREY_BLACK\n",
    "\n",
    "f = plt.figure(figsize=(5.5, 1))\n",
    "ax_line = f.subplots()\n",
    "(\n",
    "    pd.concat(pop_res)\n",
    "    .assign(window_start = lambda x: (x.window_start.astype(float) + 0.1).round(3))\n",
    "    .merge(neuron_types[[\"session_name\", \"group\"]].drop_duplicates())\n",
    "    .query(\"group in ('SAL', 'CIT')\")\n",
    "    .pipe(\n",
    "        lambda x: \n",
    "            sns.pointplot(\n",
    "                data=x, \n",
    "                x=\"window_start\", \n",
    "                y=\"pop_true\", \n",
    "                hue=\"group\", \n",
    "                estimator=np.mean,\n",
    "                palette=PAL_GREY_BLACK[::-1],\n",
    "                ax=ax_line,\n",
    "                dodge=True,\n",
    "                scale=0.55,\n",
    "                errwidth=1.5\n",
    "                )\n",
    "        )\n",
    ")\n",
    "\n",
    "\n",
    "ax_line.set_ylabel(\"Decoding\\nPerformance\\n(F1 Score)\")\n",
    "ax_line.set_xlabel(\"Time Relative to Shock (s)\")\n",
    "ax_line.axhline(0.5, color=\"grey\", linewidth=0.5, linestyle=\"--\")\n",
    "ax_line.axhline(1, color=\"grey\", linewidth=0.5, linestyle=\"--\")\n",
    "f.subplots_adjust(wspace=1, hspace=1.4)\n",
    "sns.despine(ax=ax_line, offset=5)\n",
    "ax_line.legend_.remove()\n",
    "ax_line.set_ylim(0.45, 0.9)\n",
    "ax_line.set_xticks(ax_line.get_xticks()[::2])\n",
    "ax_line.set_xlim(0, 15)\n",
    "plt.show()\n",
    "\n"
   ]
  },
  {
   "cell_type": "markdown",
   "metadata": {},
   "source": [
    "## Offset Decode\n"
   ]
  },
  {
   "cell_type": "code",
   "execution_count": null,
   "metadata": {},
   "outputs": [],
   "source": [
    "from ssri_interactions.transforms.nbox_transforms import align_to_data_by\n",
    "from ssri_interactions.decoding.offset_decoder import OffsetDecoder\n",
    "from ssri_interactions.io import load_spikes, load_events\n",
    "from ssri_interactions.transforms import SpikesHandler\n",
    "from spiketimes.df.surrogates import shuffled_isi_spiketrains_by\n",
    "from binit.bin import which_bin\n",
    "from sklearn.base import clone\n",
    "from tqdm import tqdm\n",
    "import numpy as np\n",
    "\n",
    "def get_aligned(df_spikes, df_events,):\n",
    "    df = align_to_data_by(\n",
    "        df_spikes, \n",
    "        df_events,\n",
    "        time_before_event=0.5,\n",
    "        time_after_event=1.5,\n",
    "        df_data_group_col=\"session_name\",\n",
    "        df_events_group_colname=\"session_name\",\n",
    "        df_events_timestamp_col=\"event_s\",\n",
    "        df_data_time_col=\"spiketimes\"\n",
    "    )\n",
    "    bins = np.arange(-0.5, 1.5, 0.1)\n",
    "    df[\"bin\"] = np.round(which_bin(df[\"aligned\"].values, bins), 2)\n",
    "    df = df.groupby([\"neuron_id\", \"event\", \"bin\"]).apply(len).to_frame(\"counts\").reset_index()\n",
    "    return df.pivot(index=[\"event\", \"bin\"], columns=\"neuron_id\", values=\"counts\").fillna(0)\n",
    "\n",
    "# USE PSTH CODE WITHOUT MERGING\n",
    "\n",
    "\n",
    "def offset_decode(df_spikes, df_events, sessions, estimator, cv, scoring=\"f1_macro\"):\n",
    "    neurons_sub = df_spikes[[\"neuron_id\", \"session_name\"]].drop_duplicates()\n",
    "    out = []\n",
    "    for session in tqdm(sessions):\n",
    "        shuffled = shuffled_isi_spiketrains_by(df_spikes, by_col=\"neuron_id\").merge(neurons_sub)\n",
    "        spikes_true = get_aligned(\n",
    "            df_spikes.query(f\"session_name == '{session}'\"),\n",
    "            df_events\n",
    "            )\n",
    "        spikes_fake = get_aligned(\n",
    "            shuffled.query(f\"session_name == '{session}'\"),\n",
    "            df_events\n",
    "        )\n",
    "        decoder = OffsetDecoder(estimator=clone(estimator), cv=cv, scoring=scoring)\n",
    "        res = decoder.fit_models([(spikes_true, spikes_fake)])\n",
    "        out.append(res.assign(session_name = session))\n",
    "    return out\n",
    "\n",
    "\n"
   ]
  },
  {
   "cell_type": "code",
   "execution_count": null,
   "metadata": {},
   "outputs": [],
   "source": [
    "neuron_types = load_derived_generic(\"neuron_types.csv\")\n",
    "sessions = neuron_types.query(\"experiment_name == 'HAMILTON'\").session_name.unique().tolist()\n",
    "df_spikes = SpikesHandler(block=\"base_shock\", bin_width=0.1, session_names=sessions).spikes\n",
    "df_events = load_events(block_name=\"base_shock\")\n",
    "estimator = LGBMClassifier(n_estimators=40, max_depth=8, num_leaves=30)\n",
    "\n",
    "cv = KFold(n_splits=5, shuffle=True)\n",
    "\n",
    "df_offset = offset_decode(\n",
    "    df_spikes=df_spikes, \n",
    "    df_events=df_events, \n",
    "    sessions=sessions, \n",
    "    estimator=estimator, \n",
    "    cv=cv\n",
    "    )\n"
   ]
  },
  {
   "cell_type": "code",
   "execution_count": null,
   "metadata": {},
   "outputs": [],
   "source": [
    "import seaborn as sns\n",
    "df_res = pd.concat(df_offset)\n",
    "\n",
    "(\n",
    "    df_res\n",
    "    .merge(neuron_types[[\"session_name\", \"group\"]].drop_duplicates())\n",
    "    .query(\"group in ('SAL', 'CIT')\")\n",
    "    .pipe(lambda x: sns.catplot(data=x, x=\"offset\", y=\"f1score\", hue=\"group\", kind=\"point\"))\n",
    ")\n",
    "plt.show()"
   ]
  },
  {
   "cell_type": "code",
   "execution_count": null,
   "metadata": {},
   "outputs": [],
   "source": [
    "df_res = pd.concat(df_offset)\n",
    "df_res.to_csv(\n",
    "    dd / \"fs_fast - offset - decoding.csv\",\n",
    ")"
   ]
  },
  {
   "cell_type": "code",
   "execution_count": null,
   "metadata": {},
   "outputs": [],
   "source": [
    "df_res"
   ]
  },
  {
   "cell_type": "code",
   "execution_count": null,
   "metadata": {},
   "outputs": [],
   "source": []
  }
 ],
 "metadata": {
  "kernelspec": {
   "display_name": "Python 3.9.12 ('ssri')",
   "language": "python",
   "name": "python3"
  },
  "language_info": {
   "codemirror_mode": {
    "name": "ipython",
    "version": 3
   },
   "file_extension": ".py",
   "mimetype": "text/x-python",
   "name": "python",
   "nbconvert_exporter": "python",
   "pygments_lexer": "ipython3",
   "version": "3.9.12"
  },
  "orig_nbformat": 4,
  "vscode": {
   "interpreter": {
    "hash": "43cbdb6d61dab472ca36965b8e063b8466d44641e4bc0dd430fcfe888de07997"
   }
  }
 },
 "nbformat": 4,
 "nbformat_minor": 2
}

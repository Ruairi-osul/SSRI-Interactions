{
 "cells": [
  {
   "cell_type": "code",
   "execution_count": 2,
   "metadata": {},
   "outputs": [],
   "source": [
    "from sklearn.model_selection import KFold\n",
    "from lightgbm import LGBMRegressor\n",
    "from sklearn.compose import make_column_transformer, make_column_selector, TransformedTargetRegressor\n",
    "from sklearn.preprocessing import OneHotEncoder\n",
    "from sklearn.pipeline import make_pipeline\n",
    "from sklearn.preprocessing import StandardScaler, OneHotEncoder\n",
    "from sklearn.model_selection import KFold\n",
    "\n",
    "\n",
    "from ssri_interactions.config import ExperimentInfo, Config\n",
    "from ssri_interactions.io import load_derived_generic\n",
    "from ssri_interactions.decoding.loaders import FSDecodeDataLoader, FSFastDecodeDataLoader\n",
    "from ssri_interactions.decoding.preprocessors import DecodePreprocessor\n",
    "from ssri_interactions.decoding.encoders import StateEncoder\n",
    "from ssri_interactions.decoding.runners import EncodeRunner\n",
    "from ssri_interactions.decoding.shuffle import shuffle_X"
   ]
  },
  {
   "cell_type": "code",
   "execution_count": 3,
   "metadata": {},
   "outputs": [],
   "source": [
    "neuron_types = load_derived_generic(\"neuron_types.csv\").query(\"group in ('CIT', 'SAL')\")\n",
    "sessions = neuron_types.query(\"experiment_name == 'HAMILTON'\").session_name.unique().tolist()\n",
    "session = sessions[0]\n",
    "loader = FSDecodeDataLoader(session_name=session)\n",
    "preprocessor = DecodePreprocessor(\n",
    "    thresh_empty=2,\n",
    ")\n",
    "spikes, states = loader()\n",
    "spikes, states = preprocessor(spikes, states)\n",
    "\n",
    "ct = make_column_transformer(\n",
    "    (\n",
    "        StandardScaler(),\n",
    "        make_column_selector(dtype_exclude=object)\n",
    "    ),  \n",
    "    (\n",
    "        OneHotEncoder(drop=\"if_binary\"),\n",
    "        make_column_selector(dtype_include=object)\n",
    "    ), \n",
    ")\n",
    "\n",
    "estimator = make_pipeline(ct, \n",
    "    LGBMRegressor(\n",
    "        n_estimators=20, \n",
    "        n_jobs=-1, \n",
    "        force_row_wise=True,\n",
    "        reg_lambda=0.8,\n",
    "        )\n",
    ")\n",
    "\n",
    "estimator = TransformedTargetRegressor(estimator, transformer=StandardScaler())\n",
    "cv = KFold(shuffle=True)\n",
    "encoder = StateEncoder(estimator=estimator, cv=cv, verbose=True)\n",
    "runner = EncodeRunner(\n",
    "    loader=loader,\n",
    "    preprocessor=preprocessor,\n",
    "    encoder=encoder,\n",
    ")"
   ]
  },
  {
   "cell_type": "code",
   "execution_count": 6,
   "metadata": {},
   "outputs": [
    {
     "name": "stderr",
     "output_type": "stream",
     "text": [
      "100%|██████████| 17/17 [03:19<00:00, 11.75s/it]\n",
      "100%|██████████| 19/19 [04:17<00:00, 13.53s/it]\n",
      "100%|██████████| 20/20 [04:31<00:00, 13.59s/it]\n",
      "100%|██████████| 10/10 [00:56<00:00,  5.61s/it]\n",
      "100%|██████████| 84/84 [1:57:44<00:00, 84.10s/it]   \n",
      "100%|██████████| 56/56 [33:23<00:00, 35.77s/it]\n",
      "100%|██████████| 61/61 [1:14:57<00:00, 73.73s/it] \n",
      "100%|██████████| 55/55 [30:21<00:00, 33.11s/it]\n",
      "100%|██████████| 52/52 [24:55<00:00, 28.76s/it]\n",
      "100%|██████████| 3/3 [00:49<00:00, 16.61s/it]\n",
      "100%|██████████| 3/3 [00:52<00:00, 17.39s/it]\n",
      "100%|██████████| 3/3 [00:53<00:00, 17.68s/it]\n",
      "100%|██████████| 3/3 [00:25<00:00,  8.57s/it]\n",
      "100%|██████████| 3/3 [04:05<00:00, 81.73s/it]\n",
      "100%|██████████| 3/3 [02:14<00:00, 44.86s/it]\n",
      "100%|██████████| 3/3 [02:45<00:00, 55.30s/it]\n",
      "100%|██████████| 3/3 [05:29<00:00, 109.88s/it]\n",
      "100%|██████████| 3/3 [02:32<00:00, 50.92s/it]\n"
     ]
    }
   ],
   "source": [
    "pop = runner.run_multiple_pop(sessions=sessions)\n",
    "pop_shuffle = runner.run_multiple_pop(sessions=sessions, shuffle=True)\n",
    "state = runner.run_multiple_state(sessions=sessions)\n",
    "state_shuffle = runner.run_multiple_state(sessions=sessions, shuffle=True)\n",
    "limit = runner.run_multiple_limit(sessions=sessions, min_features=1, max_features=15)\n",
    "dropout = runner.run_multiple_dropout(sessions=sessions)"
   ]
  },
  {
   "cell_type": "code",
   "execution_count": 7,
   "metadata": {},
   "outputs": [],
   "source": [
    "dd = Config.derived_data_dir / \"encoding\"\n",
    "dd.mkdir(exist_ok=True)\n",
    "# pop.to_csv(dd / \"fs_slow - pop.csv\", index=False)\n",
    "# pop_shuffle.to_csv(dd / \"fs_slow - pop shuffle.csv\", index=False)\n",
    "# state.to_csv(dd / \"fs_slow - state.csv\", index=False)\n",
    "# state_shuffle.to_csv(dd / \"fs_slow - state shuffle.csv\", index=False)\n",
    "limit.to_csv(dd / \"fs_slow - limit.csv\", index=False)\n",
    "dropout.to_csv(dd / \"fs_slow - dropout.csv\", index=False)\n",
    "    "
   ]
  },
  {
   "cell_type": "code",
   "execution_count": 8,
   "metadata": {},
   "outputs": [],
   "source": [
    "loader = FSFastDecodeDataLoader(session_name=session)\n",
    "preprocessor = DecodePreprocessor(\n",
    "    thresh_empty=2,\n",
    ")\n",
    "spikes, states = loader()\n",
    "spikes, states = preprocessor(spikes, states)\n",
    "\n",
    "ct = make_column_transformer(\n",
    "    (\n",
    "        StandardScaler(),\n",
    "        make_column_selector(dtype_exclude=object)\n",
    "    ),  \n",
    "    (\n",
    "        OneHotEncoder(drop=\"if_binary\"),\n",
    "        make_column_selector(dtype_include=object)\n",
    "    ), \n",
    ")\n",
    "\n",
    "estimator = make_pipeline(ct, \n",
    "    LGBMRegressor(\n",
    "        n_estimators=20, \n",
    "        n_jobs=-1, \n",
    "        force_row_wise=True,\n",
    "        reg_lambda=0.8,\n",
    "        )\n",
    ")\n",
    "\n",
    "estimator = TransformedTargetRegressor(estimator, transformer=StandardScaler())\n",
    "cv = KFold(shuffle=True)\n",
    "encoder = StateEncoder(estimator=estimator, cv=cv, verbose=True)\n",
    "runner = EncodeRunner(\n",
    "    loader=loader,\n",
    "    preprocessor=preprocessor,\n",
    "    encoder=encoder,\n",
    ")"
   ]
  },
  {
   "cell_type": "code",
   "execution_count": 9,
   "metadata": {},
   "outputs": [
    {
     "name": "stderr",
     "output_type": "stream",
     "text": [
      "100%|██████████| 17/17 [00:17<00:00,  1.05s/it]\n",
      "100%|██████████| 19/19 [00:16<00:00,  1.17it/s]\n",
      "100%|██████████| 20/20 [00:20<00:00,  1.00s/it]\n",
      "100%|██████████| 10/10 [00:01<00:00,  5.90it/s]\n",
      "100%|██████████| 84/84 [02:05<00:00,  1.50s/it]\n",
      "100%|██████████| 56/56 [01:25<00:00,  1.53s/it]\n",
      "100%|██████████| 61/61 [01:19<00:00,  1.31s/it]\n",
      "100%|██████████| 55/55 [01:18<00:00,  1.42s/it]\n",
      "100%|██████████| 52/52 [00:59<00:00,  1.14s/it]\n",
      "100%|██████████| 17/17 [00:16<00:00,  1.02it/s]\n",
      "100%|██████████| 19/19 [00:16<00:00,  1.15it/s]\n",
      "100%|██████████| 20/20 [00:20<00:00,  1.03s/it]\n",
      "100%|██████████| 10/10 [00:01<00:00,  5.84it/s]\n",
      "100%|██████████| 84/84 [01:50<00:00,  1.32s/it]\n",
      "100%|██████████| 56/56 [01:17<00:00,  1.38s/it]\n",
      "100%|██████████| 61/61 [01:23<00:00,  1.37s/it]\n",
      "100%|██████████| 55/55 [01:18<00:00,  1.43s/it]\n",
      "100%|██████████| 52/52 [00:59<00:00,  1.15s/it]\n",
      "100%|██████████| 17/17 [00:01<00:00,  8.53it/s]\n",
      "100%|██████████| 19/19 [00:02<00:00,  8.95it/s]\n",
      "100%|██████████| 20/20 [00:04<00:00,  4.72it/s]\n",
      "100%|██████████| 10/10 [00:02<00:00,  4.12it/s]\n",
      "100%|██████████| 84/84 [00:15<00:00,  5.46it/s]\n",
      "100%|██████████| 56/56 [00:11<00:00,  4.72it/s]\n",
      "100%|██████████| 61/61 [00:11<00:00,  5.15it/s]\n",
      "100%|██████████| 55/55 [00:12<00:00,  4.41it/s]\n",
      "100%|██████████| 52/52 [00:08<00:00,  5.88it/s]\n",
      "100%|██████████| 17/17 [00:02<00:00,  6.48it/s]\n",
      "100%|██████████| 19/19 [00:02<00:00,  6.88it/s]\n",
      "100%|██████████| 20/20 [00:03<00:00,  6.34it/s]\n",
      "100%|██████████| 10/10 [00:01<00:00,  9.17it/s]\n",
      "100%|██████████| 84/84 [00:15<00:00,  5.36it/s]\n",
      "100%|██████████| 56/56 [00:12<00:00,  4.55it/s]\n",
      "100%|██████████| 61/61 [00:11<00:00,  5.11it/s]\n",
      "100%|██████████| 55/55 [00:12<00:00,  4.26it/s]\n",
      "100%|██████████| 52/52 [00:08<00:00,  5.98it/s]\n",
      "100%|██████████| 17/17 [04:06<00:00, 14.48s/it]\n",
      "100%|██████████| 19/19 [03:20<00:00, 10.54s/it]\n",
      "100%|██████████| 20/20 [04:53<00:00, 14.70s/it]\n",
      "100%|██████████| 10/10 [00:16<00:00,  1.68s/it]\n",
      "100%|██████████| 84/84 [34:05<00:00, 24.35s/it]\n",
      "100%|██████████| 56/56 [25:56<00:00, 27.79s/it]\n",
      "100%|██████████| 61/61 [27:31<00:00, 27.07s/it]\n",
      "100%|██████████| 55/55 [2:23:51<00:00, 156.93s/it]  \n",
      "100%|██████████| 52/52 [17:44<00:00, 20.47s/it]\n",
      "100%|██████████| 3/3 [00:37<00:00, 12.42s/it]\n",
      "100%|██████████| 3/3 [00:28<00:00,  9.65s/it]\n",
      "100%|██████████| 3/3 [00:43<00:00, 14.64s/it]\n",
      "100%|██████████| 3/3 [00:03<00:00,  1.18s/it]\n",
      "100%|██████████| 3/3 [04:11<00:00, 83.91s/it]\n",
      "100%|██████████| 3/3 [02:47<00:00, 55.93s/it]\n",
      "100%|██████████| 3/3 [02:47<00:00, 55.73s/it]\n",
      "100%|██████████| 3/3 [02:47<00:00, 55.96s/it]\n",
      "100%|██████████| 3/3 [02:08<00:00, 42.79s/it]\n"
     ]
    }
   ],
   "source": [
    "pop = runner.run_multiple_pop(sessions=sessions)\n",
    "pop_shuffle = runner.run_multiple_pop(sessions=sessions, shuffle=True)\n",
    "state = runner.run_multiple_state(sessions=sessions)\n",
    "state_shuffle = runner.run_multiple_state(sessions=sessions, shuffle=True)\n",
    "limit = runner.run_multiple_limit(sessions=sessions, min_features=1, max_features=15)\n",
    "dropout = runner.run_multiple_dropout(sessions=sessions)"
   ]
  },
  {
   "cell_type": "code",
   "execution_count": 10,
   "metadata": {},
   "outputs": [],
   "source": [
    "dd = Config.derived_data_dir / \"encoding\"\n",
    "dd.mkdir(exist_ok=True)\n",
    "pop.to_csv(dd / \"fs_fast - pop.csv\", index=False)\n",
    "state.to_csv(dd / \"fs_fast - state.csv\", index=False)\n",
    "limit.to_csv(dd / \"fs_fast - limit.csv\", index=False)\n",
    "dropout.to_csv(dd / \"fs_fast - dropout.csv\", index=False)\n",
    "    "
   ]
  },
  {
   "cell_type": "code",
   "execution_count": null,
   "metadata": {},
   "outputs": [],
   "source": []
  }
 ],
 "metadata": {
  "kernelspec": {
   "display_name": "Python 3.8.13 ('ssri')",
   "language": "python",
   "name": "python3"
  },
  "language_info": {
   "codemirror_mode": {
    "name": "ipython",
    "version": 3
   },
   "file_extension": ".py",
   "mimetype": "text/x-python",
   "name": "python",
   "nbconvert_exporter": "python",
   "pygments_lexer": "ipython3",
   "version": "3.8.13"
  },
  "orig_nbformat": 4,
  "vscode": {
   "interpreter": {
    "hash": "998f3992552e3982958b29910ac62535f7791fb5d4d73f3260b206ed6ebaabc7"
   }
  }
 },
 "nbformat": 4,
 "nbformat_minor": 2
}

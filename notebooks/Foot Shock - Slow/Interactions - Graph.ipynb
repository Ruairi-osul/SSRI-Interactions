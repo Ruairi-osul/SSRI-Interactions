{
 "cells": [
  {
   "cell_type": "code",
   "execution_count": 1,
   "metadata": {},
   "outputs": [
    {
     "name": "stderr",
     "output_type": "stream",
     "text": [
      "c:\\Users\\roryl\\.conda\\envs\\drn38\\lib\\site-packages\\scipy\\__init__.py:146: UserWarning: A NumPy version >=1.16.5 and <1.23.0 is required for this version of SciPy (detected version 1.23.1\n",
      "  warnings.warn(f\"A NumPy version >={np_minversion} and <{np_maxversion}\"\n",
      "c:\\Users\\roryl\\.conda\\envs\\drn38\\lib\\site-packages\\outdated\\utils.py:14: OutdatedPackageWarning: The package pingouin is out of date. Your version is 0.5.1, the latest is 0.5.2.\n",
      "Set the environment variable OUTDATED_IGNORE=1 to disable these warnings.\n",
      "  return warn(\n"
     ]
    }
   ],
   "source": [
    "from drn_interactions.interactions.loaders import BaseShockSlowInteractionsLoader\n",
    "from drn_interactions.interactions.preprocessors import InteractionsPreprocessor\n",
    "from drn_interactions.interactions.pairwise import PairwiseCorr\n",
    "from drn_interactions.interactions.graph_clustering import df_to_graph\n",
    "from drn_interactions.config import Config, ExperimentInfo\n",
    "import numpy as np\n",
    "from drn_interactions.interactions.graph import GraphAttributes, NodeAttributes\n",
    "import pandas as pd\n",
    "import seaborn as sns\n",
    "from drn_interactions.io import load_derived_generic, load_distances\n",
    "from drn_interactions.transforms.graph import GraphTransformer\n",
    "import matplotlib.pyplot as plt\n",
    "from drn_interactions.plots import PAL_GREY_BLACK\n",
    "from scipy.stats import chi2_contingency\n",
    "from tqdm import tqdm\n",
    "from scipy.stats import wilcoxon\n",
    "from drn_interactions.stats import mannwhitneyu_plusplus\n",
    "import pingouin as pg\n",
    "from scipy.stats import spearmanr\n",
    "\n",
    "fig_dir = Config.fig_dir\n",
    "sns.set_theme(style=\"ticks\", context=\"paper\")"
   ]
  },
  {
   "cell_type": "code",
   "execution_count": 2,
   "metadata": {},
   "outputs": [],
   "source": [
    "def load_responders():\n",
    "    slow_responders_shock = load_derived_generic(\n",
    "        \"slow_ts_foot_shock_unit_responders_pre_to_shock.csv\"\n",
    "    )[[\"neuron_id\", \"diff_inv\", \"sig\"]].assign(\n",
    "        response_fs_slow=lambda x: np.where(\n",
    "            x[\"sig\"] == False,\n",
    "            \"no_response\",\n",
    "            np.where(x[\"diff_inv\"] < 0, \"inhibited\", \"activated\"),\n",
    "        )\n",
    "    )[[\"neuron_id\", \"response_fs_slow\"]]\n",
    "\n",
    "    fast_responders = load_derived_generic(\"fast_fs_foot_shock_unit_responders.csv\")[\n",
    "        [\"neuron_id\", \"Diff\", \"sig\"]\n",
    "    ].assign(\n",
    "        response_fs_fast=lambda x: np.where(\n",
    "            x[\"sig\"] == False,\n",
    "            \"no_response\",\n",
    "            np.where(x[\"Diff\"] < 0, \"inhibited\", \"activated\"),\n",
    "        )\n",
    "    )[[\"neuron_id\", \"response_fs_fast\"]]\n",
    "    df_responders = pd.merge(slow_responders_shock, fast_responders, on=\"neuron_id\", how=\"outer\")\n",
    "    return df_responders\n",
    "    "
   ]
  },
  {
   "cell_type": "code",
   "execution_count": 4,
   "metadata": {},
   "outputs": [
    {
     "name": "stderr",
     "output_type": "stream",
     "text": [
      "100%|██████████| 4/4 [00:31<00:00,  7.84s/it]\n"
     ]
    }
   ],
   "source": [
    "sessions = ExperimentInfo.foot_shock_sessions_10min\n",
    "neuron_types = load_derived_generic(\"neuron_types.csv\")[\n",
    "    [\"neuron_id\", \"neuron_type\", \"session_name\"]\n",
    "]\n",
    "df_distance = load_distances()\n",
    "df_ensembles = load_derived_generic(\"ensembles/fs - ensembles.csv\").drop_duplicates()\n",
    "df_ensembles[\"in_ensemble\"] = np.where(df_ensembles[\"ensemble_id\"] != \"-1\", True, False)\n",
    "df_responders = load_responders()\n",
    "\n",
    "graph_attrs = GraphAttributes()\n",
    "node_attrs = NodeAttributes()\n",
    "\n",
    "graph_dfs = []\n",
    "node_dfs = []\n",
    "edge_dfs = []\n",
    "\n",
    "for bin_width in tqdm((0.05, 0.1, 0.5, 1)):\n",
    "    for block in (\"pre\", \"base_shock\"):\n",
    "        g_transformer = GraphTransformer(\n",
    "            relabel_nodes=True,\n",
    "            weight_attr=\"weight\",\n",
    "            neuron_types=neuron_types,\n",
    "            df_distance=df_distance,\n",
    "            df_ensemble=df_ensembles.loc[\n",
    "                (df_ensembles[\"block\"] == block)\n",
    "                & (df_ensembles[\"bin_width\"] == bin_width)\n",
    "            ],\n",
    "        )\n",
    "        for session in sessions:\n",
    "            loader = BaseShockSlowInteractionsLoader(\n",
    "                session_name=session,\n",
    "                bin_width=bin_width,\n",
    "                block=block,\n",
    "            )\n",
    "            preprocessor = InteractionsPreprocessor()\n",
    "            pairwise = PairwiseCorr(rectify=True, shuffle=False)\n",
    "\n",
    "            spikes = preprocessor(loader())\n",
    "            df_affinity = (\n",
    "                pairwise.fit(spikes)\n",
    "                .get_adjacency_df()\n",
    "                .dropna(axis=1, thresh=5)\n",
    "                .dropna(axis=0, thresh=5)\n",
    "            )\n",
    "            G = df_to_graph(df_affinity, rename_nodes=True)\n",
    "\n",
    "            graph_stats = graph_attrs.get_graph_attributes(G)\n",
    "            node_stats = node_attrs.get_node_attributes(G, node_name=\"neuron_id\")\n",
    "            edge_stats = g_transformer.graph_to_edge_df(G)\n",
    "\n",
    "            graph_dfs.append(\n",
    "                graph_stats.assign(session=session, block=block, bin_width=bin_width)\n",
    "            )\n",
    "            node_dfs.append(\n",
    "                node_stats.assign(session=session, block=block, bin_width=bin_width)\n",
    "            )\n",
    "            edge_dfs.append(\n",
    "                edge_stats.assign(session=session, block=block, bin_width=bin_width)\n",
    "            )\n",
    "\n",
    "df_graph = pd.concat(graph_dfs).reset_index(drop=True)\n",
    "df_edge = pd.concat(edge_dfs).reset_index(drop=True)\n",
    "df_node = (\n",
    "    pd.concat(node_dfs)\n",
    "    .reset_index(drop=True)\n",
    "    .merge(neuron_types[[\"neuron_id\", \"neuron_type\"]], how=\"left\")\n",
    ").drop_duplicates()\n",
    "df_node = df_node.merge(\n",
    "    df_ensembles[\n",
    "        [\n",
    "            \"neuron_id\",\n",
    "            \"in_ensemble\",\n",
    "            \"block\",\n",
    "            \"bin_width\",\n",
    "        ]\n",
    "    ],\n",
    "    on=[\"neuron_id\", \"block\", \"bin_width\"],\n",
    "    how=\"left\",\n",
    ").drop_duplicates()\n",
    "df_node = df_node.merge(df_responders, on=\"neuron_id\", how=\"left\")\n"
   ]
  },
  {
   "cell_type": "code",
   "execution_count": 5,
   "metadata": {},
   "outputs": [],
   "source": [
    "dd = Config.derived_data_dir / \"graph\"\n",
    "\n",
    "dd.mkdir(exist_ok=True)\n",
    "\n",
    "df_graph.to_csv(dd / \"fs - graph.csv\", index=False)\n",
    "df_node.to_csv(dd / \"fs - node.csv\", index=False)\n",
    "df_edge.to_csv(dd / \"fs - edge.csv\", index=False)\n",
    "df_responders.to_csv(dd / \"fs - responders.csv\", index=False)\n"
   ]
  },
  {
   "cell_type": "markdown",
   "metadata": {},
   "source": [
    "### Graph Props\n",
    "\n",
    "Does the structure of inactions change between SW and Act?\n",
    "\n",
    "Metrics:\n",
    "- Average Clustering\n",
    "- Normalized Weight\n",
    "- SWP"
   ]
  },
  {
   "cell_type": "code",
   "execution_count": 6,
   "metadata": {},
   "outputs": [
    {
     "name": "stdout",
     "output_type": "stream",
     "text": [
      "\n",
      "avg_clust\n",
      " n_Pre         8.000000\n",
      "n_Shock       8.000000\n",
      "Mean_Pre      0.207434\n",
      "Mean_Shock    0.145398\n",
      "Diff         -0.062035\n",
      "U             2.075520\n",
      "p             0.076590\n",
      "dtype: float64\n",
      "\n",
      "avg_path_len\n",
      " n_Pre         8.000000\n",
      "n_Shock       8.000000\n",
      "Mean_Pre      1.117245\n",
      "Mean_Shock    1.159886\n",
      "Diff          0.042641\n",
      "U            -0.784071\n",
      "p             0.458704\n",
      "dtype: float64\n",
      "\n",
      "swp\n",
      " n_Pre         8.000000\n",
      "n_Shock       8.000000\n",
      "Mean_Pre      0.293525\n",
      "Mean_Shock    0.570399\n",
      "Diff          0.276874\n",
      "U            -3.508092\n",
      "p             0.009885\n",
      "dtype: float64\n"
     ]
    },
    {
     "data": {
      "image/png": "[encoded data removed]",
      "text/plain": [
       "<Figure size 324x64.8 with 3 Axes>"
      ]
     },
     "metadata": {
      "needs_background": "light"
     },
     "output_type": "display_data"
    }
   ],
   "source": [
    "from scipy.stats import ttest_rel\n",
    "\n",
    "def compare_graph(df, metric):\n",
    "    piv = df.pivot(index=\"session\", columns=\"block\", values=metric)\n",
    "    x = piv[\"Pre\"]\n",
    "    y = piv[\"Shock\"] \n",
    "    res = mannwhitneyu_plusplus(x, y, names=(\"Pre\", \"Shock\"), compare_f=ttest_rel)\n",
    "    return res\n",
    "\n",
    "def plot_graph(df, metric, ax=None, **kwargs):\n",
    "    pg.plot_paired(df, dv=metric, within=\"block\", subject=\"session\", ax=ax, **kwargs)\n",
    "    return \n",
    "\n",
    "\n",
    "dfg = (\n",
    "    load_derived_generic(\"graph/fs - graph.csv\")\n",
    "    .loc[lambda x: x.bin_width == 1]\n",
    "    .copy()\n",
    "    .assign(block=lambda x: np.where(x.block == \"pre\", \"Pre\", \"Shock\"))\n",
    "    .assign(block=lambda x: pd.Categorical(x.block, categories=[\"Pre\", \"Shock\"]))\n",
    ")\n",
    "\n",
    "\n",
    "f = plt.figure(figsize=(4.5, 0.9))\n",
    "\n",
    "axes = f.subplots(1, 3)\n",
    "\n",
    "for i, (metric, lab) in enumerate(zip(\n",
    "    (\"avg_clust\", \"avg_path_len\", \"swp\"), \n",
    "    (\"Mean Network\\nClustering\", \"Mean Network\\nPath Length\", \"Small-World\\nPropensity\")\n",
    "    )):\n",
    "    ax = axes[i]\n",
    "    ylim = (dfg[metric].min() * 0.8, dfg[metric].max() * 1.1)\n",
    "    ax.set_ylim(ylim)\n",
    "    res = compare_graph(dfg, metric)\n",
    "    print(f\"\\n{metric}\\n\", res)\n",
    "    plot_graph(dfg, metric,  ax=ax, pointplot_kwargs=dict(alpha=0.9,), dpi=300,  boxplot=False)\n",
    "    ax.set_title(lab, pad=20)\n",
    "    ax.set_ylabel(\"\")\n",
    "    ax.set_xlabel(\"\")\n",
    "    ax.set_xticklabels(ax.get_xticklabels(), rotation=45, ha=\"center\")\n",
    "\n",
    "\n",
    "f.subplots_adjust(wspace=0.3)\n",
    "f.savefig(fig_dir / \"fs - graph stats.png\", bbox_inches=\"tight\", dpi=300)"
   ]
  },
  {
   "cell_type": "markdown",
   "metadata": {},
   "source": [
    "### Node Props"
   ]
  },
  {
   "cell_type": "code",
   "execution_count": 27,
   "metadata": {},
   "outputs": [
    {
     "name": "stdout",
     "output_type": "stream",
     "text": [
      "degree\n",
      " n_Pre         258.000\n",
      "n_Shock       258.000\n",
      "Mean_Pre        0.156\n",
      "Mean_Shock      0.082\n",
      "Diff           -0.074\n",
      "U               0.331\n",
      "p               0.000\n",
      "dtype: float64\n",
      "\n",
      "clust\n",
      " n_Pre         258.000\n",
      "n_Shock       258.000\n",
      "Mean_Pre        0.208\n",
      "Mean_Shock      0.135\n",
      "Diff           -0.073\n",
      "U               0.265\n",
      "p               0.000\n",
      "dtype: float64\n"
     ]
    }
   ],
   "source": [
    "\n",
    "def node_correlate(df, metric):\n",
    "    piv = (\n",
    "        df\n",
    "        [[\"neuron_id\", \"block\", metric]]\n",
    "        .drop_duplicates()\n",
    "        .pivot(index=\"neuron_id\", columns=\"block\", values=metric)\n",
    "        .dropna()\n",
    "    )\n",
    "    x = piv[\"Pre\"]\n",
    "    y = piv[\"Shock\"]\n",
    "    res = mannwhitneyu_plusplus(x, y, names=(\"Pre\", \"Shock\"), compare_f=spearmanr).round(3)\n",
    "    return res\n",
    "\n",
    "dfn = (\n",
    "    load_derived_generic(\"graph/fs - node.csv\")\n",
    "    .loc[lambda x: x.bin_width == 1]\n",
    "    .copy()\n",
    "    .assign(block=lambda x: np.where(x.block == \"pre\", \"Pre\", \"Shock\"))\n",
    "    .assign(block=lambda x: pd.Categorical(x.block, categories=[\"Pre\", \"Shock\"]))\n",
    ")\n",
    "\n",
    "\n",
    "print(\"degree\\n\", node_correlate(dfn, \"degree\"))\n",
    "print(\"\\nclust\\n\", node_correlate(dfn, \"clust\"))"
   ]
  },
  {
   "cell_type": "code",
   "execution_count": 28,
   "metadata": {},
   "outputs": [
    {
     "name": "stdout",
     "output_type": "stream",
     "text": [
      "n_Pre         2044.000\n",
      "n_Shock       2044.000\n",
      "Mean_Pre         0.258\n",
      "Mean_Shock       0.137\n",
      "Diff            -0.121\n",
      "U                0.190\n",
      "p                0.000\n",
      "dtype: float64\n"
     ]
    }
   ],
   "source": [
    "def edge_correlate(df, metric):\n",
    "    piv = (\n",
    "        df\n",
    "        [[\"comb_id\", \"block\", metric]]\n",
    "        .drop_duplicates()\n",
    "        .pivot(index=\"comb_id\", columns=\"block\", values=metric)\n",
    "        .dropna()\n",
    "    )\n",
    "    x = piv[\"Pre\"]\n",
    "    y = piv[\"Shock\"]\n",
    "    res = mannwhitneyu_plusplus(x, y, names=(\"Pre\", \"Shock\"), compare_f=spearmanr).round(3)\n",
    "    return res\n",
    "\n",
    "dfe = (\n",
    "    load_derived_generic(\"graph/fs - edge.csv\")\n",
    "    .loc[lambda x: x.bin_width == 1]\n",
    "    .copy()\n",
    "    .assign(block=lambda x: np.where(x.block == \"pre\", \"Pre\", \"Shock\"))\n",
    "    .assign(block=lambda x: pd.Categorical(x.block, categories=[\"Pre\", \"Shock\"]))\n",
    ")\n",
    "\n",
    "print(edge_correlate(dfe, \"weight\"))"
   ]
  },
  {
   "cell_type": "code",
   "execution_count": null,
   "metadata": {},
   "outputs": [],
   "source": []
  }
 ],
 "metadata": {
  "kernelspec": {
   "display_name": "Python 3.8.13 ('drn38')",
   "language": "python",
   "name": "python3"
  },
  "language_info": {
   "codemirror_mode": {
    "name": "ipython",
    "version": 3
   },
   "file_extension": ".py",
   "mimetype": "text/x-python",
   "name": "python",
   "nbconvert_exporter": "python",
   "pygments_lexer": "ipython3",
   "version": "3.8.13"
  },
  "orig_nbformat": 4,
  "vscode": {
   "interpreter": {
    "hash": "83d85788087be4ab95a62fa43e95c13744f0a02d6feebc555b96a547158d0970"
   }
  }
 },
 "nbformat": 4,
 "nbformat_minor": 2
}
